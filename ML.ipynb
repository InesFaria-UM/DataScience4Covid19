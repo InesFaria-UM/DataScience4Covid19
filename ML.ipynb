{
 "cells": [
  {
   "cell_type": "markdown",
   "metadata": {},
   "source": [
    "<h1><center>Data Science for Covid19</center></h1>\n",
    "<center>Intelligent Systems For Bioinformatics</center>"
   ]
  },
  {
   "cell_type": "markdown",
   "metadata": {},
   "source": [
    "For this workflow it will be necessary import the following packages:"
   ]
  },
  {
   "cell_type": "code",
   "execution_count": 169,
   "metadata": {},
   "outputs": [],
   "source": [
    "import pandas as pd\n",
    "import numpy as np\n",
    "import matplotlib.pyplot as plt\n",
    "import seaborn as sns\n",
    "from sklearn import preprocessing\n",
    "from sklearn.model_selection import train_test_split, cross_validate, RandomizedSearchCV\n",
    "from sklearn.feature_selection import SelectKBest, f_regression\n",
    "from sklearn.pipeline import Pipeline\n",
    "\n",
    "from sklearn.ensemble import RandomForestClassifier\n",
    "from sklearn.svm import SVC\n",
    "from sklearn.ensemble import GradientBoostingClassifier\n",
    "from sklearn.metrics import accuracy_score, recall_score, precision_score, roc_auc_score\n",
    "\n",
    "import warnings\n",
    "warnings.filterwarnings('ignore') \n",
    "import pickle\n",
    "\n",
    "seed = 123\n",
    "np.random.seed(seed)"
   ]
  },
  {
   "cell_type": "markdown",
   "metadata": {},
   "source": [
    "The dataset \"Covid_Dataset.csv\" contains several symptoms and features associated to Covid-19 that were evaluated in 5434 different patients along with the testing result for this disease."
   ]
  },
  {
   "cell_type": "code",
   "execution_count": 170,
   "metadata": {},
   "outputs": [
    {
     "data": {
      "text/html": [
       "<div>\n",
       "<style scoped>\n",
       "    .dataframe tbody tr th:only-of-type {\n",
       "        vertical-align: middle;\n",
       "    }\n",
       "\n",
       "    .dataframe tbody tr th {\n",
       "        vertical-align: top;\n",
       "    }\n",
       "\n",
       "    .dataframe thead th {\n",
       "        text-align: right;\n",
       "    }\n",
       "</style>\n",
       "<table border=\"1\" class=\"dataframe\">\n",
       "  <thead>\n",
       "    <tr style=\"text-align: right;\">\n",
       "      <th></th>\n",
       "      <th>Breathing Problem</th>\n",
       "      <th>Fever</th>\n",
       "      <th>Dry Cough</th>\n",
       "      <th>Sore throat</th>\n",
       "      <th>Running Nose</th>\n",
       "      <th>Asthma</th>\n",
       "      <th>Chronic Lung Disease</th>\n",
       "      <th>Headache</th>\n",
       "      <th>Heart Disease</th>\n",
       "      <th>Diabetes</th>\n",
       "      <th>...</th>\n",
       "      <th>Fatigue</th>\n",
       "      <th>Gastrointestinal</th>\n",
       "      <th>Abroad travel</th>\n",
       "      <th>Contact with COVID Patient</th>\n",
       "      <th>Attended Large Gathering</th>\n",
       "      <th>Visited Public Exposed Places</th>\n",
       "      <th>Family working in Public Exposed Places</th>\n",
       "      <th>Wearing Masks</th>\n",
       "      <th>Sanitization from Market</th>\n",
       "      <th>COVID-19</th>\n",
       "    </tr>\n",
       "  </thead>\n",
       "  <tbody>\n",
       "    <tr>\n",
       "      <th>0</th>\n",
       "      <td>Yes</td>\n",
       "      <td>Yes</td>\n",
       "      <td>Yes</td>\n",
       "      <td>Yes</td>\n",
       "      <td>Yes</td>\n",
       "      <td>No</td>\n",
       "      <td>No</td>\n",
       "      <td>No</td>\n",
       "      <td>No</td>\n",
       "      <td>Yes</td>\n",
       "      <td>...</td>\n",
       "      <td>Yes</td>\n",
       "      <td>Yes</td>\n",
       "      <td>No</td>\n",
       "      <td>Yes</td>\n",
       "      <td>No</td>\n",
       "      <td>Yes</td>\n",
       "      <td>Yes</td>\n",
       "      <td>No</td>\n",
       "      <td>No</td>\n",
       "      <td>Yes</td>\n",
       "    </tr>\n",
       "    <tr>\n",
       "      <th>1</th>\n",
       "      <td>Yes</td>\n",
       "      <td>Yes</td>\n",
       "      <td>Yes</td>\n",
       "      <td>Yes</td>\n",
       "      <td>No</td>\n",
       "      <td>Yes</td>\n",
       "      <td>Yes</td>\n",
       "      <td>Yes</td>\n",
       "      <td>No</td>\n",
       "      <td>No</td>\n",
       "      <td>...</td>\n",
       "      <td>Yes</td>\n",
       "      <td>No</td>\n",
       "      <td>No</td>\n",
       "      <td>No</td>\n",
       "      <td>Yes</td>\n",
       "      <td>Yes</td>\n",
       "      <td>No</td>\n",
       "      <td>No</td>\n",
       "      <td>No</td>\n",
       "      <td>Yes</td>\n",
       "    </tr>\n",
       "    <tr>\n",
       "      <th>2</th>\n",
       "      <td>Yes</td>\n",
       "      <td>Yes</td>\n",
       "      <td>Yes</td>\n",
       "      <td>Yes</td>\n",
       "      <td>Yes</td>\n",
       "      <td>Yes</td>\n",
       "      <td>Yes</td>\n",
       "      <td>Yes</td>\n",
       "      <td>No</td>\n",
       "      <td>Yes</td>\n",
       "      <td>...</td>\n",
       "      <td>Yes</td>\n",
       "      <td>Yes</td>\n",
       "      <td>Yes</td>\n",
       "      <td>No</td>\n",
       "      <td>No</td>\n",
       "      <td>No</td>\n",
       "      <td>No</td>\n",
       "      <td>No</td>\n",
       "      <td>No</td>\n",
       "      <td>Yes</td>\n",
       "    </tr>\n",
       "    <tr>\n",
       "      <th>3</th>\n",
       "      <td>Yes</td>\n",
       "      <td>Yes</td>\n",
       "      <td>Yes</td>\n",
       "      <td>No</td>\n",
       "      <td>No</td>\n",
       "      <td>Yes</td>\n",
       "      <td>No</td>\n",
       "      <td>No</td>\n",
       "      <td>Yes</td>\n",
       "      <td>Yes</td>\n",
       "      <td>...</td>\n",
       "      <td>No</td>\n",
       "      <td>No</td>\n",
       "      <td>Yes</td>\n",
       "      <td>No</td>\n",
       "      <td>Yes</td>\n",
       "      <td>Yes</td>\n",
       "      <td>No</td>\n",
       "      <td>No</td>\n",
       "      <td>No</td>\n",
       "      <td>Yes</td>\n",
       "    </tr>\n",
       "    <tr>\n",
       "      <th>4</th>\n",
       "      <td>Yes</td>\n",
       "      <td>Yes</td>\n",
       "      <td>Yes</td>\n",
       "      <td>Yes</td>\n",
       "      <td>Yes</td>\n",
       "      <td>No</td>\n",
       "      <td>Yes</td>\n",
       "      <td>Yes</td>\n",
       "      <td>Yes</td>\n",
       "      <td>Yes</td>\n",
       "      <td>...</td>\n",
       "      <td>No</td>\n",
       "      <td>Yes</td>\n",
       "      <td>No</td>\n",
       "      <td>Yes</td>\n",
       "      <td>No</td>\n",
       "      <td>Yes</td>\n",
       "      <td>No</td>\n",
       "      <td>No</td>\n",
       "      <td>No</td>\n",
       "      <td>Yes</td>\n",
       "    </tr>\n",
       "    <tr>\n",
       "      <th>...</th>\n",
       "      <td>...</td>\n",
       "      <td>...</td>\n",
       "      <td>...</td>\n",
       "      <td>...</td>\n",
       "      <td>...</td>\n",
       "      <td>...</td>\n",
       "      <td>...</td>\n",
       "      <td>...</td>\n",
       "      <td>...</td>\n",
       "      <td>...</td>\n",
       "      <td>...</td>\n",
       "      <td>...</td>\n",
       "      <td>...</td>\n",
       "      <td>...</td>\n",
       "      <td>...</td>\n",
       "      <td>...</td>\n",
       "      <td>...</td>\n",
       "      <td>...</td>\n",
       "      <td>...</td>\n",
       "      <td>...</td>\n",
       "      <td>...</td>\n",
       "    </tr>\n",
       "    <tr>\n",
       "      <th>5429</th>\n",
       "      <td>Yes</td>\n",
       "      <td>Yes</td>\n",
       "      <td>No</td>\n",
       "      <td>Yes</td>\n",
       "      <td>Yes</td>\n",
       "      <td>Yes</td>\n",
       "      <td>Yes</td>\n",
       "      <td>No</td>\n",
       "      <td>No</td>\n",
       "      <td>No</td>\n",
       "      <td>...</td>\n",
       "      <td>Yes</td>\n",
       "      <td>Yes</td>\n",
       "      <td>No</td>\n",
       "      <td>No</td>\n",
       "      <td>No</td>\n",
       "      <td>No</td>\n",
       "      <td>No</td>\n",
       "      <td>No</td>\n",
       "      <td>No</td>\n",
       "      <td>Yes</td>\n",
       "    </tr>\n",
       "    <tr>\n",
       "      <th>5430</th>\n",
       "      <td>Yes</td>\n",
       "      <td>Yes</td>\n",
       "      <td>Yes</td>\n",
       "      <td>No</td>\n",
       "      <td>Yes</td>\n",
       "      <td>Yes</td>\n",
       "      <td>No</td>\n",
       "      <td>Yes</td>\n",
       "      <td>No</td>\n",
       "      <td>Yes</td>\n",
       "      <td>...</td>\n",
       "      <td>Yes</td>\n",
       "      <td>No</td>\n",
       "      <td>No</td>\n",
       "      <td>No</td>\n",
       "      <td>No</td>\n",
       "      <td>No</td>\n",
       "      <td>No</td>\n",
       "      <td>No</td>\n",
       "      <td>No</td>\n",
       "      <td>Yes</td>\n",
       "    </tr>\n",
       "    <tr>\n",
       "      <th>5431</th>\n",
       "      <td>Yes</td>\n",
       "      <td>Yes</td>\n",
       "      <td>Yes</td>\n",
       "      <td>No</td>\n",
       "      <td>No</td>\n",
       "      <td>No</td>\n",
       "      <td>No</td>\n",
       "      <td>No</td>\n",
       "      <td>Yes</td>\n",
       "      <td>No</td>\n",
       "      <td>...</td>\n",
       "      <td>No</td>\n",
       "      <td>No</td>\n",
       "      <td>No</td>\n",
       "      <td>No</td>\n",
       "      <td>No</td>\n",
       "      <td>No</td>\n",
       "      <td>No</td>\n",
       "      <td>No</td>\n",
       "      <td>No</td>\n",
       "      <td>No</td>\n",
       "    </tr>\n",
       "    <tr>\n",
       "      <th>5432</th>\n",
       "      <td>Yes</td>\n",
       "      <td>Yes</td>\n",
       "      <td>Yes</td>\n",
       "      <td>No</td>\n",
       "      <td>Yes</td>\n",
       "      <td>No</td>\n",
       "      <td>No</td>\n",
       "      <td>Yes</td>\n",
       "      <td>Yes</td>\n",
       "      <td>No</td>\n",
       "      <td>...</td>\n",
       "      <td>No</td>\n",
       "      <td>No</td>\n",
       "      <td>No</td>\n",
       "      <td>No</td>\n",
       "      <td>No</td>\n",
       "      <td>No</td>\n",
       "      <td>No</td>\n",
       "      <td>No</td>\n",
       "      <td>No</td>\n",
       "      <td>No</td>\n",
       "    </tr>\n",
       "    <tr>\n",
       "      <th>5433</th>\n",
       "      <td>Yes</td>\n",
       "      <td>Yes</td>\n",
       "      <td>Yes</td>\n",
       "      <td>No</td>\n",
       "      <td>Yes</td>\n",
       "      <td>Yes</td>\n",
       "      <td>No</td>\n",
       "      <td>Yes</td>\n",
       "      <td>No</td>\n",
       "      <td>Yes</td>\n",
       "      <td>...</td>\n",
       "      <td>Yes</td>\n",
       "      <td>No</td>\n",
       "      <td>No</td>\n",
       "      <td>No</td>\n",
       "      <td>No</td>\n",
       "      <td>No</td>\n",
       "      <td>No</td>\n",
       "      <td>No</td>\n",
       "      <td>No</td>\n",
       "      <td>No</td>\n",
       "    </tr>\n",
       "  </tbody>\n",
       "</table>\n",
       "<p>5434 rows × 21 columns</p>\n",
       "</div>"
      ],
      "text/plain": [
       "     Breathing Problem Fever Dry Cough Sore throat Running Nose Asthma  \\\n",
       "0                  Yes   Yes       Yes         Yes          Yes     No   \n",
       "1                  Yes   Yes       Yes         Yes           No    Yes   \n",
       "2                  Yes   Yes       Yes         Yes          Yes    Yes   \n",
       "3                  Yes   Yes       Yes          No           No    Yes   \n",
       "4                  Yes   Yes       Yes         Yes          Yes     No   \n",
       "...                ...   ...       ...         ...          ...    ...   \n",
       "5429               Yes   Yes        No         Yes          Yes    Yes   \n",
       "5430               Yes   Yes       Yes          No          Yes    Yes   \n",
       "5431               Yes   Yes       Yes          No           No     No   \n",
       "5432               Yes   Yes       Yes          No          Yes     No   \n",
       "5433               Yes   Yes       Yes          No          Yes    Yes   \n",
       "\n",
       "     Chronic Lung Disease Headache Heart Disease Diabetes  ... Fatigue   \\\n",
       "0                      No       No            No      Yes  ...      Yes   \n",
       "1                     Yes      Yes            No       No  ...      Yes   \n",
       "2                     Yes      Yes            No      Yes  ...      Yes   \n",
       "3                      No       No           Yes      Yes  ...       No   \n",
       "4                     Yes      Yes           Yes      Yes  ...       No   \n",
       "...                   ...      ...           ...      ...  ...      ...   \n",
       "5429                  Yes       No            No       No  ...      Yes   \n",
       "5430                   No      Yes            No      Yes  ...      Yes   \n",
       "5431                   No       No           Yes       No  ...       No   \n",
       "5432                   No      Yes           Yes       No  ...       No   \n",
       "5433                   No      Yes            No      Yes  ...      Yes   \n",
       "\n",
       "     Gastrointestinal  Abroad travel Contact with COVID Patient  \\\n",
       "0                  Yes            No                        Yes   \n",
       "1                   No            No                         No   \n",
       "2                  Yes           Yes                         No   \n",
       "3                   No           Yes                         No   \n",
       "4                  Yes            No                        Yes   \n",
       "...                ...           ...                        ...   \n",
       "5429               Yes            No                         No   \n",
       "5430                No            No                         No   \n",
       "5431                No            No                         No   \n",
       "5432                No            No                         No   \n",
       "5433                No            No                         No   \n",
       "\n",
       "     Attended Large Gathering Visited Public Exposed Places  \\\n",
       "0                          No                           Yes   \n",
       "1                         Yes                           Yes   \n",
       "2                          No                            No   \n",
       "3                         Yes                           Yes   \n",
       "4                          No                           Yes   \n",
       "...                       ...                           ...   \n",
       "5429                       No                            No   \n",
       "5430                       No                            No   \n",
       "5431                       No                            No   \n",
       "5432                       No                            No   \n",
       "5433                       No                            No   \n",
       "\n",
       "     Family working in Public Exposed Places Wearing Masks  \\\n",
       "0                                        Yes            No   \n",
       "1                                         No            No   \n",
       "2                                         No            No   \n",
       "3                                         No            No   \n",
       "4                                         No            No   \n",
       "...                                      ...           ...   \n",
       "5429                                      No            No   \n",
       "5430                                      No            No   \n",
       "5431                                      No            No   \n",
       "5432                                      No            No   \n",
       "5433                                      No            No   \n",
       "\n",
       "     Sanitization from Market COVID-19  \n",
       "0                          No      Yes  \n",
       "1                          No      Yes  \n",
       "2                          No      Yes  \n",
       "3                          No      Yes  \n",
       "4                          No      Yes  \n",
       "...                       ...      ...  \n",
       "5429                       No      Yes  \n",
       "5430                       No      Yes  \n",
       "5431                       No       No  \n",
       "5432                       No       No  \n",
       "5433                       No       No  \n",
       "\n",
       "[5434 rows x 21 columns]"
      ]
     },
     "execution_count": 170,
     "metadata": {},
     "output_type": "execute_result"
    }
   ],
   "source": [
    "dataset = pd.read_csv(\"Covid_Dataset.csv\")\n",
    "dataset"
   ]
  },
  {
   "cell_type": "code",
   "execution_count": 171,
   "metadata": {
    "scrolled": false
   },
   "outputs": [
    {
     "name": "stdout",
     "output_type": "stream",
     "text": [
      "Number of samples: 5434\n",
      "Number of features: 21\n",
      "Number of NAs: 0\n"
     ]
    }
   ],
   "source": [
    "print(\"Number of samples: \" + str(dataset.shape[0]))\n",
    "print(\"Number of features: \" + str(dataset.shape[1]))\n",
    "print(\"Number of NAs: \" + str(sum(dataset.isna().sum())))"
   ]
  },
  {
   "cell_type": "markdown",
   "metadata": {},
   "source": [
    "The features evaluated for all the patients are:"
   ]
  },
  {
   "cell_type": "code",
   "execution_count": 172,
   "metadata": {
    "scrolled": true
   },
   "outputs": [
    {
     "name": "stdout",
     "output_type": "stream",
     "text": [
      "Breathing Problem\n",
      "Fever\n",
      "Dry Cough\n",
      "Sore throat\n",
      "Running Nose\n",
      "Asthma\n",
      "Chronic Lung Disease\n",
      "Headache\n",
      "Heart Disease\n",
      "Diabetes\n",
      "Hyper Tension\n",
      "Fatigue \n",
      "Gastrointestinal \n",
      "Abroad travel\n",
      "Contact with COVID Patient\n",
      "Attended Large Gathering\n",
      "Visited Public Exposed Places\n",
      "Family working in Public Exposed Places\n",
      "Wearing Masks\n",
      "Sanitization from Market\n",
      "COVID-19\n"
     ]
    }
   ],
   "source": [
    "for col in dataset.columns:\n",
    "    print(col)"
   ]
  },
  {
   "cell_type": "markdown",
   "metadata": {},
   "source": [
    "Check for NAs on dataset "
   ]
  },
  {
   "cell_type": "code",
   "execution_count": 173,
   "metadata": {},
   "outputs": [
    {
     "data": {
      "text/plain": [
       "Breathing Problem                          0\n",
       "Fever                                      0\n",
       "Dry Cough                                  0\n",
       "Sore throat                                0\n",
       "Running Nose                               0\n",
       "Asthma                                     0\n",
       "Chronic Lung Disease                       0\n",
       "Headache                                   0\n",
       "Heart Disease                              0\n",
       "Diabetes                                   0\n",
       "Hyper Tension                              0\n",
       "Fatigue                                    0\n",
       "Gastrointestinal                           0\n",
       "Abroad travel                              0\n",
       "Contact with COVID Patient                 0\n",
       "Attended Large Gathering                   0\n",
       "Visited Public Exposed Places              0\n",
       "Family working in Public Exposed Places    0\n",
       "Wearing Masks                              0\n",
       "Sanitization from Market                   0\n",
       "COVID-19                                   0\n",
       "dtype: int64"
      ]
     },
     "execution_count": 173,
     "metadata": {},
     "output_type": "execute_result"
    }
   ],
   "source": [
    "dataset.isna().sum()"
   ]
  },
  {
   "cell_type": "code",
   "execution_count": 174,
   "metadata": {},
   "outputs": [
    {
     "data": {
      "text/html": [
       "<div>\n",
       "<style scoped>\n",
       "    .dataframe tbody tr th:only-of-type {\n",
       "        vertical-align: middle;\n",
       "    }\n",
       "\n",
       "    .dataframe tbody tr th {\n",
       "        vertical-align: top;\n",
       "    }\n",
       "\n",
       "    .dataframe thead th {\n",
       "        text-align: right;\n",
       "    }\n",
       "</style>\n",
       "<table border=\"1\" class=\"dataframe\">\n",
       "  <thead>\n",
       "    <tr style=\"text-align: right;\">\n",
       "      <th></th>\n",
       "      <th>Breathing Problem</th>\n",
       "      <th>Fever</th>\n",
       "      <th>Dry Cough</th>\n",
       "      <th>Sore throat</th>\n",
       "      <th>Running Nose</th>\n",
       "      <th>Asthma</th>\n",
       "      <th>Chronic Lung Disease</th>\n",
       "      <th>Headache</th>\n",
       "      <th>Heart Disease</th>\n",
       "      <th>Diabetes</th>\n",
       "      <th>...</th>\n",
       "      <th>Fatigue</th>\n",
       "      <th>Gastrointestinal</th>\n",
       "      <th>Abroad travel</th>\n",
       "      <th>Contact with COVID Patient</th>\n",
       "      <th>Attended Large Gathering</th>\n",
       "      <th>Visited Public Exposed Places</th>\n",
       "      <th>Family working in Public Exposed Places</th>\n",
       "      <th>Wearing Masks</th>\n",
       "      <th>Sanitization from Market</th>\n",
       "      <th>COVID-19</th>\n",
       "    </tr>\n",
       "  </thead>\n",
       "  <tbody>\n",
       "    <tr>\n",
       "      <th>count</th>\n",
       "      <td>5434</td>\n",
       "      <td>5434</td>\n",
       "      <td>5434</td>\n",
       "      <td>5434</td>\n",
       "      <td>5434</td>\n",
       "      <td>5434</td>\n",
       "      <td>5434</td>\n",
       "      <td>5434</td>\n",
       "      <td>5434</td>\n",
       "      <td>5434</td>\n",
       "      <td>...</td>\n",
       "      <td>5434</td>\n",
       "      <td>5434</td>\n",
       "      <td>5434</td>\n",
       "      <td>5434</td>\n",
       "      <td>5434</td>\n",
       "      <td>5434</td>\n",
       "      <td>5434</td>\n",
       "      <td>5434</td>\n",
       "      <td>5434</td>\n",
       "      <td>5434</td>\n",
       "    </tr>\n",
       "    <tr>\n",
       "      <th>unique</th>\n",
       "      <td>2</td>\n",
       "      <td>2</td>\n",
       "      <td>2</td>\n",
       "      <td>2</td>\n",
       "      <td>2</td>\n",
       "      <td>2</td>\n",
       "      <td>2</td>\n",
       "      <td>2</td>\n",
       "      <td>2</td>\n",
       "      <td>2</td>\n",
       "      <td>...</td>\n",
       "      <td>2</td>\n",
       "      <td>2</td>\n",
       "      <td>2</td>\n",
       "      <td>2</td>\n",
       "      <td>2</td>\n",
       "      <td>2</td>\n",
       "      <td>2</td>\n",
       "      <td>1</td>\n",
       "      <td>1</td>\n",
       "      <td>2</td>\n",
       "    </tr>\n",
       "    <tr>\n",
       "      <th>top</th>\n",
       "      <td>Yes</td>\n",
       "      <td>Yes</td>\n",
       "      <td>Yes</td>\n",
       "      <td>Yes</td>\n",
       "      <td>Yes</td>\n",
       "      <td>No</td>\n",
       "      <td>No</td>\n",
       "      <td>Yes</td>\n",
       "      <td>No</td>\n",
       "      <td>No</td>\n",
       "      <td>...</td>\n",
       "      <td>Yes</td>\n",
       "      <td>No</td>\n",
       "      <td>No</td>\n",
       "      <td>Yes</td>\n",
       "      <td>No</td>\n",
       "      <td>Yes</td>\n",
       "      <td>No</td>\n",
       "      <td>No</td>\n",
       "      <td>No</td>\n",
       "      <td>Yes</td>\n",
       "    </tr>\n",
       "    <tr>\n",
       "      <th>freq</th>\n",
       "      <td>3620</td>\n",
       "      <td>4273</td>\n",
       "      <td>4307</td>\n",
       "      <td>3953</td>\n",
       "      <td>2952</td>\n",
       "      <td>2920</td>\n",
       "      <td>2869</td>\n",
       "      <td>2736</td>\n",
       "      <td>2911</td>\n",
       "      <td>2846</td>\n",
       "      <td>...</td>\n",
       "      <td>2821</td>\n",
       "      <td>2883</td>\n",
       "      <td>2983</td>\n",
       "      <td>2726</td>\n",
       "      <td>2924</td>\n",
       "      <td>2820</td>\n",
       "      <td>3172</td>\n",
       "      <td>5434</td>\n",
       "      <td>5434</td>\n",
       "      <td>4383</td>\n",
       "    </tr>\n",
       "  </tbody>\n",
       "</table>\n",
       "<p>4 rows × 21 columns</p>\n",
       "</div>"
      ],
      "text/plain": [
       "       Breathing Problem Fever Dry Cough Sore throat Running Nose Asthma  \\\n",
       "count               5434  5434      5434        5434         5434   5434   \n",
       "unique                 2     2         2           2            2      2   \n",
       "top                  Yes   Yes       Yes         Yes          Yes     No   \n",
       "freq                3620  4273      4307        3953         2952   2920   \n",
       "\n",
       "       Chronic Lung Disease Headache Heart Disease Diabetes  ... Fatigue   \\\n",
       "count                  5434     5434          5434     5434  ...     5434   \n",
       "unique                    2        2             2        2  ...        2   \n",
       "top                      No      Yes            No       No  ...      Yes   \n",
       "freq                   2869     2736          2911     2846  ...     2821   \n",
       "\n",
       "       Gastrointestinal  Abroad travel Contact with COVID Patient  \\\n",
       "count               5434          5434                       5434   \n",
       "unique                 2             2                          2   \n",
       "top                   No            No                        Yes   \n",
       "freq                2883          2983                       2726   \n",
       "\n",
       "       Attended Large Gathering Visited Public Exposed Places  \\\n",
       "count                      5434                          5434   \n",
       "unique                        2                             2   \n",
       "top                          No                           Yes   \n",
       "freq                       2924                          2820   \n",
       "\n",
       "       Family working in Public Exposed Places Wearing Masks  \\\n",
       "count                                     5434          5434   \n",
       "unique                                       2             1   \n",
       "top                                         No            No   \n",
       "freq                                      3172          5434   \n",
       "\n",
       "       Sanitization from Market COVID-19  \n",
       "count                      5434     5434  \n",
       "unique                        1        2  \n",
       "top                          No      Yes  \n",
       "freq                       5434     4383  \n",
       "\n",
       "[4 rows x 21 columns]"
      ]
     },
     "execution_count": 174,
     "metadata": {},
     "output_type": "execute_result"
    }
   ],
   "source": [
    "dataset.describe()"
   ]
  },
  {
   "cell_type": "markdown",
   "metadata": {},
   "source": [
    "Assessing the number of Covid-19 cases, we can conclude that there are around 4383 while the negative cases are around 1051. Graphically it is possible to visualize this distribution of values."
   ]
  },
  {
   "cell_type": "code",
   "execution_count": 175,
   "metadata": {},
   "outputs": [
    {
     "data": {
      "image/png": "[encoded data removed]",
      "text/plain": [
       "<Figure size 1080x288 with 2 Axes>"
      ]
     },
     "metadata": {
      "needs_background": "light"
     },
     "output_type": "display_data"
    }
   ],
   "source": [
    "sns.set_palette(sns.color_palette(['teal', 'lightslategrey']))\n",
    "fig, (ax1, ax2) = plt.subplots(1,2, figsize=(15,4))\n",
    "sns.countplot(x='COVID-19', data=dataset, ax=ax1)\n",
    "\n",
    "covid = dataset[\"COVID-19\"].value_counts()\n",
    "ax2.pie(covid, labels=covid.index, explode=[0.1,0.1],autopct='%1.1f%%',shadow=True, colors=['teal', 'lightslategrey'])\n",
    "ax2.set_title('Number of cases');"
   ]
  },
  {
   "cell_type": "markdown",
   "metadata": {},
   "source": [
    "In the graphs below, it is possible to see the relationship between the presence of symptoms such as Fever or Dry Cough with the positivity of the Covid-19 test."
   ]
  },
  {
   "cell_type": "code",
   "execution_count": 176,
   "metadata": {},
   "outputs": [
    {
     "data": {
      "image/png": "[encoded data removed]",
      "text/plain": [
       "<Figure size 1080x288 with 2 Axes>"
      ]
     },
     "metadata": {
      "needs_background": "light"
     },
     "output_type": "display_data"
    }
   ],
   "source": [
    "fig, (ax1, ax2) = plt.subplots(1,2, figsize=(15,4))\n",
    "sns.countplot(x='Dry Cough',hue='COVID-19',data=dataset, ax=ax1)\n",
    "\n",
    "sns.countplot(x='Fever',hue='COVID-19',data=dataset, ax=ax2);"
   ]
  },
  {
   "cell_type": "markdown",
   "metadata": {},
   "source": [
    "The relations between patients routine and the positivity of Covid-19 were then evaluated. Among them are Contact with COVID patients, Family working in Public Exposed Places, Attended Large Gathering and Abroad travel."
   ]
  },
  {
   "cell_type": "code",
   "execution_count": 177,
   "metadata": {},
   "outputs": [
    {
     "data": {
      "image/png": "[encoded data removed]",
      "text/plain": [
       "<Figure size 1080x720 with 4 Axes>"
      ]
     },
     "metadata": {
      "needs_background": "light"
     },
     "output_type": "display_data"
    }
   ],
   "source": [
    "fig, ((ax1, ax2), (ax3, ax4)) = plt.subplots(2, 2, figsize=(15,10))\n",
    "sns.countplot(x='Contact with COVID Patient',hue='COVID-19',data=dataset, ax=ax1)\n",
    "\n",
    "sns.countplot(x='Family working in Public Exposed Places',hue='COVID-19',data=dataset, ax=ax2)\n",
    "\n",
    "sns.countplot(x='Attended Large Gathering',hue='COVID-19',data=dataset, ax=ax3)\n",
    "\n",
    "sns.countplot(x='Abroad travel',hue='COVID-19',data=dataset, ax=ax4);"
   ]
  },
  {
   "cell_type": "markdown",
   "metadata": {},
   "source": [
    "Once the variables were all \"Yes\" or \"No\", we transform the variables into binary using LabelEncoder from ScikitLearn."
   ]
  },
  {
   "cell_type": "code",
   "execution_count": 178,
   "metadata": {},
   "outputs": [
    {
     "data": {
      "text/html": [
       "<div>\n",
       "<style scoped>\n",
       "    .dataframe tbody tr th:only-of-type {\n",
       "        vertical-align: middle;\n",
       "    }\n",
       "\n",
       "    .dataframe tbody tr th {\n",
       "        vertical-align: top;\n",
       "    }\n",
       "\n",
       "    .dataframe thead th {\n",
       "        text-align: right;\n",
       "    }\n",
       "</style>\n",
       "<table border=\"1\" class=\"dataframe\">\n",
       "  <thead>\n",
       "    <tr style=\"text-align: right;\">\n",
       "      <th></th>\n",
       "      <th>Breathing Problem</th>\n",
       "      <th>Fever</th>\n",
       "      <th>Dry Cough</th>\n",
       "      <th>Sore throat</th>\n",
       "      <th>Running Nose</th>\n",
       "      <th>Asthma</th>\n",
       "      <th>Chronic Lung Disease</th>\n",
       "      <th>Headache</th>\n",
       "      <th>Heart Disease</th>\n",
       "      <th>Diabetes</th>\n",
       "      <th>...</th>\n",
       "      <th>Fatigue</th>\n",
       "      <th>Gastrointestinal</th>\n",
       "      <th>Abroad travel</th>\n",
       "      <th>Contact with COVID Patient</th>\n",
       "      <th>Attended Large Gathering</th>\n",
       "      <th>Visited Public Exposed Places</th>\n",
       "      <th>Family working in Public Exposed Places</th>\n",
       "      <th>Wearing Masks</th>\n",
       "      <th>Sanitization from Market</th>\n",
       "      <th>COVID-19</th>\n",
       "    </tr>\n",
       "  </thead>\n",
       "  <tbody>\n",
       "    <tr>\n",
       "      <th>0</th>\n",
       "      <td>1</td>\n",
       "      <td>1</td>\n",
       "      <td>1</td>\n",
       "      <td>1</td>\n",
       "      <td>1</td>\n",
       "      <td>0</td>\n",
       "      <td>0</td>\n",
       "      <td>0</td>\n",
       "      <td>0</td>\n",
       "      <td>1</td>\n",
       "      <td>...</td>\n",
       "      <td>1</td>\n",
       "      <td>1</td>\n",
       "      <td>0</td>\n",
       "      <td>1</td>\n",
       "      <td>0</td>\n",
       "      <td>1</td>\n",
       "      <td>1</td>\n",
       "      <td>0</td>\n",
       "      <td>0</td>\n",
       "      <td>1</td>\n",
       "    </tr>\n",
       "    <tr>\n",
       "      <th>1</th>\n",
       "      <td>1</td>\n",
       "      <td>1</td>\n",
       "      <td>1</td>\n",
       "      <td>1</td>\n",
       "      <td>0</td>\n",
       "      <td>1</td>\n",
       "      <td>1</td>\n",
       "      <td>1</td>\n",
       "      <td>0</td>\n",
       "      <td>0</td>\n",
       "      <td>...</td>\n",
       "      <td>1</td>\n",
       "      <td>0</td>\n",
       "      <td>0</td>\n",
       "      <td>0</td>\n",
       "      <td>1</td>\n",
       "      <td>1</td>\n",
       "      <td>0</td>\n",
       "      <td>0</td>\n",
       "      <td>0</td>\n",
       "      <td>1</td>\n",
       "    </tr>\n",
       "    <tr>\n",
       "      <th>2</th>\n",
       "      <td>1</td>\n",
       "      <td>1</td>\n",
       "      <td>1</td>\n",
       "      <td>1</td>\n",
       "      <td>1</td>\n",
       "      <td>1</td>\n",
       "      <td>1</td>\n",
       "      <td>1</td>\n",
       "      <td>0</td>\n",
       "      <td>1</td>\n",
       "      <td>...</td>\n",
       "      <td>1</td>\n",
       "      <td>1</td>\n",
       "      <td>1</td>\n",
       "      <td>0</td>\n",
       "      <td>0</td>\n",
       "      <td>0</td>\n",
       "      <td>0</td>\n",
       "      <td>0</td>\n",
       "      <td>0</td>\n",
       "      <td>1</td>\n",
       "    </tr>\n",
       "    <tr>\n",
       "      <th>3</th>\n",
       "      <td>1</td>\n",
       "      <td>1</td>\n",
       "      <td>1</td>\n",
       "      <td>0</td>\n",
       "      <td>0</td>\n",
       "      <td>1</td>\n",
       "      <td>0</td>\n",
       "      <td>0</td>\n",
       "      <td>1</td>\n",
       "      <td>1</td>\n",
       "      <td>...</td>\n",
       "      <td>0</td>\n",
       "      <td>0</td>\n",
       "      <td>1</td>\n",
       "      <td>0</td>\n",
       "      <td>1</td>\n",
       "      <td>1</td>\n",
       "      <td>0</td>\n",
       "      <td>0</td>\n",
       "      <td>0</td>\n",
       "      <td>1</td>\n",
       "    </tr>\n",
       "    <tr>\n",
       "      <th>4</th>\n",
       "      <td>1</td>\n",
       "      <td>1</td>\n",
       "      <td>1</td>\n",
       "      <td>1</td>\n",
       "      <td>1</td>\n",
       "      <td>0</td>\n",
       "      <td>1</td>\n",
       "      <td>1</td>\n",
       "      <td>1</td>\n",
       "      <td>1</td>\n",
       "      <td>...</td>\n",
       "      <td>0</td>\n",
       "      <td>1</td>\n",
       "      <td>0</td>\n",
       "      <td>1</td>\n",
       "      <td>0</td>\n",
       "      <td>1</td>\n",
       "      <td>0</td>\n",
       "      <td>0</td>\n",
       "      <td>0</td>\n",
       "      <td>1</td>\n",
       "    </tr>\n",
       "    <tr>\n",
       "      <th>...</th>\n",
       "      <td>...</td>\n",
       "      <td>...</td>\n",
       "      <td>...</td>\n",
       "      <td>...</td>\n",
       "      <td>...</td>\n",
       "      <td>...</td>\n",
       "      <td>...</td>\n",
       "      <td>...</td>\n",
       "      <td>...</td>\n",
       "      <td>...</td>\n",
       "      <td>...</td>\n",
       "      <td>...</td>\n",
       "      <td>...</td>\n",
       "      <td>...</td>\n",
       "      <td>...</td>\n",
       "      <td>...</td>\n",
       "      <td>...</td>\n",
       "      <td>...</td>\n",
       "      <td>...</td>\n",
       "      <td>...</td>\n",
       "      <td>...</td>\n",
       "    </tr>\n",
       "    <tr>\n",
       "      <th>5429</th>\n",
       "      <td>1</td>\n",
       "      <td>1</td>\n",
       "      <td>0</td>\n",
       "      <td>1</td>\n",
       "      <td>1</td>\n",
       "      <td>1</td>\n",
       "      <td>1</td>\n",
       "      <td>0</td>\n",
       "      <td>0</td>\n",
       "      <td>0</td>\n",
       "      <td>...</td>\n",
       "      <td>1</td>\n",
       "      <td>1</td>\n",
       "      <td>0</td>\n",
       "      <td>0</td>\n",
       "      <td>0</td>\n",
       "      <td>0</td>\n",
       "      <td>0</td>\n",
       "      <td>0</td>\n",
       "      <td>0</td>\n",
       "      <td>1</td>\n",
       "    </tr>\n",
       "    <tr>\n",
       "      <th>5430</th>\n",
       "      <td>1</td>\n",
       "      <td>1</td>\n",
       "      <td>1</td>\n",
       "      <td>0</td>\n",
       "      <td>1</td>\n",
       "      <td>1</td>\n",
       "      <td>0</td>\n",
       "      <td>1</td>\n",
       "      <td>0</td>\n",
       "      <td>1</td>\n",
       "      <td>...</td>\n",
       "      <td>1</td>\n",
       "      <td>0</td>\n",
       "      <td>0</td>\n",
       "      <td>0</td>\n",
       "      <td>0</td>\n",
       "      <td>0</td>\n",
       "      <td>0</td>\n",
       "      <td>0</td>\n",
       "      <td>0</td>\n",
       "      <td>1</td>\n",
       "    </tr>\n",
       "    <tr>\n",
       "      <th>5431</th>\n",
       "      <td>1</td>\n",
       "      <td>1</td>\n",
       "      <td>1</td>\n",
       "      <td>0</td>\n",
       "      <td>0</td>\n",
       "      <td>0</td>\n",
       "      <td>0</td>\n",
       "      <td>0</td>\n",
       "      <td>1</td>\n",
       "      <td>0</td>\n",
       "      <td>...</td>\n",
       "      <td>0</td>\n",
       "      <td>0</td>\n",
       "      <td>0</td>\n",
       "      <td>0</td>\n",
       "      <td>0</td>\n",
       "      <td>0</td>\n",
       "      <td>0</td>\n",
       "      <td>0</td>\n",
       "      <td>0</td>\n",
       "      <td>0</td>\n",
       "    </tr>\n",
       "    <tr>\n",
       "      <th>5432</th>\n",
       "      <td>1</td>\n",
       "      <td>1</td>\n",
       "      <td>1</td>\n",
       "      <td>0</td>\n",
       "      <td>1</td>\n",
       "      <td>0</td>\n",
       "      <td>0</td>\n",
       "      <td>1</td>\n",
       "      <td>1</td>\n",
       "      <td>0</td>\n",
       "      <td>...</td>\n",
       "      <td>0</td>\n",
       "      <td>0</td>\n",
       "      <td>0</td>\n",
       "      <td>0</td>\n",
       "      <td>0</td>\n",
       "      <td>0</td>\n",
       "      <td>0</td>\n",
       "      <td>0</td>\n",
       "      <td>0</td>\n",
       "      <td>0</td>\n",
       "    </tr>\n",
       "    <tr>\n",
       "      <th>5433</th>\n",
       "      <td>1</td>\n",
       "      <td>1</td>\n",
       "      <td>1</td>\n",
       "      <td>0</td>\n",
       "      <td>1</td>\n",
       "      <td>1</td>\n",
       "      <td>0</td>\n",
       "      <td>1</td>\n",
       "      <td>0</td>\n",
       "      <td>1</td>\n",
       "      <td>...</td>\n",
       "      <td>1</td>\n",
       "      <td>0</td>\n",
       "      <td>0</td>\n",
       "      <td>0</td>\n",
       "      <td>0</td>\n",
       "      <td>0</td>\n",
       "      <td>0</td>\n",
       "      <td>0</td>\n",
       "      <td>0</td>\n",
       "      <td>0</td>\n",
       "    </tr>\n",
       "  </tbody>\n",
       "</table>\n",
       "<p>5434 rows × 21 columns</p>\n",
       "</div>"
      ],
      "text/plain": [
       "      Breathing Problem  Fever  Dry Cough  Sore throat  Running Nose  Asthma  \\\n",
       "0                     1      1          1            1             1       0   \n",
       "1                     1      1          1            1             0       1   \n",
       "2                     1      1          1            1             1       1   \n",
       "3                     1      1          1            0             0       1   \n",
       "4                     1      1          1            1             1       0   \n",
       "...                 ...    ...        ...          ...           ...     ...   \n",
       "5429                  1      1          0            1             1       1   \n",
       "5430                  1      1          1            0             1       1   \n",
       "5431                  1      1          1            0             0       0   \n",
       "5432                  1      1          1            0             1       0   \n",
       "5433                  1      1          1            0             1       1   \n",
       "\n",
       "      Chronic Lung Disease  Headache  Heart Disease  Diabetes  ...  Fatigue   \\\n",
       "0                        0         0              0         1  ...         1   \n",
       "1                        1         1              0         0  ...         1   \n",
       "2                        1         1              0         1  ...         1   \n",
       "3                        0         0              1         1  ...         0   \n",
       "4                        1         1              1         1  ...         0   \n",
       "...                    ...       ...            ...       ...  ...       ...   \n",
       "5429                     1         0              0         0  ...         1   \n",
       "5430                     0         1              0         1  ...         1   \n",
       "5431                     0         0              1         0  ...         0   \n",
       "5432                     0         1              1         0  ...         0   \n",
       "5433                     0         1              0         1  ...         1   \n",
       "\n",
       "      Gastrointestinal   Abroad travel  Contact with COVID Patient  \\\n",
       "0                     1              0                           1   \n",
       "1                     0              0                           0   \n",
       "2                     1              1                           0   \n",
       "3                     0              1                           0   \n",
       "4                     1              0                           1   \n",
       "...                 ...            ...                         ...   \n",
       "5429                  1              0                           0   \n",
       "5430                  0              0                           0   \n",
       "5431                  0              0                           0   \n",
       "5432                  0              0                           0   \n",
       "5433                  0              0                           0   \n",
       "\n",
       "      Attended Large Gathering  Visited Public Exposed Places  \\\n",
       "0                            0                              1   \n",
       "1                            1                              1   \n",
       "2                            0                              0   \n",
       "3                            1                              1   \n",
       "4                            0                              1   \n",
       "...                        ...                            ...   \n",
       "5429                         0                              0   \n",
       "5430                         0                              0   \n",
       "5431                         0                              0   \n",
       "5432                         0                              0   \n",
       "5433                         0                              0   \n",
       "\n",
       "      Family working in Public Exposed Places  Wearing Masks  \\\n",
       "0                                           1              0   \n",
       "1                                           0              0   \n",
       "2                                           0              0   \n",
       "3                                           0              0   \n",
       "4                                           0              0   \n",
       "...                                       ...            ...   \n",
       "5429                                        0              0   \n",
       "5430                                        0              0   \n",
       "5431                                        0              0   \n",
       "5432                                        0              0   \n",
       "5433                                        0              0   \n",
       "\n",
       "      Sanitization from Market  COVID-19  \n",
       "0                            0         1  \n",
       "1                            0         1  \n",
       "2                            0         1  \n",
       "3                            0         1  \n",
       "4                            0         1  \n",
       "...                        ...       ...  \n",
       "5429                         0         1  \n",
       "5430                         0         1  \n",
       "5431                         0         0  \n",
       "5432                         0         0  \n",
       "5433                         0         0  \n",
       "\n",
       "[5434 rows x 21 columns]"
      ]
     },
     "execution_count": 178,
     "metadata": {},
     "output_type": "execute_result"
    }
   ],
   "source": [
    "dataset = dataset.apply(preprocessing.LabelEncoder().fit_transform)\n",
    "dataset"
   ]
  },
  {
   "cell_type": "markdown",
   "metadata": {},
   "source": [
    "It is possible to observe the correlation map between the features below."
   ]
  },
  {
   "cell_type": "code",
   "execution_count": 179,
   "metadata": {},
   "outputs": [
    {
     "data": {
      "image/png": "[encoded data removed]",
      "text/plain": [
       "<Figure size 432x288 with 2 Axes>"
      ]
     },
     "metadata": {
      "needs_background": "light"
     },
     "output_type": "display_data"
    }
   ],
   "source": [
    "sns.heatmap(dataset.corr());"
   ]
  },
  {
   "cell_type": "markdown",
   "metadata": {},
   "source": [
    "We can conclude by looking at the correlation map that the features that present themselves as the major cause of having Covid-19 are Breathing problem, Fever, Dry Cough, Sore throat and patients routine such as abroad travel, Contact with COVID Patient, Attended Large Gathering."
   ]
  },
  {
   "cell_type": "markdown",
   "metadata": {},
   "source": [
    "We then proceed to separate the input variables (X) from the output variable (y)"
   ]
  },
  {
   "cell_type": "code",
   "execution_count": 180,
   "metadata": {},
   "outputs": [],
   "source": [
    "X = dataset.drop('COVID-19', axis=1)\n",
    "y = dataset['COVID-19'].values"
   ]
  },
  {
   "cell_type": "markdown",
   "metadata": {},
   "source": [
    "The construction of training and test sets was executed"
   ]
  },
  {
   "cell_type": "code",
   "execution_count": 181,
   "metadata": {},
   "outputs": [
    {
     "name": "stdout",
     "output_type": "stream",
     "text": [
      "(4347, 20)\n",
      "(1087, 20)\n",
      "(4347,)\n",
      "(1087,)\n"
     ]
    }
   ],
   "source": [
    "X_train, X_test, y_train, y_test = train_test_split(X, y, test_size=0.20)\n",
    "print(X_train.shape)\n",
    "print(X_test.shape)\n",
    "print(y_train.shape)\n",
    "print(y_test.shape)"
   ]
  },
  {
   "cell_type": "markdown",
   "metadata": {},
   "source": [
    "The complexity of the model increases with the increase in the number of features, which can lead to the occurrence of overfitting. This happens when the model fits too well to the training dataset, but then cannot generalize to new examples that the model has never seen during training. In order to avoid this problem we can choose to reduce the number of features, in this case we used the SelectKBest class that selects the k features with the best score based on univariate statistical tests."
   ]
  },
  {
   "cell_type": "code",
   "execution_count": 182,
   "metadata": {},
   "outputs": [],
   "source": [
    "selector = SelectKBest(f_regression)"
   ]
  },
  {
   "cell_type": "markdown",
   "metadata": {},
   "source": [
    "### Random Forest "
   ]
  },
  {
   "cell_type": "markdown",
   "metadata": {},
   "source": [
    "For first approach is used the Random Forest algorithm where the scikit Learn RandomForestClassifier class was used as estimator"
   ]
  },
  {
   "cell_type": "code",
   "execution_count": 183,
   "metadata": {},
   "outputs": [
    {
     "data": {
      "text/plain": [
       "RandomForestClassifier(bootstrap=True, ccp_alpha=0.0, class_weight=None,\n",
       "                       criterion='gini', max_depth=None, max_features='auto',\n",
       "                       max_leaf_nodes=None, max_samples=None,\n",
       "                       min_impurity_decrease=0.0, min_impurity_split=None,\n",
       "                       min_samples_leaf=1, min_samples_split=2,\n",
       "                       min_weight_fraction_leaf=0.0, n_estimators=100,\n",
       "                       n_jobs=None, oob_score=False, random_state=None,\n",
       "                       verbose=0, warm_start=False)"
      ]
     },
     "execution_count": 183,
     "metadata": {},
     "output_type": "execute_result"
    }
   ],
   "source": [
    "estimator =  RandomForestClassifier()\n",
    "estimator"
   ]
  },
  {
   "cell_type": "markdown",
   "metadata": {},
   "source": [
    "The Pipeline class is used to chain a series of processing that is done to the data, in this case, the selection of the best k features using the selector estimator defined above and the model estimator itself."
   ]
  },
  {
   "cell_type": "code",
   "execution_count": 184,
   "metadata": {},
   "outputs": [],
   "source": [
    "pipeline = Pipeline([('selector', selector),('estimator',estimator)])"
   ]
  },
  {
   "cell_type": "markdown",
   "metadata": {},
   "source": [
    "Then several hyperparameters were tested using the RandomizedSearchCV optimization method, which tests some random combinations of the search grid values, evaluating performance through cross-validation (3 folds). After defining the hyperparameter grid and the respective values to be tested, the best ones were chosen for the future construction of the model."
   ]
  },
  {
   "cell_type": "code",
   "execution_count": 185,
   "metadata": {},
   "outputs": [
    {
     "data": {
      "text/html": [
       "<div>\n",
       "<style scoped>\n",
       "    .dataframe tbody tr th:only-of-type {\n",
       "        vertical-align: middle;\n",
       "    }\n",
       "\n",
       "    .dataframe tbody tr th {\n",
       "        vertical-align: top;\n",
       "    }\n",
       "\n",
       "    .dataframe thead th {\n",
       "        text-align: right;\n",
       "    }\n",
       "</style>\n",
       "<table border=\"1\" class=\"dataframe\">\n",
       "  <thead>\n",
       "    <tr style=\"text-align: right;\">\n",
       "      <th></th>\n",
       "      <th>mean_fit_time</th>\n",
       "      <th>std_fit_time</th>\n",
       "      <th>mean_score_time</th>\n",
       "      <th>std_score_time</th>\n",
       "      <th>param_selector__k</th>\n",
       "      <th>param_estimator__n_estimators</th>\n",
       "      <th>params</th>\n",
       "      <th>split0_test_score</th>\n",
       "      <th>split1_test_score</th>\n",
       "      <th>split2_test_score</th>\n",
       "      <th>mean_test_score</th>\n",
       "      <th>std_test_score</th>\n",
       "      <th>rank_test_score</th>\n",
       "    </tr>\n",
       "  </thead>\n",
       "  <tbody>\n",
       "    <tr>\n",
       "      <th>0</th>\n",
       "      <td>3.069495</td>\n",
       "      <td>0.353220</td>\n",
       "      <td>0.251876</td>\n",
       "      <td>0.018097</td>\n",
       "      <td>all</td>\n",
       "      <td>700</td>\n",
       "      <td>{'selector__k': 'all', 'estimator__n_estimator...</td>\n",
       "      <td>0.937086</td>\n",
       "      <td>0.910547</td>\n",
       "      <td>0.902816</td>\n",
       "      <td>0.916816</td>\n",
       "      <td>0.014676</td>\n",
       "      <td>5</td>\n",
       "    </tr>\n",
       "    <tr>\n",
       "      <th>1</th>\n",
       "      <td>2.669616</td>\n",
       "      <td>0.143185</td>\n",
       "      <td>0.227147</td>\n",
       "      <td>0.013094</td>\n",
       "      <td>15</td>\n",
       "      <td>700</td>\n",
       "      <td>{'selector__k': 15, 'estimator__n_estimators':...</td>\n",
       "      <td>0.937086</td>\n",
       "      <td>0.920486</td>\n",
       "      <td>0.902816</td>\n",
       "      <td>0.920129</td>\n",
       "      <td>0.013993</td>\n",
       "      <td>3</td>\n",
       "    </tr>\n",
       "    <tr>\n",
       "      <th>2</th>\n",
       "      <td>3.690365</td>\n",
       "      <td>0.099563</td>\n",
       "      <td>0.324642</td>\n",
       "      <td>0.015945</td>\n",
       "      <td>15</td>\n",
       "      <td>1000</td>\n",
       "      <td>{'selector__k': 15, 'estimator__n_estimators':...</td>\n",
       "      <td>0.937086</td>\n",
       "      <td>0.904473</td>\n",
       "      <td>0.902816</td>\n",
       "      <td>0.914792</td>\n",
       "      <td>0.015779</td>\n",
       "      <td>8</td>\n",
       "    </tr>\n",
       "    <tr>\n",
       "      <th>3</th>\n",
       "      <td>3.423507</td>\n",
       "      <td>0.007067</td>\n",
       "      <td>0.375415</td>\n",
       "      <td>0.100433</td>\n",
       "      <td>10</td>\n",
       "      <td>1000</td>\n",
       "      <td>{'selector__k': 10, 'estimator__n_estimators':...</td>\n",
       "      <td>0.955298</td>\n",
       "      <td>0.915516</td>\n",
       "      <td>0.895638</td>\n",
       "      <td>0.922151</td>\n",
       "      <td>0.024804</td>\n",
       "      <td>1</td>\n",
       "    </tr>\n",
       "    <tr>\n",
       "      <th>4</th>\n",
       "      <td>1.631349</td>\n",
       "      <td>0.033551</td>\n",
       "      <td>0.147089</td>\n",
       "      <td>0.006170</td>\n",
       "      <td>5</td>\n",
       "      <td>500</td>\n",
       "      <td>{'selector__k': 5, 'estimator__n_estimators': ...</td>\n",
       "      <td>0.956954</td>\n",
       "      <td>0.887355</td>\n",
       "      <td>0.717283</td>\n",
       "      <td>0.853864</td>\n",
       "      <td>0.100670</td>\n",
       "      <td>10</td>\n",
       "    </tr>\n",
       "    <tr>\n",
       "      <th>5</th>\n",
       "      <td>0.421976</td>\n",
       "      <td>0.018047</td>\n",
       "      <td>0.034640</td>\n",
       "      <td>0.006025</td>\n",
       "      <td>all</td>\n",
       "      <td>100</td>\n",
       "      <td>{'selector__k': 'all', 'estimator__n_estimator...</td>\n",
       "      <td>0.932119</td>\n",
       "      <td>0.925456</td>\n",
       "      <td>0.902816</td>\n",
       "      <td>0.920130</td>\n",
       "      <td>0.012542</td>\n",
       "      <td>2</td>\n",
       "    </tr>\n",
       "    <tr>\n",
       "      <th>6</th>\n",
       "      <td>0.385081</td>\n",
       "      <td>0.011871</td>\n",
       "      <td>0.033587</td>\n",
       "      <td>0.006145</td>\n",
       "      <td>15</td>\n",
       "      <td>100</td>\n",
       "      <td>{'selector__k': 15, 'estimator__n_estimators':...</td>\n",
       "      <td>0.937086</td>\n",
       "      <td>0.908338</td>\n",
       "      <td>0.911651</td>\n",
       "      <td>0.919025</td>\n",
       "      <td>0.012843</td>\n",
       "      <td>4</td>\n",
       "    </tr>\n",
       "    <tr>\n",
       "      <th>7</th>\n",
       "      <td>0.736942</td>\n",
       "      <td>0.009573</td>\n",
       "      <td>0.062810</td>\n",
       "      <td>0.003727</td>\n",
       "      <td>15</td>\n",
       "      <td>200</td>\n",
       "      <td>{'selector__k': 15, 'estimator__n_estimators':...</td>\n",
       "      <td>0.937086</td>\n",
       "      <td>0.904473</td>\n",
       "      <td>0.902816</td>\n",
       "      <td>0.914792</td>\n",
       "      <td>0.015779</td>\n",
       "      <td>8</td>\n",
       "    </tr>\n",
       "    <tr>\n",
       "      <th>8</th>\n",
       "      <td>0.774636</td>\n",
       "      <td>0.006020</td>\n",
       "      <td>0.070580</td>\n",
       "      <td>0.007979</td>\n",
       "      <td>all</td>\n",
       "      <td>200</td>\n",
       "      <td>{'selector__k': 'all', 'estimator__n_estimator...</td>\n",
       "      <td>0.932119</td>\n",
       "      <td>0.914412</td>\n",
       "      <td>0.902816</td>\n",
       "      <td>0.916449</td>\n",
       "      <td>0.012049</td>\n",
       "      <td>6</td>\n",
       "    </tr>\n",
       "    <tr>\n",
       "      <th>9</th>\n",
       "      <td>2.092325</td>\n",
       "      <td>0.064852</td>\n",
       "      <td>0.181367</td>\n",
       "      <td>0.007770</td>\n",
       "      <td>15</td>\n",
       "      <td>500</td>\n",
       "      <td>{'selector__k': 15, 'estimator__n_estimators':...</td>\n",
       "      <td>0.937086</td>\n",
       "      <td>0.908338</td>\n",
       "      <td>0.902816</td>\n",
       "      <td>0.916080</td>\n",
       "      <td>0.015024</td>\n",
       "      <td>7</td>\n",
       "    </tr>\n",
       "  </tbody>\n",
       "</table>\n",
       "</div>"
      ],
      "text/plain": [
       "   mean_fit_time  std_fit_time  mean_score_time  std_score_time  \\\n",
       "0       3.069495      0.353220         0.251876        0.018097   \n",
       "1       2.669616      0.143185         0.227147        0.013094   \n",
       "2       3.690365      0.099563         0.324642        0.015945   \n",
       "3       3.423507      0.007067         0.375415        0.100433   \n",
       "4       1.631349      0.033551         0.147089        0.006170   \n",
       "5       0.421976      0.018047         0.034640        0.006025   \n",
       "6       0.385081      0.011871         0.033587        0.006145   \n",
       "7       0.736942      0.009573         0.062810        0.003727   \n",
       "8       0.774636      0.006020         0.070580        0.007979   \n",
       "9       2.092325      0.064852         0.181367        0.007770   \n",
       "\n",
       "  param_selector__k param_estimator__n_estimators  \\\n",
       "0               all                           700   \n",
       "1                15                           700   \n",
       "2                15                          1000   \n",
       "3                10                          1000   \n",
       "4                 5                           500   \n",
       "5               all                           100   \n",
       "6                15                           100   \n",
       "7                15                           200   \n",
       "8               all                           200   \n",
       "9                15                           500   \n",
       "\n",
       "                                              params  split0_test_score  \\\n",
       "0  {'selector__k': 'all', 'estimator__n_estimator...           0.937086   \n",
       "1  {'selector__k': 15, 'estimator__n_estimators':...           0.937086   \n",
       "2  {'selector__k': 15, 'estimator__n_estimators':...           0.937086   \n",
       "3  {'selector__k': 10, 'estimator__n_estimators':...           0.955298   \n",
       "4  {'selector__k': 5, 'estimator__n_estimators': ...           0.956954   \n",
       "5  {'selector__k': 'all', 'estimator__n_estimator...           0.932119   \n",
       "6  {'selector__k': 15, 'estimator__n_estimators':...           0.937086   \n",
       "7  {'selector__k': 15, 'estimator__n_estimators':...           0.937086   \n",
       "8  {'selector__k': 'all', 'estimator__n_estimator...           0.932119   \n",
       "9  {'selector__k': 15, 'estimator__n_estimators':...           0.937086   \n",
       "\n",
       "   split1_test_score  split2_test_score  mean_test_score  std_test_score  \\\n",
       "0           0.910547           0.902816         0.916816        0.014676   \n",
       "1           0.920486           0.902816         0.920129        0.013993   \n",
       "2           0.904473           0.902816         0.914792        0.015779   \n",
       "3           0.915516           0.895638         0.922151        0.024804   \n",
       "4           0.887355           0.717283         0.853864        0.100670   \n",
       "5           0.925456           0.902816         0.920130        0.012542   \n",
       "6           0.908338           0.911651         0.919025        0.012843   \n",
       "7           0.904473           0.902816         0.914792        0.015779   \n",
       "8           0.914412           0.902816         0.916449        0.012049   \n",
       "9           0.908338           0.902816         0.916080        0.015024   \n",
       "\n",
       "   rank_test_score  \n",
       "0                5  \n",
       "1                3  \n",
       "2                8  \n",
       "3                1  \n",
       "4               10  \n",
       "5                2  \n",
       "6                4  \n",
       "7                8  \n",
       "8                6  \n",
       "9                7  "
      ]
     },
     "execution_count": 185,
     "metadata": {},
     "output_type": "execute_result"
    }
   ],
   "source": [
    "params_to_test = {'estimator__n_estimators':[100, 200, 500, 700, 1000],'selector__k':[5, 10, 15, 'all']}\n",
    "        \n",
    "randomized_search = RandomizedSearchCV(pipeline,params_to_test, cv=3)\n",
    "randomized_search.fit(X,y)\n",
    "\n",
    "rs_results = pd.DataFrame.from_dict(data=randomized_search.cv_results_)\n",
    "rs_results.to_csv('rs_results(RF).csv',index=False)\n",
    "rs_results"
   ]
  },
  {
   "cell_type": "markdown",
   "metadata": {},
   "source": [
    "The best hyperparameters were:"
   ]
  },
  {
   "cell_type": "code",
   "execution_count": 186,
   "metadata": {},
   "outputs": [
    {
     "data": {
      "text/plain": [
       "{'selector__k': 10, 'estimator__n_estimators': 1000}"
      ]
     },
     "execution_count": 186,
     "metadata": {},
     "output_type": "execute_result"
    }
   ],
   "source": [
    "randomized_search.best_params_"
   ]
  },
  {
   "cell_type": "markdown",
   "metadata": {},
   "source": [
    "Building the model using the best hyperparameters"
   ]
  },
  {
   "cell_type": "code",
   "execution_count": 187,
   "metadata": {},
   "outputs": [
    {
     "data": {
      "text/plain": [
       "Pipeline(memory=None,\n",
       "         steps=[('selector',\n",
       "                 SelectKBest(k=10,\n",
       "                             score_func=<function f_regression at 0x7fd242db84d0>)),\n",
       "                ('estimator',\n",
       "                 RandomForestClassifier(bootstrap=True, ccp_alpha=0.0,\n",
       "                                        class_weight=None, criterion='gini',\n",
       "                                        max_depth=None, max_features='auto',\n",
       "                                        max_leaf_nodes=None, max_samples=None,\n",
       "                                        min_impurity_decrease=0.0,\n",
       "                                        min_impurity_split=None,\n",
       "                                        min_samples_leaf=1, min_samples_split=2,\n",
       "                                        min_weight_fraction_leaf=0.0,\n",
       "                                        n_estimators=1000, n_jobs=None,\n",
       "                                        oob_score=False, random_state=None,\n",
       "                                        verbose=0, warm_start=False))],\n",
       "         verbose=False)"
      ]
     },
     "execution_count": 187,
     "metadata": {},
     "output_type": "execute_result"
    }
   ],
   "source": [
    "best_pipeline = randomized_search.best_estimator_\n",
    "best_pipeline"
   ]
  },
  {
   "cell_type": "markdown",
   "metadata": {},
   "source": [
    "Now cross validation is used to evaluate the model with the hyperparameters already optimized. In this step different metrics can be used, such as the accuracy, recall, precision and area under the curve (AUC)."
   ]
  },
  {
   "cell_type": "code",
   "execution_count": 189,
   "metadata": {},
   "outputs": [
    {
     "name": "stdout",
     "output_type": "stream",
     "text": [
      "Metrics: test_accuracy\n",
      "Results for each fold: [0.93100276 0.99172033 0.88776449 0.78656854 0.8664825 ]\n",
      "Mean for all folds: 0.8927077244718683\n",
      "Standard deviation: 0.06818758071426728\n",
      "Metrics: test_recall\n",
      "Results for each fold: [0.99201824 1.         0.91790194 0.73744292 0.92694064]\n",
      "Mean for all folds: 0.9148607488167946\n",
      "Standard deviation: 0.09469343048408066\n",
      "Metrics: test_precision\n",
      "Results for each fold: [0.92750533 0.98984199 0.94152047 0.99691358 0.90929451]\n",
      "Mean for all folds: 0.9530151755814995\n",
      "Standard deviation: 0.03457646824449246\n",
      "Metrics: test_roc_auc\n",
      "Results for each fold: [0.98633871 1.         0.94825433 0.94666623 0.86429115]\n",
      "Mean for all folds: 0.9491100846281242\n",
      "Standard deviation: 0.047279404174841985\n"
     ]
    }
   ],
   "source": [
    "scoring_metrics = ['accuracy', 'recall', 'precision', 'roc_auc']\n",
    "\n",
    "cv_scores = cross_validate(best_pipeline, X, y, scoring=scoring_metrics, cv=5, return_train_score=False)\n",
    "\n",
    "for key, value in cv_scores.items():\n",
    "    if key != \"fit_time\" and key != \"score_time\":\n",
    "        print(\"Metrics: %s\" % key)\n",
    "        print(\"Results for each fold: %s\" % value) \n",
    "        print(\"Mean for all folds: %s\" % np.mean(value))\n",
    "        print(\"Standard deviation: %s\" % np.std(value))"
   ]
  },
  {
   "cell_type": "markdown",
   "metadata": {},
   "source": [
    "The model is trained again with the complete dataset before being used to make predictions for test datasets."
   ]
  },
  {
   "cell_type": "code",
   "execution_count": 190,
   "metadata": {},
   "outputs": [],
   "source": [
    "modelRF = best_pipeline.fit(X_train,y_train)"
   ]
  },
  {
   "cell_type": "markdown",
   "metadata": {},
   "source": [
    "In the case of the Random Forest algorithm it is possible to obtain information about the importance of each feature"
   ]
  },
  {
   "cell_type": "code",
   "execution_count": 191,
   "metadata": {},
   "outputs": [
    {
     "data": {
      "text/html": [
       "<div>\n",
       "<style scoped>\n",
       "    .dataframe tbody tr th:only-of-type {\n",
       "        vertical-align: middle;\n",
       "    }\n",
       "\n",
       "    .dataframe tbody tr th {\n",
       "        vertical-align: top;\n",
       "    }\n",
       "\n",
       "    .dataframe thead th {\n",
       "        text-align: right;\n",
       "    }\n",
       "</style>\n",
       "<table border=\"1\" class=\"dataframe\">\n",
       "  <thead>\n",
       "    <tr style=\"text-align: right;\">\n",
       "      <th></th>\n",
       "      <th>0</th>\n",
       "      <th>1</th>\n",
       "    </tr>\n",
       "  </thead>\n",
       "  <tbody>\n",
       "    <tr>\n",
       "      <th>0</th>\n",
       "      <td>0.1812</td>\n",
       "      <td>Sore throat</td>\n",
       "    </tr>\n",
       "    <tr>\n",
       "      <th>1</th>\n",
       "      <td>0.1692</td>\n",
       "      <td>Breathing Problem</td>\n",
       "    </tr>\n",
       "    <tr>\n",
       "      <th>2</th>\n",
       "      <td>0.1687</td>\n",
       "      <td>Asthma</td>\n",
       "    </tr>\n",
       "    <tr>\n",
       "      <th>3</th>\n",
       "      <td>0.1510</td>\n",
       "      <td>Dry Cough</td>\n",
       "    </tr>\n",
       "    <tr>\n",
       "      <th>4</th>\n",
       "      <td>0.1114</td>\n",
       "      <td>Headache</td>\n",
       "    </tr>\n",
       "  </tbody>\n",
       "</table>\n",
       "</div>"
      ],
      "text/plain": [
       "        0                  1\n",
       "0  0.1812        Sore throat\n",
       "1  0.1692  Breathing Problem\n",
       "2  0.1687             Asthma\n",
       "3  0.1510          Dry Cough\n",
       "4  0.1114           Headache"
      ]
     },
     "execution_count": 191,
     "metadata": {},
     "output_type": "execute_result"
    }
   ],
   "source": [
    "ln = X.shape\n",
    "names = X.columns.tolist()\n",
    "feature_importances = sorted(zip(map(lambda x: round(x, 4), modelRF.named_steps['estimator'].feature_importances_),names), reverse=True)\n",
    "\n",
    "feature_importances = pd.DataFrame.from_dict(data=feature_importances)\n",
    "feature_importances.to_csv('feature_importances(RF).csv',index=False)\n",
    "\n",
    "feature_importances.head()"
   ]
  },
  {
   "cell_type": "markdown",
   "metadata": {},
   "source": [
    "Finally, we predicted the final results for the COVID-19 variable using the test dataset splited above and evaluate the performance of this results."
   ]
  },
  {
   "cell_type": "code",
   "execution_count": 192,
   "metadata": {},
   "outputs": [
    {
     "data": {
      "text/plain": [
       "array([1, 1, 1, ..., 1, 1, 1])"
      ]
     },
     "execution_count": 192,
     "metadata": {},
     "output_type": "execute_result"
    }
   ],
   "source": [
    "y_test_pred_rf = modelRF.predict(X_test)\n",
    "y_test_pred_rf"
   ]
  },
  {
   "cell_type": "code",
   "execution_count": 193,
   "metadata": {},
   "outputs": [
    {
     "data": {
      "text/plain": [
       "(0.9668813247470102,\n",
       " 0.9852941176470589,\n",
       " 0.9742729306487695,\n",
       " 0.9359968125181107)"
      ]
     },
     "execution_count": 193,
     "metadata": {},
     "output_type": "execute_result"
    }
   ],
   "source": [
    "acc_rf = accuracy_score(y_test, y_test_pred_rf)\n",
    "recall_rf = recall_score(y_test, y_test_pred_rf)\n",
    "prec_rf = precision_score(y_test, y_test_pred_rf)\n",
    "auc_rf = roc_auc_score(y_test, y_test_pred_rf)\n",
    "acc_rf, recall_rf, prec_rf, auc_rf"
   ]
  },
  {
   "cell_type": "markdown",
   "metadata": {},
   "source": [
    "The model can be saved for future use:"
   ]
  },
  {
   "cell_type": "code",
   "execution_count": 194,
   "metadata": {},
   "outputs": [],
   "source": [
    "pickle.dump(modelRF, open('modelRF.pkl', 'wb'))"
   ]
  },
  {
   "cell_type": "markdown",
   "metadata": {},
   "source": [
    "### Support Vector Machine"
   ]
  },
  {
   "cell_type": "markdown",
   "metadata": {},
   "source": [
    "For this approach is used the Support Vector Machine algorithm where the scikit Learn SVR class was used as estimator."
   ]
  },
  {
   "cell_type": "code",
   "execution_count": 195,
   "metadata": {},
   "outputs": [
    {
     "data": {
      "text/plain": [
       "SVC(C=1.0, break_ties=False, cache_size=200, class_weight=None, coef0=0.0,\n",
       "    decision_function_shape='ovr', degree=3, gamma='scale', kernel='rbf',\n",
       "    max_iter=-1, probability=False, random_state=None, shrinking=True,\n",
       "    tol=0.001, verbose=False)"
      ]
     },
     "execution_count": 195,
     "metadata": {},
     "output_type": "execute_result"
    }
   ],
   "source": [
    "estimator =  SVC(kernel = 'rbf')\n",
    "estimator"
   ]
  },
  {
   "cell_type": "markdown",
   "metadata": {},
   "source": [
    "The Pipeline class is used to chain a series of processing that is done to the data, in this case, the selection of the best k features using the selector estimator defined above and the model estimator itself."
   ]
  },
  {
   "cell_type": "code",
   "execution_count": 196,
   "metadata": {},
   "outputs": [],
   "source": [
    "pipeline = Pipeline([('selector', selector),('estimator', estimator)])"
   ]
  },
  {
   "cell_type": "markdown",
   "metadata": {},
   "source": [
    "Then several hyperparameters were tested using the RandomizedSearchCV optimization method, which tests some random combinations of the search grid values, evaluating performance through cross-validation (3 folds). After defining the hyperparameter grid and the respective values to be tested, the best ones were chosen for the future construction of the model."
   ]
  },
  {
   "cell_type": "code",
   "execution_count": 197,
   "metadata": {},
   "outputs": [
    {
     "data": {
      "text/html": [
       "<div>\n",
       "<style scoped>\n",
       "    .dataframe tbody tr th:only-of-type {\n",
       "        vertical-align: middle;\n",
       "    }\n",
       "\n",
       "    .dataframe tbody tr th {\n",
       "        vertical-align: top;\n",
       "    }\n",
       "\n",
       "    .dataframe thead th {\n",
       "        text-align: right;\n",
       "    }\n",
       "</style>\n",
       "<table border=\"1\" class=\"dataframe\">\n",
       "  <thead>\n",
       "    <tr style=\"text-align: right;\">\n",
       "      <th></th>\n",
       "      <th>mean_fit_time</th>\n",
       "      <th>std_fit_time</th>\n",
       "      <th>mean_score_time</th>\n",
       "      <th>std_score_time</th>\n",
       "      <th>param_selector__k</th>\n",
       "      <th>param_estimator__C</th>\n",
       "      <th>params</th>\n",
       "      <th>split0_test_score</th>\n",
       "      <th>split1_test_score</th>\n",
       "      <th>split2_test_score</th>\n",
       "      <th>mean_test_score</th>\n",
       "      <th>std_test_score</th>\n",
       "      <th>rank_test_score</th>\n",
       "    </tr>\n",
       "  </thead>\n",
       "  <tbody>\n",
       "    <tr>\n",
       "      <th>0</th>\n",
       "      <td>0.365521</td>\n",
       "      <td>0.080218</td>\n",
       "      <td>0.076896</td>\n",
       "      <td>0.011076</td>\n",
       "      <td>all</td>\n",
       "      <td>1</td>\n",
       "      <td>{'selector__k': 'all', 'estimator__C': 1}</td>\n",
       "      <td>0.970199</td>\n",
       "      <td>0.912755</td>\n",
       "      <td>0.905025</td>\n",
       "      <td>0.929326</td>\n",
       "      <td>0.029073</td>\n",
       "      <td>4</td>\n",
       "    </tr>\n",
       "    <tr>\n",
       "      <th>1</th>\n",
       "      <td>0.142007</td>\n",
       "      <td>0.031549</td>\n",
       "      <td>0.040618</td>\n",
       "      <td>0.008134</td>\n",
       "      <td>15</td>\n",
       "      <td>1</td>\n",
       "      <td>{'selector__k': 15, 'estimator__C': 1}</td>\n",
       "      <td>0.958609</td>\n",
       "      <td>0.904473</td>\n",
       "      <td>0.899503</td>\n",
       "      <td>0.920862</td>\n",
       "      <td>0.026769</td>\n",
       "      <td>7</td>\n",
       "    </tr>\n",
       "    <tr>\n",
       "      <th>2</th>\n",
       "      <td>0.094192</td>\n",
       "      <td>0.021317</td>\n",
       "      <td>0.040966</td>\n",
       "      <td>0.019885</td>\n",
       "      <td>all</td>\n",
       "      <td>10</td>\n",
       "      <td>{'selector__k': 'all', 'estimator__C': 10}</td>\n",
       "      <td>0.970199</td>\n",
       "      <td>0.912755</td>\n",
       "      <td>0.909994</td>\n",
       "      <td>0.930983</td>\n",
       "      <td>0.027753</td>\n",
       "      <td>3</td>\n",
       "    </tr>\n",
       "    <tr>\n",
       "      <th>3</th>\n",
       "      <td>0.089713</td>\n",
       "      <td>0.048633</td>\n",
       "      <td>0.026170</td>\n",
       "      <td>0.006819</td>\n",
       "      <td>5</td>\n",
       "      <td>10</td>\n",
       "      <td>{'selector__k': 5, 'estimator__C': 10}</td>\n",
       "      <td>0.956954</td>\n",
       "      <td>0.887355</td>\n",
       "      <td>0.698509</td>\n",
       "      <td>0.847606</td>\n",
       "      <td>0.109189</td>\n",
       "      <td>9</td>\n",
       "    </tr>\n",
       "    <tr>\n",
       "      <th>4</th>\n",
       "      <td>0.079208</td>\n",
       "      <td>0.020725</td>\n",
       "      <td>0.023672</td>\n",
       "      <td>0.013187</td>\n",
       "      <td>5</td>\n",
       "      <td>1</td>\n",
       "      <td>{'selector__k': 5, 'estimator__C': 1}</td>\n",
       "      <td>0.956954</td>\n",
       "      <td>0.887355</td>\n",
       "      <td>0.698509</td>\n",
       "      <td>0.847606</td>\n",
       "      <td>0.109189</td>\n",
       "      <td>9</td>\n",
       "    </tr>\n",
       "    <tr>\n",
       "      <th>5</th>\n",
       "      <td>0.105800</td>\n",
       "      <td>0.010547</td>\n",
       "      <td>0.032084</td>\n",
       "      <td>0.006215</td>\n",
       "      <td>10</td>\n",
       "      <td>1</td>\n",
       "      <td>{'selector__k': 10, 'estimator__C': 1}</td>\n",
       "      <td>0.965232</td>\n",
       "      <td>0.939260</td>\n",
       "      <td>0.900055</td>\n",
       "      <td>0.934849</td>\n",
       "      <td>0.026790</td>\n",
       "      <td>2</td>\n",
       "    </tr>\n",
       "    <tr>\n",
       "      <th>6</th>\n",
       "      <td>0.083428</td>\n",
       "      <td>0.022744</td>\n",
       "      <td>0.021625</td>\n",
       "      <td>0.010023</td>\n",
       "      <td>10</td>\n",
       "      <td>10</td>\n",
       "      <td>{'selector__k': 10, 'estimator__C': 10}</td>\n",
       "      <td>0.965232</td>\n",
       "      <td>0.941469</td>\n",
       "      <td>0.915516</td>\n",
       "      <td>0.940739</td>\n",
       "      <td>0.020303</td>\n",
       "      <td>1</td>\n",
       "    </tr>\n",
       "    <tr>\n",
       "      <th>7</th>\n",
       "      <td>0.174618</td>\n",
       "      <td>0.040588</td>\n",
       "      <td>0.051475</td>\n",
       "      <td>0.011910</td>\n",
       "      <td>10</td>\n",
       "      <td>0.1</td>\n",
       "      <td>{'selector__k': 10, 'estimator__C': 0.1}</td>\n",
       "      <td>0.971854</td>\n",
       "      <td>0.914412</td>\n",
       "      <td>0.888459</td>\n",
       "      <td>0.924909</td>\n",
       "      <td>0.034845</td>\n",
       "      <td>6</td>\n",
       "    </tr>\n",
       "    <tr>\n",
       "      <th>8</th>\n",
       "      <td>0.302922</td>\n",
       "      <td>0.114968</td>\n",
       "      <td>0.095930</td>\n",
       "      <td>0.030866</td>\n",
       "      <td>all</td>\n",
       "      <td>0.1</td>\n",
       "      <td>{'selector__k': 'all', 'estimator__C': 0.1}</td>\n",
       "      <td>0.974614</td>\n",
       "      <td>0.916621</td>\n",
       "      <td>0.894533</td>\n",
       "      <td>0.928589</td>\n",
       "      <td>0.033770</td>\n",
       "      <td>5</td>\n",
       "    </tr>\n",
       "    <tr>\n",
       "      <th>9</th>\n",
       "      <td>0.101109</td>\n",
       "      <td>0.024663</td>\n",
       "      <td>0.053404</td>\n",
       "      <td>0.024896</td>\n",
       "      <td>5</td>\n",
       "      <td>0.1</td>\n",
       "      <td>{'selector__k': 5, 'estimator__C': 0.1}</td>\n",
       "      <td>0.956954</td>\n",
       "      <td>0.887355</td>\n",
       "      <td>0.805632</td>\n",
       "      <td>0.883314</td>\n",
       "      <td>0.061843</td>\n",
       "      <td>8</td>\n",
       "    </tr>\n",
       "  </tbody>\n",
       "</table>\n",
       "</div>"
      ],
      "text/plain": [
       "   mean_fit_time  std_fit_time  mean_score_time  std_score_time  \\\n",
       "0       0.365521      0.080218         0.076896        0.011076   \n",
       "1       0.142007      0.031549         0.040618        0.008134   \n",
       "2       0.094192      0.021317         0.040966        0.019885   \n",
       "3       0.089713      0.048633         0.026170        0.006819   \n",
       "4       0.079208      0.020725         0.023672        0.013187   \n",
       "5       0.105800      0.010547         0.032084        0.006215   \n",
       "6       0.083428      0.022744         0.021625        0.010023   \n",
       "7       0.174618      0.040588         0.051475        0.011910   \n",
       "8       0.302922      0.114968         0.095930        0.030866   \n",
       "9       0.101109      0.024663         0.053404        0.024896   \n",
       "\n",
       "  param_selector__k param_estimator__C  \\\n",
       "0               all                  1   \n",
       "1                15                  1   \n",
       "2               all                 10   \n",
       "3                 5                 10   \n",
       "4                 5                  1   \n",
       "5                10                  1   \n",
       "6                10                 10   \n",
       "7                10                0.1   \n",
       "8               all                0.1   \n",
       "9                 5                0.1   \n",
       "\n",
       "                                        params  split0_test_score  \\\n",
       "0    {'selector__k': 'all', 'estimator__C': 1}           0.970199   \n",
       "1       {'selector__k': 15, 'estimator__C': 1}           0.958609   \n",
       "2   {'selector__k': 'all', 'estimator__C': 10}           0.970199   \n",
       "3       {'selector__k': 5, 'estimator__C': 10}           0.956954   \n",
       "4        {'selector__k': 5, 'estimator__C': 1}           0.956954   \n",
       "5       {'selector__k': 10, 'estimator__C': 1}           0.965232   \n",
       "6      {'selector__k': 10, 'estimator__C': 10}           0.965232   \n",
       "7     {'selector__k': 10, 'estimator__C': 0.1}           0.971854   \n",
       "8  {'selector__k': 'all', 'estimator__C': 0.1}           0.974614   \n",
       "9      {'selector__k': 5, 'estimator__C': 0.1}           0.956954   \n",
       "\n",
       "   split1_test_score  split2_test_score  mean_test_score  std_test_score  \\\n",
       "0           0.912755           0.905025         0.929326        0.029073   \n",
       "1           0.904473           0.899503         0.920862        0.026769   \n",
       "2           0.912755           0.909994         0.930983        0.027753   \n",
       "3           0.887355           0.698509         0.847606        0.109189   \n",
       "4           0.887355           0.698509         0.847606        0.109189   \n",
       "5           0.939260           0.900055         0.934849        0.026790   \n",
       "6           0.941469           0.915516         0.940739        0.020303   \n",
       "7           0.914412           0.888459         0.924909        0.034845   \n",
       "8           0.916621           0.894533         0.928589        0.033770   \n",
       "9           0.887355           0.805632         0.883314        0.061843   \n",
       "\n",
       "   rank_test_score  \n",
       "0                4  \n",
       "1                7  \n",
       "2                3  \n",
       "3                9  \n",
       "4                9  \n",
       "5                2  \n",
       "6                1  \n",
       "7                6  \n",
       "8                5  \n",
       "9                8  "
      ]
     },
     "execution_count": 197,
     "metadata": {},
     "output_type": "execute_result"
    }
   ],
   "source": [
    "params_to_test = {'estimator__C':[0.1, 1, 10],'selector__k':[5, 10, 15, 'all']}\n",
    "        \n",
    "randomized_search = RandomizedSearchCV(pipeline,params_to_test, cv=3)\n",
    "randomized_search.fit(X,y)\n",
    "\n",
    "rs_results = pd.DataFrame.from_dict(data=randomized_search.cv_results_)\n",
    "rs_results.to_csv('rs_results(SVM).csv',index=False)\n",
    "rs_results"
   ]
  },
  {
   "cell_type": "markdown",
   "metadata": {},
   "source": [
    "The best hyperparameters were:"
   ]
  },
  {
   "cell_type": "code",
   "execution_count": 198,
   "metadata": {},
   "outputs": [
    {
     "data": {
      "text/plain": [
       "{'selector__k': 10, 'estimator__C': 10}"
      ]
     },
     "execution_count": 198,
     "metadata": {},
     "output_type": "execute_result"
    }
   ],
   "source": [
    "randomized_search.best_params_"
   ]
  },
  {
   "cell_type": "markdown",
   "metadata": {},
   "source": [
    "Building the model using the best hyperparameters"
   ]
  },
  {
   "cell_type": "code",
   "execution_count": 199,
   "metadata": {},
   "outputs": [
    {
     "data": {
      "text/plain": [
       "Pipeline(memory=None,\n",
       "         steps=[('selector',\n",
       "                 SelectKBest(k=10,\n",
       "                             score_func=<function f_regression at 0x7fd242db84d0>)),\n",
       "                ('estimator',\n",
       "                 SVC(C=10, break_ties=False, cache_size=200, class_weight=None,\n",
       "                     coef0=0.0, decision_function_shape='ovr', degree=3,\n",
       "                     gamma='scale', kernel='rbf', max_iter=-1,\n",
       "                     probability=False, random_state=None, shrinking=True,\n",
       "                     tol=0.001, verbose=False))],\n",
       "         verbose=False)"
      ]
     },
     "execution_count": 199,
     "metadata": {},
     "output_type": "execute_result"
    }
   ],
   "source": [
    "best_pipeline = randomized_search.best_estimator_\n",
    "best_pipeline"
   ]
  },
  {
   "cell_type": "markdown",
   "metadata": {},
   "source": [
    "Now cross validation is used to evaluate the model with the hyperparameters already optimized. In this step different metrics can be used, such as the accuracy, recall, precision and area under the curve (AUC)."
   ]
  },
  {
   "cell_type": "code",
   "execution_count": 200,
   "metadata": {},
   "outputs": [
    {
     "name": "stdout",
     "output_type": "stream",
     "text": [
      "Metrics: test_accuracy\n",
      "Results for each fold: [0.96964121 0.98344066 0.89604416 0.85096596 0.92081031]\n",
      "Mean for all folds: 0.9241804618791306\n",
      "Standard deviation: 0.04845992973541813\n",
      "Metrics: test_recall\n",
      "Results for each fold: [0.99201824 1.         0.9281642  0.8173516  0.9760274 ]\n",
      "Mean for all folds: 0.942712287114124\n",
      "Standard deviation: 0.06745339914440407\n",
      "Metrics: test_precision\n",
      "Results for each fold: [0.97098214 0.97988827 0.94212963 0.99721448 0.92934783]\n",
      "Mean for all folds: 0.9639124702819639\n",
      "Standard deviation: 0.024833192812053168\n",
      "Metrics: test_roc_auc\n",
      "Results for each fold: [0.99803442 1.         0.9335288  0.96918079 0.84450424]\n",
      "Mean for all folds: 0.9490496513939014\n",
      "Standard deviation: 0.05756969407827283\n"
     ]
    }
   ],
   "source": [
    "scoring_metrics = ['accuracy', 'recall', 'precision', 'roc_auc']\n",
    "\n",
    "cv_scores = cross_validate(best_pipeline, X, y, scoring=scoring_metrics, cv=5, return_train_score=False)\n",
    "\n",
    "for key, value in cv_scores.items():\n",
    "    if key != \"fit_time\" and key != \"score_time\":\n",
    "        print(\"Metrics: %s\" % key)\n",
    "        print(\"Results for each fold: %s\" % value) \n",
    "        print(\"Mean for all folds: %s\" % np.mean(value))\n",
    "        print(\"Standard deviation: %s\" % np.std(value))"
   ]
  },
  {
   "cell_type": "markdown",
   "metadata": {},
   "source": [
    "The model is trained again with the complete dataset before being used to make predictions for test datasets."
   ]
  },
  {
   "cell_type": "code",
   "execution_count": 201,
   "metadata": {},
   "outputs": [],
   "source": [
    "modelSVM = best_pipeline.fit(X_train,y_train)"
   ]
  },
  {
   "cell_type": "markdown",
   "metadata": {},
   "source": [
    "Finally, we predicted the final results for the COVID-19 variable using the test dataset splited above and evaluate the performance of this results."
   ]
  },
  {
   "cell_type": "code",
   "execution_count": 202,
   "metadata": {},
   "outputs": [
    {
     "data": {
      "text/plain": [
       "array([0, 1, 1, ..., 1, 1, 1])"
      ]
     },
     "execution_count": 202,
     "metadata": {},
     "output_type": "execute_result"
    }
   ],
   "source": [
    "y_test_pred_svm = modelSVM.predict(X_test)\n",
    "y_test_pred"
   ]
  },
  {
   "cell_type": "code",
   "execution_count": 203,
   "metadata": {},
   "outputs": [
    {
     "data": {
      "text/plain": [
       "(0.9668813247470102,\n",
       " 0.9852941176470589,\n",
       " 0.9742729306487695,\n",
       " 0.9359968125181107)"
      ]
     },
     "execution_count": 203,
     "metadata": {},
     "output_type": "execute_result"
    }
   ],
   "source": [
    "acc_svm = accuracy_score(y_test, y_test_pred_svm)\n",
    "recall_svm = recall_score(y_test, y_test_pred_svm)\n",
    "prec_svm = precision_score(y_test, y_test_pred_svm)\n",
    "auc_svm = roc_auc_score(y_test, y_test_pred_svm)\n",
    "acc_svm, recall_svm, prec_svm, auc_svm"
   ]
  },
  {
   "cell_type": "markdown",
   "metadata": {},
   "source": [
    "The model can be saved for future use:"
   ]
  },
  {
   "cell_type": "code",
   "execution_count": 204,
   "metadata": {},
   "outputs": [],
   "source": [
    "pickle.dump(modelSVM, open('modelSVM.pkl', 'wb'))"
   ]
  },
  {
   "cell_type": "markdown",
   "metadata": {},
   "source": [
    "### Gradient Boosting"
   ]
  },
  {
   "cell_type": "markdown",
   "metadata": {},
   "source": [
    "For this approach is used the Gradient Boosting algorithm where the scikit Learn GradientBoostingRegressor class was used as estimator."
   ]
  },
  {
   "cell_type": "code",
   "execution_count": 205,
   "metadata": {},
   "outputs": [
    {
     "data": {
      "text/plain": [
       "GradientBoostingClassifier(ccp_alpha=0.0, criterion='friedman_mse', init=None,\n",
       "                           learning_rate=0.1, loss='deviance', max_depth=3,\n",
       "                           max_features=None, max_leaf_nodes=None,\n",
       "                           min_impurity_decrease=0.0, min_impurity_split=None,\n",
       "                           min_samples_leaf=1, min_samples_split=2,\n",
       "                           min_weight_fraction_leaf=0.0, n_estimators=100,\n",
       "                           n_iter_no_change=None, presort='deprecated',\n",
       "                           random_state=None, subsample=1.0, tol=0.0001,\n",
       "                           validation_fraction=0.1, verbose=0,\n",
       "                           warm_start=False)"
      ]
     },
     "execution_count": 205,
     "metadata": {},
     "output_type": "execute_result"
    }
   ],
   "source": [
    "estimator =  GradientBoostingClassifier()\n",
    "estimator"
   ]
  },
  {
   "cell_type": "markdown",
   "metadata": {},
   "source": [
    "The Pipeline class is used to chain a series of processing that is done to the data, in this case, the selection of the best k features using the selector estimator defined above and the model estimator itself."
   ]
  },
  {
   "cell_type": "code",
   "execution_count": 206,
   "metadata": {},
   "outputs": [],
   "source": [
    "pipeline = Pipeline([('selector', selector),('estimator', estimator)])"
   ]
  },
  {
   "cell_type": "markdown",
   "metadata": {},
   "source": [
    "Then several hyperparameters were tested using the RandomizedSearchCV optimization method, which tests some random combinations of the search grid values, evaluating performance through cross-validation (3 folds). After defining the hyperparameter grid and the respective values to be tested, the best ones were chosen for the future construction of the model."
   ]
  },
  {
   "cell_type": "code",
   "execution_count": 207,
   "metadata": {},
   "outputs": [
    {
     "data": {
      "text/html": [
       "<div>\n",
       "<style scoped>\n",
       "    .dataframe tbody tr th:only-of-type {\n",
       "        vertical-align: middle;\n",
       "    }\n",
       "\n",
       "    .dataframe tbody tr th {\n",
       "        vertical-align: top;\n",
       "    }\n",
       "\n",
       "    .dataframe thead th {\n",
       "        text-align: right;\n",
       "    }\n",
       "</style>\n",
       "<table border=\"1\" class=\"dataframe\">\n",
       "  <thead>\n",
       "    <tr style=\"text-align: right;\">\n",
       "      <th></th>\n",
       "      <th>mean_fit_time</th>\n",
       "      <th>std_fit_time</th>\n",
       "      <th>mean_score_time</th>\n",
       "      <th>std_score_time</th>\n",
       "      <th>param_selector__k</th>\n",
       "      <th>param_estimator__n_estimators</th>\n",
       "      <th>params</th>\n",
       "      <th>split0_test_score</th>\n",
       "      <th>split1_test_score</th>\n",
       "      <th>split2_test_score</th>\n",
       "      <th>mean_test_score</th>\n",
       "      <th>std_test_score</th>\n",
       "      <th>rank_test_score</th>\n",
       "    </tr>\n",
       "  </thead>\n",
       "  <tbody>\n",
       "    <tr>\n",
       "      <th>0</th>\n",
       "      <td>1.336761</td>\n",
       "      <td>0.358824</td>\n",
       "      <td>0.011978</td>\n",
       "      <td>0.002047</td>\n",
       "      <td>5</td>\n",
       "      <td>500</td>\n",
       "      <td>{'selector__k': 5, 'estimator__n_estimators': ...</td>\n",
       "      <td>0.956954</td>\n",
       "      <td>0.887355</td>\n",
       "      <td>0.768084</td>\n",
       "      <td>0.870798</td>\n",
       "      <td>0.077990</td>\n",
       "      <td>9</td>\n",
       "    </tr>\n",
       "    <tr>\n",
       "      <th>1</th>\n",
       "      <td>0.945207</td>\n",
       "      <td>0.052778</td>\n",
       "      <td>0.006483</td>\n",
       "      <td>0.000263</td>\n",
       "      <td>15</td>\n",
       "      <td>200</td>\n",
       "      <td>{'selector__k': 15, 'estimator__n_estimators':...</td>\n",
       "      <td>0.953091</td>\n",
       "      <td>0.887355</td>\n",
       "      <td>0.900055</td>\n",
       "      <td>0.913500</td>\n",
       "      <td>0.028471</td>\n",
       "      <td>1</td>\n",
       "    </tr>\n",
       "    <tr>\n",
       "      <th>2</th>\n",
       "      <td>0.252406</td>\n",
       "      <td>0.017746</td>\n",
       "      <td>0.003716</td>\n",
       "      <td>0.000259</td>\n",
       "      <td>5</td>\n",
       "      <td>100</td>\n",
       "      <td>{'selector__k': 5, 'estimator__n_estimators': ...</td>\n",
       "      <td>0.956954</td>\n",
       "      <td>0.887355</td>\n",
       "      <td>0.768084</td>\n",
       "      <td>0.870798</td>\n",
       "      <td>0.077990</td>\n",
       "      <td>9</td>\n",
       "    </tr>\n",
       "    <tr>\n",
       "      <th>3</th>\n",
       "      <td>0.755386</td>\n",
       "      <td>0.077245</td>\n",
       "      <td>0.013118</td>\n",
       "      <td>0.008394</td>\n",
       "      <td>10</td>\n",
       "      <td>200</td>\n",
       "      <td>{'selector__k': 10, 'estimator__n_estimators':...</td>\n",
       "      <td>0.958609</td>\n",
       "      <td>0.889012</td>\n",
       "      <td>0.850359</td>\n",
       "      <td>0.899327</td>\n",
       "      <td>0.044791</td>\n",
       "      <td>3</td>\n",
       "    </tr>\n",
       "    <tr>\n",
       "      <th>4</th>\n",
       "      <td>2.264242</td>\n",
       "      <td>0.147018</td>\n",
       "      <td>0.016969</td>\n",
       "      <td>0.003882</td>\n",
       "      <td>all</td>\n",
       "      <td>500</td>\n",
       "      <td>{'selector__k': 'all', 'estimator__n_estimator...</td>\n",
       "      <td>0.947020</td>\n",
       "      <td>0.886803</td>\n",
       "      <td>0.820541</td>\n",
       "      <td>0.884788</td>\n",
       "      <td>0.051654</td>\n",
       "      <td>8</td>\n",
       "    </tr>\n",
       "    <tr>\n",
       "      <th>5</th>\n",
       "      <td>2.929934</td>\n",
       "      <td>0.120182</td>\n",
       "      <td>0.019972</td>\n",
       "      <td>0.001986</td>\n",
       "      <td>all</td>\n",
       "      <td>700</td>\n",
       "      <td>{'selector__k': 'all', 'estimator__n_estimator...</td>\n",
       "      <td>0.947020</td>\n",
       "      <td>0.892877</td>\n",
       "      <td>0.826063</td>\n",
       "      <td>0.888653</td>\n",
       "      <td>0.049471</td>\n",
       "      <td>6</td>\n",
       "    </tr>\n",
       "    <tr>\n",
       "      <th>6</th>\n",
       "      <td>4.172733</td>\n",
       "      <td>0.144970</td>\n",
       "      <td>0.028998</td>\n",
       "      <td>0.003592</td>\n",
       "      <td>all</td>\n",
       "      <td>1000</td>\n",
       "      <td>{'selector__k': 'all', 'estimator__n_estimator...</td>\n",
       "      <td>0.947020</td>\n",
       "      <td>0.884042</td>\n",
       "      <td>0.834898</td>\n",
       "      <td>0.888653</td>\n",
       "      <td>0.045890</td>\n",
       "      <td>6</td>\n",
       "    </tr>\n",
       "    <tr>\n",
       "      <th>7</th>\n",
       "      <td>0.400255</td>\n",
       "      <td>0.017453</td>\n",
       "      <td>0.007532</td>\n",
       "      <td>0.000303</td>\n",
       "      <td>15</td>\n",
       "      <td>100</td>\n",
       "      <td>{'selector__k': 15, 'estimator__n_estimators':...</td>\n",
       "      <td>0.945916</td>\n",
       "      <td>0.882938</td>\n",
       "      <td>0.886251</td>\n",
       "      <td>0.905035</td>\n",
       "      <td>0.028939</td>\n",
       "      <td>2</td>\n",
       "    </tr>\n",
       "    <tr>\n",
       "      <th>8</th>\n",
       "      <td>2.546013</td>\n",
       "      <td>0.320258</td>\n",
       "      <td>0.024770</td>\n",
       "      <td>0.003955</td>\n",
       "      <td>10</td>\n",
       "      <td>700</td>\n",
       "      <td>{'selector__k': 10, 'estimator__n_estimators':...</td>\n",
       "      <td>0.955298</td>\n",
       "      <td>0.892325</td>\n",
       "      <td>0.836554</td>\n",
       "      <td>0.894726</td>\n",
       "      <td>0.048507</td>\n",
       "      <td>4</td>\n",
       "    </tr>\n",
       "    <tr>\n",
       "      <th>9</th>\n",
       "      <td>0.433667</td>\n",
       "      <td>0.005922</td>\n",
       "      <td>0.007699</td>\n",
       "      <td>0.002561</td>\n",
       "      <td>5</td>\n",
       "      <td>200</td>\n",
       "      <td>{'selector__k': 5, 'estimator__n_estimators': ...</td>\n",
       "      <td>0.956954</td>\n",
       "      <td>0.887355</td>\n",
       "      <td>0.826615</td>\n",
       "      <td>0.890308</td>\n",
       "      <td>0.053251</td>\n",
       "      <td>5</td>\n",
       "    </tr>\n",
       "  </tbody>\n",
       "</table>\n",
       "</div>"
      ],
      "text/plain": [
       "   mean_fit_time  std_fit_time  mean_score_time  std_score_time  \\\n",
       "0       1.336761      0.358824         0.011978        0.002047   \n",
       "1       0.945207      0.052778         0.006483        0.000263   \n",
       "2       0.252406      0.017746         0.003716        0.000259   \n",
       "3       0.755386      0.077245         0.013118        0.008394   \n",
       "4       2.264242      0.147018         0.016969        0.003882   \n",
       "5       2.929934      0.120182         0.019972        0.001986   \n",
       "6       4.172733      0.144970         0.028998        0.003592   \n",
       "7       0.400255      0.017453         0.007532        0.000303   \n",
       "8       2.546013      0.320258         0.024770        0.003955   \n",
       "9       0.433667      0.005922         0.007699        0.002561   \n",
       "\n",
       "  param_selector__k param_estimator__n_estimators  \\\n",
       "0                 5                           500   \n",
       "1                15                           200   \n",
       "2                 5                           100   \n",
       "3                10                           200   \n",
       "4               all                           500   \n",
       "5               all                           700   \n",
       "6               all                          1000   \n",
       "7                15                           100   \n",
       "8                10                           700   \n",
       "9                 5                           200   \n",
       "\n",
       "                                              params  split0_test_score  \\\n",
       "0  {'selector__k': 5, 'estimator__n_estimators': ...           0.956954   \n",
       "1  {'selector__k': 15, 'estimator__n_estimators':...           0.953091   \n",
       "2  {'selector__k': 5, 'estimator__n_estimators': ...           0.956954   \n",
       "3  {'selector__k': 10, 'estimator__n_estimators':...           0.958609   \n",
       "4  {'selector__k': 'all', 'estimator__n_estimator...           0.947020   \n",
       "5  {'selector__k': 'all', 'estimator__n_estimator...           0.947020   \n",
       "6  {'selector__k': 'all', 'estimator__n_estimator...           0.947020   \n",
       "7  {'selector__k': 15, 'estimator__n_estimators':...           0.945916   \n",
       "8  {'selector__k': 10, 'estimator__n_estimators':...           0.955298   \n",
       "9  {'selector__k': 5, 'estimator__n_estimators': ...           0.956954   \n",
       "\n",
       "   split1_test_score  split2_test_score  mean_test_score  std_test_score  \\\n",
       "0           0.887355           0.768084         0.870798        0.077990   \n",
       "1           0.887355           0.900055         0.913500        0.028471   \n",
       "2           0.887355           0.768084         0.870798        0.077990   \n",
       "3           0.889012           0.850359         0.899327        0.044791   \n",
       "4           0.886803           0.820541         0.884788        0.051654   \n",
       "5           0.892877           0.826063         0.888653        0.049471   \n",
       "6           0.884042           0.834898         0.888653        0.045890   \n",
       "7           0.882938           0.886251         0.905035        0.028939   \n",
       "8           0.892325           0.836554         0.894726        0.048507   \n",
       "9           0.887355           0.826615         0.890308        0.053251   \n",
       "\n",
       "   rank_test_score  \n",
       "0                9  \n",
       "1                1  \n",
       "2                9  \n",
       "3                3  \n",
       "4                8  \n",
       "5                6  \n",
       "6                6  \n",
       "7                2  \n",
       "8                4  \n",
       "9                5  "
      ]
     },
     "execution_count": 207,
     "metadata": {},
     "output_type": "execute_result"
    }
   ],
   "source": [
    "params_to_test = {'estimator__n_estimators':[100, 200, 500, 700, 1000],'selector__k':[5, 10, 15, 'all']}\n",
    "        \n",
    "randomized_search = RandomizedSearchCV(pipeline,params_to_test, cv=3)\n",
    "randomized_search.fit(X,y)\n",
    "\n",
    "rs_results = pd.DataFrame.from_dict(data=randomized_search.cv_results_)\n",
    "rs_results.to_csv('rs_results(GB).csv',index=False)\n",
    "rs_results"
   ]
  },
  {
   "cell_type": "markdown",
   "metadata": {},
   "source": [
    "The best hyperparameters were:"
   ]
  },
  {
   "cell_type": "code",
   "execution_count": 208,
   "metadata": {},
   "outputs": [
    {
     "data": {
      "text/plain": [
       "{'selector__k': 15, 'estimator__n_estimators': 200}"
      ]
     },
     "execution_count": 208,
     "metadata": {},
     "output_type": "execute_result"
    }
   ],
   "source": [
    "randomized_search.best_params_"
   ]
  },
  {
   "cell_type": "markdown",
   "metadata": {},
   "source": [
    "Building the model using the best hyperparameters"
   ]
  },
  {
   "cell_type": "code",
   "execution_count": 209,
   "metadata": {},
   "outputs": [
    {
     "data": {
      "text/plain": [
       "Pipeline(memory=None,\n",
       "         steps=[('selector',\n",
       "                 SelectKBest(k=15,\n",
       "                             score_func=<function f_regression at 0x7fd242db84d0>)),\n",
       "                ('estimator',\n",
       "                 GradientBoostingClassifier(ccp_alpha=0.0,\n",
       "                                            criterion='friedman_mse', init=None,\n",
       "                                            learning_rate=0.1, loss='deviance',\n",
       "                                            max_depth=3, max_features=None,\n",
       "                                            max_leaf_nodes=None,\n",
       "                                            min_impurity_decrease=0.0,\n",
       "                                            min_impurity_split=None,\n",
       "                                            min_samples_leaf=1,\n",
       "                                            min_samples_split=2,\n",
       "                                            min_weight_fraction_leaf=0.0,\n",
       "                                            n_estimators=200,\n",
       "                                            n_iter_no_change=None,\n",
       "                                            presort='deprecated',\n",
       "                                            random_state=None, subsample=1.0,\n",
       "                                            tol=0.0001, validation_fraction=0.1,\n",
       "                                            verbose=0, warm_start=False))],\n",
       "         verbose=False)"
      ]
     },
     "execution_count": 209,
     "metadata": {},
     "output_type": "execute_result"
    }
   ],
   "source": [
    "best_pipeline = randomized_search.best_estimator_\n",
    "best_pipeline"
   ]
  },
  {
   "cell_type": "markdown",
   "metadata": {},
   "source": [
    "Now cross validation is used to evaluate the model with the hyperparameters already optimized. In this step different metrics can be used, such as the accuracy, recall, precision and area under the curve (AUC)."
   ]
  },
  {
   "cell_type": "code",
   "execution_count": 210,
   "metadata": {},
   "outputs": [
    {
     "name": "stdout",
     "output_type": "stream",
     "text": [
      "Metrics: test_accuracy\n",
      "Results for each fold: [0.92916283 0.97516099 0.84268629 0.84544618 0.87661142]\n",
      "Mean for all folds: 0.8938135439591625\n",
      "Standard deviation: 0.05121775178102756\n",
      "Metrics: test_recall\n",
      "Results for each fold: [0.98973774 1.         0.86202965 0.81050228 0.90182648]\n",
      "Mean for all folds: 0.912819231189766\n",
      "Standard deviation: 0.07305631262077253\n",
      "Metrics: test_precision\n",
      "Results for each fold: [0.92735043 0.97013274 0.93796526 0.99719101 0.94272076]\n",
      "Mean for all folds: 0.955072041243654\n",
      "Standard deviation: 0.025355536912514617\n",
      "Metrics: test_roc_auc\n",
      "Results for each fold: [0.97856871 0.99692132 0.93816583 0.95887165 0.90322896]\n",
      "Mean for all folds: 0.9551512945261125\n",
      "Standard deviation: 0.03253117430757581\n"
     ]
    }
   ],
   "source": [
    "scoring_metrics = ['accuracy', 'recall', 'precision', 'roc_auc']\n",
    "\n",
    "cv_scores = cross_validate(best_pipeline, X, y, scoring=scoring_metrics, cv=5, return_train_score=False)\n",
    "\n",
    "for key, value in cv_scores.items():\n",
    "    if key != \"fit_time\" and key != \"score_time\":\n",
    "        print(\"Metrics: %s\" % key)\n",
    "        print(\"Results for each fold: %s\" % value) \n",
    "        print(\"Mean for all folds: %s\" % np.mean(value))\n",
    "        print(\"Standard deviation: %s\" % np.std(value))"
   ]
  },
  {
   "cell_type": "markdown",
   "metadata": {},
   "source": [
    "The model is trained again with the complete dataset before being used to make predictions for test datasets."
   ]
  },
  {
   "cell_type": "code",
   "execution_count": 211,
   "metadata": {},
   "outputs": [],
   "source": [
    "modelGB = best_pipeline.fit(X, y)"
   ]
  },
  {
   "cell_type": "markdown",
   "metadata": {},
   "source": [
    "In the case of the Gradient Boosting algorithm, like Random Forest, it is possible to obtain information about the importance of each feature"
   ]
  },
  {
   "cell_type": "code",
   "execution_count": 212,
   "metadata": {},
   "outputs": [
    {
     "data": {
      "text/html": [
       "<div>\n",
       "<style scoped>\n",
       "    .dataframe tbody tr th:only-of-type {\n",
       "        vertical-align: middle;\n",
       "    }\n",
       "\n",
       "    .dataframe tbody tr th {\n",
       "        vertical-align: top;\n",
       "    }\n",
       "\n",
       "    .dataframe thead th {\n",
       "        text-align: right;\n",
       "    }\n",
       "</style>\n",
       "<table border=\"1\" class=\"dataframe\">\n",
       "  <thead>\n",
       "    <tr style=\"text-align: right;\">\n",
       "      <th></th>\n",
       "      <th>0</th>\n",
       "      <th>1</th>\n",
       "    </tr>\n",
       "  </thead>\n",
       "  <tbody>\n",
       "    <tr>\n",
       "      <th>0</th>\n",
       "      <td>0.2367</td>\n",
       "      <td>Hyper Tension</td>\n",
       "    </tr>\n",
       "    <tr>\n",
       "      <th>1</th>\n",
       "      <td>0.2366</td>\n",
       "      <td>Sore throat</td>\n",
       "    </tr>\n",
       "    <tr>\n",
       "      <th>2</th>\n",
       "      <td>0.2136</td>\n",
       "      <td>Breathing Problem</td>\n",
       "    </tr>\n",
       "    <tr>\n",
       "      <th>3</th>\n",
       "      <td>0.1229</td>\n",
       "      <td>Dry Cough</td>\n",
       "    </tr>\n",
       "    <tr>\n",
       "      <th>4</th>\n",
       "      <td>0.0993</td>\n",
       "      <td>Gastrointestinal</td>\n",
       "    </tr>\n",
       "  </tbody>\n",
       "</table>\n",
       "</div>"
      ],
      "text/plain": [
       "        0                  1\n",
       "0  0.2367      Hyper Tension\n",
       "1  0.2366        Sore throat\n",
       "2  0.2136  Breathing Problem\n",
       "3  0.1229          Dry Cough\n",
       "4  0.0993  Gastrointestinal "
      ]
     },
     "execution_count": 212,
     "metadata": {},
     "output_type": "execute_result"
    }
   ],
   "source": [
    "ln = X.shape\n",
    "names = X.columns.tolist()\n",
    "feature_importances = sorted(zip(map(lambda x: round(x, 4), modelGB.named_steps['estimator'].feature_importances_),names), reverse=True)\n",
    "\n",
    "feature_importances = pd.DataFrame.from_dict(data=feature_importances)\n",
    "feature_importances.to_csv('feature_importances(GB).csv',index=False)\n",
    "\n",
    "feature_importances.head()"
   ]
  },
  {
   "cell_type": "markdown",
   "metadata": {},
   "source": [
    "Finally, we predicted the final results for the COVID-19 variable using the test dataset splited above and evaluate the performance of this results."
   ]
  },
  {
   "cell_type": "code",
   "execution_count": 213,
   "metadata": {},
   "outputs": [
    {
     "data": {
      "text/plain": [
       "array([1, 1, 1, ..., 1, 1, 1])"
      ]
     },
     "execution_count": 213,
     "metadata": {},
     "output_type": "execute_result"
    }
   ],
   "source": [
    "y_test_pred_gb = modelGB.predict(X_test)\n",
    "y_test_pred_gb"
   ]
  },
  {
   "cell_type": "code",
   "execution_count": 214,
   "metadata": {},
   "outputs": [
    {
     "data": {
      "text/plain": [
       "(0.9806807727690893,\n",
       " 0.9875565610859729,\n",
       " 0.9886749716874292,\n",
       " 0.9691477386710652)"
      ]
     },
     "execution_count": 214,
     "metadata": {},
     "output_type": "execute_result"
    }
   ],
   "source": [
    "acc_gb = accuracy_score(y_test, y_test_pred_gb)\n",
    "recall_gb = recall_score(y_test, y_test_pred_gb)\n",
    "prec_gb = precision_score(y_test, y_test_pred_gb)\n",
    "auc_gb = roc_auc_score(y_test, y_test_pred_gb)\n",
    "acc_gb, recall_gb, prec_gb, auc_gb"
   ]
  },
  {
   "cell_type": "markdown",
   "metadata": {},
   "source": [
    "The model can be saved for future use:"
   ]
  },
  {
   "cell_type": "code",
   "execution_count": 215,
   "metadata": {},
   "outputs": [],
   "source": [
    "pickle.dump(modelGB, open('modelGB.pkl', 'wb'))"
   ]
  },
  {
   "cell_type": "markdown",
   "metadata": {},
   "source": [
    "### Error Estimation Boxplot"
   ]
  },
  {
   "cell_type": "markdown",
   "metadata": {},
   "source": [
    "The cross validation results were evaluated and charted in order to better understand what happened when the model was built. First, for the **accuracy** metric we can get the following boxplot"
   ]
  },
  {
   "cell_type": "code",
   "execution_count": 221,
   "metadata": {},
   "outputs": [
    {
     "data": {
      "image/png": "[encoded data removed]",
      "text/plain": [
       "<Figure size 648x432 with 1 Axes>"
      ]
     },
     "metadata": {
      "needs_background": "light"
     },
     "output_type": "display_data"
    }
   ],
   "source": [
    "eachfoldRF = [0.93100276, 0.99172033, 0.88776449, 0.78656854, 0.8664825 ]\n",
    "\n",
    "eachfoldSVM = [0.96964121, 0.98344066, 0.89604416, 0.85096596, 0.92081031]\n",
    "\n",
    "eachfoldGB = [0.92916283, 0.97516099, 0.84268629, 0.84544618, 0.87661142]\n",
    "\n",
    "data_to_plot = [eachfoldRF, eachfoldSVM, eachfoldGB]\n",
    "fig = plt.figure(1, figsize=(9, 6))\n",
    "ax = fig.add_subplot(111)\n",
    "ax.boxplot(data_to_plot)\n",
    "ax.set_ylabel('Mean for each fold')\n",
    "ax.set_title('Accuracy Metrics')\n",
    "plt.xticks([1, 2, 3], ['RF', 'SVM', 'GB'])\n",
    "plt.ylim(0.7, 1.2)\n",
    "fig.savefig('acc_metrics.png', bbox_inches='tight')"
   ]
  },
  {
   "cell_type": "markdown",
   "metadata": {},
   "source": [
    "The boxplot obtained by the metric **recall** is now shown"
   ]
  },
  {
   "cell_type": "code",
   "execution_count": 222,
   "metadata": {},
   "outputs": [
    {
     "data": {
      "image/png": "[encoded data removed]",
      "text/plain": [
       "<Figure size 648x432 with 1 Axes>"
      ]
     },
     "metadata": {
      "needs_background": "light"
     },
     "output_type": "display_data"
    }
   ],
   "source": [
    "eachfoldRF = [0.99201824, 1., 0.91790194, 0.73744292, 0.92694064]\n",
    "\n",
    "eachfoldSVM = [0.99201824, 1., 0.9281642, 0.8173516, 0.9760274 ]\n",
    "\n",
    "eachfoldGB = [0.98973774, 1., 0.86202965, 0.81050228, 0.90182648]\n",
    "\n",
    "data_to_plot = [eachfoldRF, eachfoldSVM, eachfoldGB]\n",
    "fig = plt.figure(1, figsize=(9, 6))\n",
    "ax = fig.add_subplot(111)\n",
    "ax.boxplot(data_to_plot)\n",
    "ax.set_ylabel('Mean for each fold')\n",
    "ax.set_title('Recall Metrics')\n",
    "plt.xticks([1, 2, 3], ['RF', 'SVM', 'GB'])\n",
    "plt.ylim(0.7, 1.2)\n",
    "fig.savefig('recall_metrics.png', bbox_inches='tight')"
   ]
  },
  {
   "cell_type": "markdown",
   "metadata": {},
   "source": [
    "The boxplot obtained by the metric **precision** is now shown"
   ]
  },
  {
   "cell_type": "code",
   "execution_count": 223,
   "metadata": {},
   "outputs": [
    {
     "data": {
      "image/png": "[encoded data removed]",
      "text/plain": [
       "<Figure size 648x432 with 1 Axes>"
      ]
     },
     "metadata": {
      "needs_background": "light"
     },
     "output_type": "display_data"
    }
   ],
   "source": [
    "eachfoldRF = [0.92750533, 0.98984199, 0.94152047, 0.99691358, 0.90929451]\n",
    "\n",
    "eachfoldSVM = [0.97098214, 0.97988827, 0.94212963, 0.99721448, 0.92934783]\n",
    "\n",
    "eachfoldGB = [0.92735043, 0.97013274, 0.93796526, 0.99719101, 0.94272076]\n",
    "\n",
    "data_to_plot = [eachfoldRF, eachfoldSVM, eachfoldGB]\n",
    "fig = plt.figure(1, figsize=(9, 6))\n",
    "ax = fig.add_subplot(111)\n",
    "ax.boxplot(data_to_plot)\n",
    "ax.set_ylabel('Mean for each fold')\n",
    "ax.set_title('Precision Metrics')\n",
    "plt.xticks([1, 2, 3], ['RF', 'SVM', 'GB'])\n",
    "plt.ylim(0.7, 1.2)\n",
    "fig.savefig('precision_metrics.png', bbox_inches='tight')"
   ]
  },
  {
   "cell_type": "markdown",
   "metadata": {},
   "source": [
    "The boxplot obtained by the metric **Area Under the Curve (AUC)** is now shown"
   ]
  },
  {
   "cell_type": "code",
   "execution_count": 224,
   "metadata": {},
   "outputs": [
    {
     "data": {
      "image/png": "[encoded data removed]",
      "text/plain": [
       "<Figure size 648x432 with 1 Axes>"
      ]
     },
     "metadata": {
      "needs_background": "light"
     },
     "output_type": "display_data"
    }
   ],
   "source": [
    "eachfoldRF = [0.98633871, 1., 0.94825433, 0.94666623, 0.86429115]\n",
    "\n",
    "eachfoldSVM = [0.99803442, 1., 0.9335288, 0.96918079, 0.84450424]\n",
    "\n",
    "eachfoldGB = [0.97856871, 0.99692132, 0.93816583, 0.95887165, 0.90322896]\n",
    "\n",
    "data_to_plot = [eachfoldRF, eachfoldSVM, eachfoldGB]\n",
    "fig = plt.figure(1, figsize=(9, 6))\n",
    "ax = fig.add_subplot(111)\n",
    "ax.boxplot(data_to_plot)\n",
    "ax.set_ylabel('Mean for each fold')\n",
    "ax.set_title('AUC Metrics')\n",
    "plt.xticks([1, 2, 3], ['RF', 'SVM', 'GB'])\n",
    "plt.ylim(0.7, 1.2)\n",
    "fig.savefig('AUC_metrics.png', bbox_inches='tight')"
   ]
  },
  {
   "cell_type": "code",
   "execution_count": 220,
   "metadata": {},
   "outputs": [
    {
     "data": {
      "text/html": [
       "<div>\n",
       "<style scoped>\n",
       "    .dataframe tbody tr th:only-of-type {\n",
       "        vertical-align: middle;\n",
       "    }\n",
       "\n",
       "    .dataframe tbody tr th {\n",
       "        vertical-align: top;\n",
       "    }\n",
       "\n",
       "    .dataframe thead th {\n",
       "        text-align: right;\n",
       "    }\n",
       "</style>\n",
       "<table border=\"1\" class=\"dataframe\">\n",
       "  <thead>\n",
       "    <tr style=\"text-align: right;\">\n",
       "      <th></th>\n",
       "      <th>Accuracy</th>\n",
       "      <th>Recall</th>\n",
       "      <th>Precision</th>\n",
       "      <th>AUC</th>\n",
       "    </tr>\n",
       "    <tr>\n",
       "      <th>Model</th>\n",
       "      <th></th>\n",
       "      <th></th>\n",
       "      <th></th>\n",
       "      <th></th>\n",
       "    </tr>\n",
       "  </thead>\n",
       "  <tbody>\n",
       "    <tr>\n",
       "      <th>Random Forest</th>\n",
       "      <td>0.966881</td>\n",
       "      <td>0.985294</td>\n",
       "      <td>0.974273</td>\n",
       "      <td>0.935997</td>\n",
       "    </tr>\n",
       "    <tr>\n",
       "      <th>Support Vector Machine</th>\n",
       "      <td>0.966881</td>\n",
       "      <td>0.985294</td>\n",
       "      <td>0.974273</td>\n",
       "      <td>0.935997</td>\n",
       "    </tr>\n",
       "    <tr>\n",
       "      <th>Gradient Boosting</th>\n",
       "      <td>0.980681</td>\n",
       "      <td>0.987557</td>\n",
       "      <td>0.988675</td>\n",
       "      <td>0.969148</td>\n",
       "    </tr>\n",
       "  </tbody>\n",
       "</table>\n",
       "</div>"
      ],
      "text/plain": [
       "                        Accuracy    Recall  Precision       AUC\n",
       "Model                                                          \n",
       "Random Forest           0.966881  0.985294   0.974273  0.935997\n",
       "Support Vector Machine  0.966881  0.985294   0.974273  0.935997\n",
       "Gradient Boosting       0.980681  0.987557   0.988675  0.969148"
      ]
     },
     "execution_count": 220,
     "metadata": {},
     "output_type": "execute_result"
    }
   ],
   "source": [
    "models = pd.DataFrame({\n",
    "    'Model': ['Random Forest', 'Support Vector Machine', 'Gradient Boosting'],\n",
    "    'Accuracy': [acc_rf, acc_svm, acc_gb],\n",
    "    'Recall': [recall_rf, recall_svm, recall_gb],\n",
    "    'Precision': [prec_rf, prec_svm, prec_gb],\n",
    "    'AUC':[auc_rf, auc_svm, auc_gb]})\n",
    "models.set_index('Model')"
   ]
  },
  {
   "cell_type": "code",
   "execution_count": null,
   "metadata": {},
   "outputs": [],
   "source": []
  }
 ],
 "metadata": {
  "kernelspec": {
   "display_name": "Python 3",
   "language": "python",
   "name": "python3"
  },
  "language_info": {
   "codemirror_mode": {
    "name": "ipython",
    "version": 3
   },
   "file_extension": ".py",
   "mimetype": "text/x-python",
   "name": "python",
   "nbconvert_exporter": "python",
   "pygments_lexer": "ipython3",
   "version": "3.7.6"
  }
 },
 "nbformat": 4,
 "nbformat_minor": 4
}
