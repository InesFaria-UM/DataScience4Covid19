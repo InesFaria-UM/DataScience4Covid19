{
 "cells": [
  {
   "cell_type": "markdown",
   "metadata": {},
   "source": [
    "<h1><center>Data Science for Covid19</center></h1>\n",
    "<center>Intelligent Systems For Bioinformatics</center>"
   ]
  },
  {
   "cell_type": "markdown",
   "metadata": {},
   "source": [
    "For this workflow it will be necessary import the following packages:"
   ]
  },
  {
   "cell_type": "code",
   "execution_count": 1,
   "metadata": {},
   "outputs": [
    {
     "name": "stdout",
     "output_type": "stream",
     "text": [
      "Folder 'plots' already exists.\n",
      "Folder 'data' already exists.\n",
      "Folder 'models' already exists.\n"
     ]
    }
   ],
   "source": [
    "import pandas as pd\n",
    "import numpy as np\n",
    "import matplotlib.pyplot as plt\n",
    "import seaborn as sns\n",
    "from sklearn import preprocessing\n",
    "from sklearn.model_selection import train_test_split, cross_validate, RandomizedSearchCV\n",
    "from sklearn.feature_selection import SelectKBest, f_regression\n",
    "from sklearn.pipeline import Pipeline\n",
    "from sklearn.metrics import confusion_matrix, plot_confusion_matrix\n",
    "from sklearn.ensemble import RandomForestClassifier\n",
    "from sklearn.svm import SVC\n",
    "from sklearn.ensemble import GradientBoostingClassifier\n",
    "from sklearn.metrics import accuracy_score, recall_score, precision_score, roc_auc_score\n",
    "\n",
    "import os\n",
    "import warnings\n",
    "warnings.filterwarnings('ignore') \n",
    "import pickle\n",
    "\n",
    "try:\n",
    "    os.mkdir(\"plots\")\n",
    "    print(\"Folder 'plots' successfully created.\")\n",
    "except:\n",
    "    print(\"Folder 'plots' already exists.\")\n",
    "    \n",
    "try:\n",
    "    os.mkdir(\"data\")\n",
    "    print(\"Folder 'data' successfully created.\")\n",
    "except:\n",
    "    print(\"Folder 'data' already exists.\")\n",
    "    \n",
    "try:\n",
    "    os.mkdir(\"models\")\n",
    "    print(\"Folder 'models' successfully created.\")\n",
    "except:\n",
    "    print(\"Folder 'models' already exists.\")\n",
    "    \n",
    "seed = 123\n",
    "np.random.seed(seed)"
   ]
  },
  {
   "cell_type": "markdown",
   "metadata": {},
   "source": [
    "The dataset \"Covid_Dataset.csv\" contains a total of 20 symptoms and individual's routines that are possibly related to Covid-19 and were evaluated for 5434 individuals. The last feature of the dataset, \"COVID-19\", reports the presence of the virus."
   ]
  },
  {
   "cell_type": "code",
   "execution_count": 2,
   "metadata": {},
   "outputs": [
    {
     "data": {
      "text/html": [
       "<div>\n",
       "<style scoped>\n",
       "    .dataframe tbody tr th:only-of-type {\n",
       "        vertical-align: middle;\n",
       "    }\n",
       "\n",
       "    .dataframe tbody tr th {\n",
       "        vertical-align: top;\n",
       "    }\n",
       "\n",
       "    .dataframe thead th {\n",
       "        text-align: right;\n",
       "    }\n",
       "</style>\n",
       "<table border=\"1\" class=\"dataframe\">\n",
       "  <thead>\n",
       "    <tr style=\"text-align: right;\">\n",
       "      <th></th>\n",
       "      <th>Breathing Problem</th>\n",
       "      <th>Fever</th>\n",
       "      <th>Dry Cough</th>\n",
       "      <th>Sore throat</th>\n",
       "      <th>Running Nose</th>\n",
       "      <th>Asthma</th>\n",
       "      <th>Chronic Lung Disease</th>\n",
       "      <th>Headache</th>\n",
       "      <th>Heart Disease</th>\n",
       "      <th>Diabetes</th>\n",
       "      <th>...</th>\n",
       "      <th>Fatigue</th>\n",
       "      <th>Gastrointestinal</th>\n",
       "      <th>Abroad travel</th>\n",
       "      <th>Contact with COVID Patient</th>\n",
       "      <th>Attended Large Gathering</th>\n",
       "      <th>Visited Public Exposed Places</th>\n",
       "      <th>Family working in Public Exposed Places</th>\n",
       "      <th>Wearing Masks</th>\n",
       "      <th>Sanitization from Market</th>\n",
       "      <th>COVID-19</th>\n",
       "    </tr>\n",
       "  </thead>\n",
       "  <tbody>\n",
       "    <tr>\n",
       "      <th>0</th>\n",
       "      <td>Yes</td>\n",
       "      <td>Yes</td>\n",
       "      <td>Yes</td>\n",
       "      <td>Yes</td>\n",
       "      <td>Yes</td>\n",
       "      <td>No</td>\n",
       "      <td>No</td>\n",
       "      <td>No</td>\n",
       "      <td>No</td>\n",
       "      <td>Yes</td>\n",
       "      <td>...</td>\n",
       "      <td>Yes</td>\n",
       "      <td>Yes</td>\n",
       "      <td>No</td>\n",
       "      <td>Yes</td>\n",
       "      <td>No</td>\n",
       "      <td>Yes</td>\n",
       "      <td>Yes</td>\n",
       "      <td>No</td>\n",
       "      <td>No</td>\n",
       "      <td>Yes</td>\n",
       "    </tr>\n",
       "    <tr>\n",
       "      <th>1</th>\n",
       "      <td>Yes</td>\n",
       "      <td>Yes</td>\n",
       "      <td>Yes</td>\n",
       "      <td>Yes</td>\n",
       "      <td>No</td>\n",
       "      <td>Yes</td>\n",
       "      <td>Yes</td>\n",
       "      <td>Yes</td>\n",
       "      <td>No</td>\n",
       "      <td>No</td>\n",
       "      <td>...</td>\n",
       "      <td>Yes</td>\n",
       "      <td>No</td>\n",
       "      <td>No</td>\n",
       "      <td>No</td>\n",
       "      <td>Yes</td>\n",
       "      <td>Yes</td>\n",
       "      <td>No</td>\n",
       "      <td>No</td>\n",
       "      <td>No</td>\n",
       "      <td>Yes</td>\n",
       "    </tr>\n",
       "    <tr>\n",
       "      <th>2</th>\n",
       "      <td>Yes</td>\n",
       "      <td>Yes</td>\n",
       "      <td>Yes</td>\n",
       "      <td>Yes</td>\n",
       "      <td>Yes</td>\n",
       "      <td>Yes</td>\n",
       "      <td>Yes</td>\n",
       "      <td>Yes</td>\n",
       "      <td>No</td>\n",
       "      <td>Yes</td>\n",
       "      <td>...</td>\n",
       "      <td>Yes</td>\n",
       "      <td>Yes</td>\n",
       "      <td>Yes</td>\n",
       "      <td>No</td>\n",
       "      <td>No</td>\n",
       "      <td>No</td>\n",
       "      <td>No</td>\n",
       "      <td>No</td>\n",
       "      <td>No</td>\n",
       "      <td>Yes</td>\n",
       "    </tr>\n",
       "    <tr>\n",
       "      <th>3</th>\n",
       "      <td>Yes</td>\n",
       "      <td>Yes</td>\n",
       "      <td>Yes</td>\n",
       "      <td>No</td>\n",
       "      <td>No</td>\n",
       "      <td>Yes</td>\n",
       "      <td>No</td>\n",
       "      <td>No</td>\n",
       "      <td>Yes</td>\n",
       "      <td>Yes</td>\n",
       "      <td>...</td>\n",
       "      <td>No</td>\n",
       "      <td>No</td>\n",
       "      <td>Yes</td>\n",
       "      <td>No</td>\n",
       "      <td>Yes</td>\n",
       "      <td>Yes</td>\n",
       "      <td>No</td>\n",
       "      <td>No</td>\n",
       "      <td>No</td>\n",
       "      <td>Yes</td>\n",
       "    </tr>\n",
       "    <tr>\n",
       "      <th>4</th>\n",
       "      <td>Yes</td>\n",
       "      <td>Yes</td>\n",
       "      <td>Yes</td>\n",
       "      <td>Yes</td>\n",
       "      <td>Yes</td>\n",
       "      <td>No</td>\n",
       "      <td>Yes</td>\n",
       "      <td>Yes</td>\n",
       "      <td>Yes</td>\n",
       "      <td>Yes</td>\n",
       "      <td>...</td>\n",
       "      <td>No</td>\n",
       "      <td>Yes</td>\n",
       "      <td>No</td>\n",
       "      <td>Yes</td>\n",
       "      <td>No</td>\n",
       "      <td>Yes</td>\n",
       "      <td>No</td>\n",
       "      <td>No</td>\n",
       "      <td>No</td>\n",
       "      <td>Yes</td>\n",
       "    </tr>\n",
       "    <tr>\n",
       "      <th>...</th>\n",
       "      <td>...</td>\n",
       "      <td>...</td>\n",
       "      <td>...</td>\n",
       "      <td>...</td>\n",
       "      <td>...</td>\n",
       "      <td>...</td>\n",
       "      <td>...</td>\n",
       "      <td>...</td>\n",
       "      <td>...</td>\n",
       "      <td>...</td>\n",
       "      <td>...</td>\n",
       "      <td>...</td>\n",
       "      <td>...</td>\n",
       "      <td>...</td>\n",
       "      <td>...</td>\n",
       "      <td>...</td>\n",
       "      <td>...</td>\n",
       "      <td>...</td>\n",
       "      <td>...</td>\n",
       "      <td>...</td>\n",
       "      <td>...</td>\n",
       "    </tr>\n",
       "    <tr>\n",
       "      <th>5429</th>\n",
       "      <td>Yes</td>\n",
       "      <td>Yes</td>\n",
       "      <td>No</td>\n",
       "      <td>Yes</td>\n",
       "      <td>Yes</td>\n",
       "      <td>Yes</td>\n",
       "      <td>Yes</td>\n",
       "      <td>No</td>\n",
       "      <td>No</td>\n",
       "      <td>No</td>\n",
       "      <td>...</td>\n",
       "      <td>Yes</td>\n",
       "      <td>Yes</td>\n",
       "      <td>No</td>\n",
       "      <td>No</td>\n",
       "      <td>No</td>\n",
       "      <td>No</td>\n",
       "      <td>No</td>\n",
       "      <td>No</td>\n",
       "      <td>No</td>\n",
       "      <td>Yes</td>\n",
       "    </tr>\n",
       "    <tr>\n",
       "      <th>5430</th>\n",
       "      <td>Yes</td>\n",
       "      <td>Yes</td>\n",
       "      <td>Yes</td>\n",
       "      <td>No</td>\n",
       "      <td>Yes</td>\n",
       "      <td>Yes</td>\n",
       "      <td>No</td>\n",
       "      <td>Yes</td>\n",
       "      <td>No</td>\n",
       "      <td>Yes</td>\n",
       "      <td>...</td>\n",
       "      <td>Yes</td>\n",
       "      <td>No</td>\n",
       "      <td>No</td>\n",
       "      <td>No</td>\n",
       "      <td>No</td>\n",
       "      <td>No</td>\n",
       "      <td>No</td>\n",
       "      <td>No</td>\n",
       "      <td>No</td>\n",
       "      <td>Yes</td>\n",
       "    </tr>\n",
       "    <tr>\n",
       "      <th>5431</th>\n",
       "      <td>Yes</td>\n",
       "      <td>Yes</td>\n",
       "      <td>Yes</td>\n",
       "      <td>No</td>\n",
       "      <td>No</td>\n",
       "      <td>No</td>\n",
       "      <td>No</td>\n",
       "      <td>No</td>\n",
       "      <td>Yes</td>\n",
       "      <td>No</td>\n",
       "      <td>...</td>\n",
       "      <td>No</td>\n",
       "      <td>No</td>\n",
       "      <td>No</td>\n",
       "      <td>No</td>\n",
       "      <td>No</td>\n",
       "      <td>No</td>\n",
       "      <td>No</td>\n",
       "      <td>No</td>\n",
       "      <td>No</td>\n",
       "      <td>No</td>\n",
       "    </tr>\n",
       "    <tr>\n",
       "      <th>5432</th>\n",
       "      <td>Yes</td>\n",
       "      <td>Yes</td>\n",
       "      <td>Yes</td>\n",
       "      <td>No</td>\n",
       "      <td>Yes</td>\n",
       "      <td>No</td>\n",
       "      <td>No</td>\n",
       "      <td>Yes</td>\n",
       "      <td>Yes</td>\n",
       "      <td>No</td>\n",
       "      <td>...</td>\n",
       "      <td>No</td>\n",
       "      <td>No</td>\n",
       "      <td>No</td>\n",
       "      <td>No</td>\n",
       "      <td>No</td>\n",
       "      <td>No</td>\n",
       "      <td>No</td>\n",
       "      <td>No</td>\n",
       "      <td>No</td>\n",
       "      <td>No</td>\n",
       "    </tr>\n",
       "    <tr>\n",
       "      <th>5433</th>\n",
       "      <td>Yes</td>\n",
       "      <td>Yes</td>\n",
       "      <td>Yes</td>\n",
       "      <td>No</td>\n",
       "      <td>Yes</td>\n",
       "      <td>Yes</td>\n",
       "      <td>No</td>\n",
       "      <td>Yes</td>\n",
       "      <td>No</td>\n",
       "      <td>Yes</td>\n",
       "      <td>...</td>\n",
       "      <td>Yes</td>\n",
       "      <td>No</td>\n",
       "      <td>No</td>\n",
       "      <td>No</td>\n",
       "      <td>No</td>\n",
       "      <td>No</td>\n",
       "      <td>No</td>\n",
       "      <td>No</td>\n",
       "      <td>No</td>\n",
       "      <td>No</td>\n",
       "    </tr>\n",
       "  </tbody>\n",
       "</table>\n",
       "<p>5434 rows × 21 columns</p>\n",
       "</div>"
      ],
      "text/plain": [
       "     Breathing Problem Fever Dry Cough Sore throat Running Nose Asthma  \\\n",
       "0                  Yes   Yes       Yes         Yes          Yes     No   \n",
       "1                  Yes   Yes       Yes         Yes           No    Yes   \n",
       "2                  Yes   Yes       Yes         Yes          Yes    Yes   \n",
       "3                  Yes   Yes       Yes          No           No    Yes   \n",
       "4                  Yes   Yes       Yes         Yes          Yes     No   \n",
       "...                ...   ...       ...         ...          ...    ...   \n",
       "5429               Yes   Yes        No         Yes          Yes    Yes   \n",
       "5430               Yes   Yes       Yes          No          Yes    Yes   \n",
       "5431               Yes   Yes       Yes          No           No     No   \n",
       "5432               Yes   Yes       Yes          No          Yes     No   \n",
       "5433               Yes   Yes       Yes          No          Yes    Yes   \n",
       "\n",
       "     Chronic Lung Disease Headache Heart Disease Diabetes  ... Fatigue   \\\n",
       "0                      No       No            No      Yes  ...      Yes   \n",
       "1                     Yes      Yes            No       No  ...      Yes   \n",
       "2                     Yes      Yes            No      Yes  ...      Yes   \n",
       "3                      No       No           Yes      Yes  ...       No   \n",
       "4                     Yes      Yes           Yes      Yes  ...       No   \n",
       "...                   ...      ...           ...      ...  ...      ...   \n",
       "5429                  Yes       No            No       No  ...      Yes   \n",
       "5430                   No      Yes            No      Yes  ...      Yes   \n",
       "5431                   No       No           Yes       No  ...       No   \n",
       "5432                   No      Yes           Yes       No  ...       No   \n",
       "5433                   No      Yes            No      Yes  ...      Yes   \n",
       "\n",
       "     Gastrointestinal  Abroad travel Contact with COVID Patient  \\\n",
       "0                  Yes            No                        Yes   \n",
       "1                   No            No                         No   \n",
       "2                  Yes           Yes                         No   \n",
       "3                   No           Yes                         No   \n",
       "4                  Yes            No                        Yes   \n",
       "...                ...           ...                        ...   \n",
       "5429               Yes            No                         No   \n",
       "5430                No            No                         No   \n",
       "5431                No            No                         No   \n",
       "5432                No            No                         No   \n",
       "5433                No            No                         No   \n",
       "\n",
       "     Attended Large Gathering Visited Public Exposed Places  \\\n",
       "0                          No                           Yes   \n",
       "1                         Yes                           Yes   \n",
       "2                          No                            No   \n",
       "3                         Yes                           Yes   \n",
       "4                          No                           Yes   \n",
       "...                       ...                           ...   \n",
       "5429                       No                            No   \n",
       "5430                       No                            No   \n",
       "5431                       No                            No   \n",
       "5432                       No                            No   \n",
       "5433                       No                            No   \n",
       "\n",
       "     Family working in Public Exposed Places Wearing Masks  \\\n",
       "0                                        Yes            No   \n",
       "1                                         No            No   \n",
       "2                                         No            No   \n",
       "3                                         No            No   \n",
       "4                                         No            No   \n",
       "...                                      ...           ...   \n",
       "5429                                      No            No   \n",
       "5430                                      No            No   \n",
       "5431                                      No            No   \n",
       "5432                                      No            No   \n",
       "5433                                      No            No   \n",
       "\n",
       "     Sanitization from Market COVID-19  \n",
       "0                          No      Yes  \n",
       "1                          No      Yes  \n",
       "2                          No      Yes  \n",
       "3                          No      Yes  \n",
       "4                          No      Yes  \n",
       "...                       ...      ...  \n",
       "5429                       No      Yes  \n",
       "5430                       No      Yes  \n",
       "5431                       No       No  \n",
       "5432                       No       No  \n",
       "5433                       No       No  \n",
       "\n",
       "[5434 rows x 21 columns]"
      ]
     },
     "execution_count": 2,
     "metadata": {},
     "output_type": "execute_result"
    }
   ],
   "source": [
    "dataset = pd.read_csv(\"Covid_Dataset.csv\")\n",
    "dataset"
   ]
  },
  {
   "cell_type": "code",
   "execution_count": 3,
   "metadata": {
    "scrolled": false
   },
   "outputs": [
    {
     "name": "stdout",
     "output_type": "stream",
     "text": [
      "Number of samples: 5434\n",
      "Number of features: 21\n",
      "Number of NAs: 0\n"
     ]
    }
   ],
   "source": [
    "print(\"Number of samples: \" + str(dataset.shape[0]))\n",
    "print(\"Number of features: \" + str(dataset.shape[1]))\n",
    "print(\"Number of NAs: \" + str(sum(dataset.isna().sum())))"
   ]
  },
  {
   "cell_type": "markdown",
   "metadata": {},
   "source": [
    "### **Exploratory analysis**"
   ]
  },
  {
   "cell_type": "markdown",
   "metadata": {},
   "source": [
    "The features evaluated for all the individuals include several symptoms such as breathing problems, fever and dry cough and routines such as travel abroad, contact with Covid-19 patients and attending large gatherings.\n",
    "\n",
    "To better comprehend the dataset, we perform an exploratory analysis that begun by searching for missing data that could condition our analysis. We verified that all the 5 434 individuals have answered to the requested information."
   ]
  },
  {
   "cell_type": "code",
   "execution_count": 4,
   "metadata": {},
   "outputs": [
    {
     "data": {
      "text/plain": [
       "Breathing Problem                          0\n",
       "Fever                                      0\n",
       "Dry Cough                                  0\n",
       "Sore throat                                0\n",
       "Running Nose                               0\n",
       "Asthma                                     0\n",
       "Chronic Lung Disease                       0\n",
       "Headache                                   0\n",
       "Heart Disease                              0\n",
       "Diabetes                                   0\n",
       "Hyper Tension                              0\n",
       "Fatigue                                    0\n",
       "Gastrointestinal                           0\n",
       "Abroad travel                              0\n",
       "Contact with COVID Patient                 0\n",
       "Attended Large Gathering                   0\n",
       "Visited Public Exposed Places              0\n",
       "Family working in Public Exposed Places    0\n",
       "Wearing Masks                              0\n",
       "Sanitization from Market                   0\n",
       "COVID-19                                   0\n",
       "dtype: int64"
      ]
     },
     "execution_count": 4,
     "metadata": {},
     "output_type": "execute_result"
    }
   ],
   "source": [
    "dataset.isna().sum()"
   ]
  },
  {
   "cell_type": "markdown",
   "metadata": {},
   "source": [
    "When attempting to a better description of all the features, we found that no one has reported the use of mask or sanitization from markets which can introduce bias to the model. To ensure that does not happen, we remove those routines from the dataset."
   ]
  },
  {
   "cell_type": "code",
   "execution_count": 5,
   "metadata": {},
   "outputs": [
    {
     "data": {
      "text/html": [
       "<div>\n",
       "<style scoped>\n",
       "    .dataframe tbody tr th:only-of-type {\n",
       "        vertical-align: middle;\n",
       "    }\n",
       "\n",
       "    .dataframe tbody tr th {\n",
       "        vertical-align: top;\n",
       "    }\n",
       "\n",
       "    .dataframe thead th {\n",
       "        text-align: right;\n",
       "    }\n",
       "</style>\n",
       "<table border=\"1\" class=\"dataframe\">\n",
       "  <thead>\n",
       "    <tr style=\"text-align: right;\">\n",
       "      <th></th>\n",
       "      <th>Breathing Problem</th>\n",
       "      <th>Fever</th>\n",
       "      <th>Dry Cough</th>\n",
       "      <th>Sore throat</th>\n",
       "      <th>Running Nose</th>\n",
       "      <th>Asthma</th>\n",
       "      <th>Chronic Lung Disease</th>\n",
       "      <th>Headache</th>\n",
       "      <th>Heart Disease</th>\n",
       "      <th>Diabetes</th>\n",
       "      <th>...</th>\n",
       "      <th>Fatigue</th>\n",
       "      <th>Gastrointestinal</th>\n",
       "      <th>Abroad travel</th>\n",
       "      <th>Contact with COVID Patient</th>\n",
       "      <th>Attended Large Gathering</th>\n",
       "      <th>Visited Public Exposed Places</th>\n",
       "      <th>Family working in Public Exposed Places</th>\n",
       "      <th>Wearing Masks</th>\n",
       "      <th>Sanitization from Market</th>\n",
       "      <th>COVID-19</th>\n",
       "    </tr>\n",
       "  </thead>\n",
       "  <tbody>\n",
       "    <tr>\n",
       "      <th>count</th>\n",
       "      <td>5434</td>\n",
       "      <td>5434</td>\n",
       "      <td>5434</td>\n",
       "      <td>5434</td>\n",
       "      <td>5434</td>\n",
       "      <td>5434</td>\n",
       "      <td>5434</td>\n",
       "      <td>5434</td>\n",
       "      <td>5434</td>\n",
       "      <td>5434</td>\n",
       "      <td>...</td>\n",
       "      <td>5434</td>\n",
       "      <td>5434</td>\n",
       "      <td>5434</td>\n",
       "      <td>5434</td>\n",
       "      <td>5434</td>\n",
       "      <td>5434</td>\n",
       "      <td>5434</td>\n",
       "      <td>5434</td>\n",
       "      <td>5434</td>\n",
       "      <td>5434</td>\n",
       "    </tr>\n",
       "    <tr>\n",
       "      <th>unique</th>\n",
       "      <td>2</td>\n",
       "      <td>2</td>\n",
       "      <td>2</td>\n",
       "      <td>2</td>\n",
       "      <td>2</td>\n",
       "      <td>2</td>\n",
       "      <td>2</td>\n",
       "      <td>2</td>\n",
       "      <td>2</td>\n",
       "      <td>2</td>\n",
       "      <td>...</td>\n",
       "      <td>2</td>\n",
       "      <td>2</td>\n",
       "      <td>2</td>\n",
       "      <td>2</td>\n",
       "      <td>2</td>\n",
       "      <td>2</td>\n",
       "      <td>2</td>\n",
       "      <td>1</td>\n",
       "      <td>1</td>\n",
       "      <td>2</td>\n",
       "    </tr>\n",
       "    <tr>\n",
       "      <th>top</th>\n",
       "      <td>Yes</td>\n",
       "      <td>Yes</td>\n",
       "      <td>Yes</td>\n",
       "      <td>Yes</td>\n",
       "      <td>Yes</td>\n",
       "      <td>No</td>\n",
       "      <td>No</td>\n",
       "      <td>Yes</td>\n",
       "      <td>No</td>\n",
       "      <td>No</td>\n",
       "      <td>...</td>\n",
       "      <td>Yes</td>\n",
       "      <td>No</td>\n",
       "      <td>No</td>\n",
       "      <td>Yes</td>\n",
       "      <td>No</td>\n",
       "      <td>Yes</td>\n",
       "      <td>No</td>\n",
       "      <td>No</td>\n",
       "      <td>No</td>\n",
       "      <td>Yes</td>\n",
       "    </tr>\n",
       "    <tr>\n",
       "      <th>freq</th>\n",
       "      <td>3620</td>\n",
       "      <td>4273</td>\n",
       "      <td>4307</td>\n",
       "      <td>3953</td>\n",
       "      <td>2952</td>\n",
       "      <td>2920</td>\n",
       "      <td>2869</td>\n",
       "      <td>2736</td>\n",
       "      <td>2911</td>\n",
       "      <td>2846</td>\n",
       "      <td>...</td>\n",
       "      <td>2821</td>\n",
       "      <td>2883</td>\n",
       "      <td>2983</td>\n",
       "      <td>2726</td>\n",
       "      <td>2924</td>\n",
       "      <td>2820</td>\n",
       "      <td>3172</td>\n",
       "      <td>5434</td>\n",
       "      <td>5434</td>\n",
       "      <td>4383</td>\n",
       "    </tr>\n",
       "  </tbody>\n",
       "</table>\n",
       "<p>4 rows × 21 columns</p>\n",
       "</div>"
      ],
      "text/plain": [
       "       Breathing Problem Fever Dry Cough Sore throat Running Nose Asthma  \\\n",
       "count               5434  5434      5434        5434         5434   5434   \n",
       "unique                 2     2         2           2            2      2   \n",
       "top                  Yes   Yes       Yes         Yes          Yes     No   \n",
       "freq                3620  4273      4307        3953         2952   2920   \n",
       "\n",
       "       Chronic Lung Disease Headache Heart Disease Diabetes  ... Fatigue   \\\n",
       "count                  5434     5434          5434     5434  ...     5434   \n",
       "unique                    2        2             2        2  ...        2   \n",
       "top                      No      Yes            No       No  ...      Yes   \n",
       "freq                   2869     2736          2911     2846  ...     2821   \n",
       "\n",
       "       Gastrointestinal  Abroad travel Contact with COVID Patient  \\\n",
       "count               5434          5434                       5434   \n",
       "unique                 2             2                          2   \n",
       "top                   No            No                        Yes   \n",
       "freq                2883          2983                       2726   \n",
       "\n",
       "       Attended Large Gathering Visited Public Exposed Places  \\\n",
       "count                      5434                          5434   \n",
       "unique                        2                             2   \n",
       "top                          No                           Yes   \n",
       "freq                       2924                          2820   \n",
       "\n",
       "       Family working in Public Exposed Places Wearing Masks  \\\n",
       "count                                     5434          5434   \n",
       "unique                                       2             1   \n",
       "top                                         No            No   \n",
       "freq                                      3172          5434   \n",
       "\n",
       "       Sanitization from Market COVID-19  \n",
       "count                      5434     5434  \n",
       "unique                        1        2  \n",
       "top                          No      Yes  \n",
       "freq                       5434     4383  \n",
       "\n",
       "[4 rows x 21 columns]"
      ]
     },
     "execution_count": 5,
     "metadata": {},
     "output_type": "execute_result"
    }
   ],
   "source": [
    "dataset.describe()"
   ]
  },
  {
   "cell_type": "code",
   "execution_count": 6,
   "metadata": {},
   "outputs": [
    {
     "name": "stdout",
     "output_type": "stream",
     "text": [
      "Wearing Masks\n",
      "['No']\n",
      "\n",
      "Sanitization from Market\n",
      "['No']\n",
      "\n"
     ]
    }
   ],
   "source": [
    "for col in dataset.columns:\n",
    "    if len(dataset[col].unique())==1:\n",
    "        print(col)\n",
    "        print(dataset[col].unique())\n",
    "        print()"
   ]
  },
  {
   "cell_type": "code",
   "execution_count": 7,
   "metadata": {},
   "outputs": [
    {
     "data": {
      "text/html": [
       "<div>\n",
       "<style scoped>\n",
       "    .dataframe tbody tr th:only-of-type {\n",
       "        vertical-align: middle;\n",
       "    }\n",
       "\n",
       "    .dataframe tbody tr th {\n",
       "        vertical-align: top;\n",
       "    }\n",
       "\n",
       "    .dataframe thead th {\n",
       "        text-align: right;\n",
       "    }\n",
       "</style>\n",
       "<table border=\"1\" class=\"dataframe\">\n",
       "  <thead>\n",
       "    <tr style=\"text-align: right;\">\n",
       "      <th></th>\n",
       "      <th>Breathing Problem</th>\n",
       "      <th>Fever</th>\n",
       "      <th>Dry Cough</th>\n",
       "      <th>Sore throat</th>\n",
       "      <th>Running Nose</th>\n",
       "      <th>Asthma</th>\n",
       "      <th>Chronic Lung Disease</th>\n",
       "      <th>Headache</th>\n",
       "      <th>Heart Disease</th>\n",
       "      <th>Diabetes</th>\n",
       "      <th>Hyper Tension</th>\n",
       "      <th>Fatigue</th>\n",
       "      <th>Gastrointestinal</th>\n",
       "      <th>Abroad travel</th>\n",
       "      <th>Contact with COVID Patient</th>\n",
       "      <th>Attended Large Gathering</th>\n",
       "      <th>Visited Public Exposed Places</th>\n",
       "      <th>Family working in Public Exposed Places</th>\n",
       "      <th>COVID-19</th>\n",
       "    </tr>\n",
       "  </thead>\n",
       "  <tbody>\n",
       "    <tr>\n",
       "      <th>0</th>\n",
       "      <td>Yes</td>\n",
       "      <td>Yes</td>\n",
       "      <td>Yes</td>\n",
       "      <td>Yes</td>\n",
       "      <td>Yes</td>\n",
       "      <td>No</td>\n",
       "      <td>No</td>\n",
       "      <td>No</td>\n",
       "      <td>No</td>\n",
       "      <td>Yes</td>\n",
       "      <td>Yes</td>\n",
       "      <td>Yes</td>\n",
       "      <td>Yes</td>\n",
       "      <td>No</td>\n",
       "      <td>Yes</td>\n",
       "      <td>No</td>\n",
       "      <td>Yes</td>\n",
       "      <td>Yes</td>\n",
       "      <td>Yes</td>\n",
       "    </tr>\n",
       "    <tr>\n",
       "      <th>1</th>\n",
       "      <td>Yes</td>\n",
       "      <td>Yes</td>\n",
       "      <td>Yes</td>\n",
       "      <td>Yes</td>\n",
       "      <td>No</td>\n",
       "      <td>Yes</td>\n",
       "      <td>Yes</td>\n",
       "      <td>Yes</td>\n",
       "      <td>No</td>\n",
       "      <td>No</td>\n",
       "      <td>No</td>\n",
       "      <td>Yes</td>\n",
       "      <td>No</td>\n",
       "      <td>No</td>\n",
       "      <td>No</td>\n",
       "      <td>Yes</td>\n",
       "      <td>Yes</td>\n",
       "      <td>No</td>\n",
       "      <td>Yes</td>\n",
       "    </tr>\n",
       "    <tr>\n",
       "      <th>2</th>\n",
       "      <td>Yes</td>\n",
       "      <td>Yes</td>\n",
       "      <td>Yes</td>\n",
       "      <td>Yes</td>\n",
       "      <td>Yes</td>\n",
       "      <td>Yes</td>\n",
       "      <td>Yes</td>\n",
       "      <td>Yes</td>\n",
       "      <td>No</td>\n",
       "      <td>Yes</td>\n",
       "      <td>No</td>\n",
       "      <td>Yes</td>\n",
       "      <td>Yes</td>\n",
       "      <td>Yes</td>\n",
       "      <td>No</td>\n",
       "      <td>No</td>\n",
       "      <td>No</td>\n",
       "      <td>No</td>\n",
       "      <td>Yes</td>\n",
       "    </tr>\n",
       "    <tr>\n",
       "      <th>3</th>\n",
       "      <td>Yes</td>\n",
       "      <td>Yes</td>\n",
       "      <td>Yes</td>\n",
       "      <td>No</td>\n",
       "      <td>No</td>\n",
       "      <td>Yes</td>\n",
       "      <td>No</td>\n",
       "      <td>No</td>\n",
       "      <td>Yes</td>\n",
       "      <td>Yes</td>\n",
       "      <td>No</td>\n",
       "      <td>No</td>\n",
       "      <td>No</td>\n",
       "      <td>Yes</td>\n",
       "      <td>No</td>\n",
       "      <td>Yes</td>\n",
       "      <td>Yes</td>\n",
       "      <td>No</td>\n",
       "      <td>Yes</td>\n",
       "    </tr>\n",
       "    <tr>\n",
       "      <th>4</th>\n",
       "      <td>Yes</td>\n",
       "      <td>Yes</td>\n",
       "      <td>Yes</td>\n",
       "      <td>Yes</td>\n",
       "      <td>Yes</td>\n",
       "      <td>No</td>\n",
       "      <td>Yes</td>\n",
       "      <td>Yes</td>\n",
       "      <td>Yes</td>\n",
       "      <td>Yes</td>\n",
       "      <td>Yes</td>\n",
       "      <td>No</td>\n",
       "      <td>Yes</td>\n",
       "      <td>No</td>\n",
       "      <td>Yes</td>\n",
       "      <td>No</td>\n",
       "      <td>Yes</td>\n",
       "      <td>No</td>\n",
       "      <td>Yes</td>\n",
       "    </tr>\n",
       "    <tr>\n",
       "      <th>...</th>\n",
       "      <td>...</td>\n",
       "      <td>...</td>\n",
       "      <td>...</td>\n",
       "      <td>...</td>\n",
       "      <td>...</td>\n",
       "      <td>...</td>\n",
       "      <td>...</td>\n",
       "      <td>...</td>\n",
       "      <td>...</td>\n",
       "      <td>...</td>\n",
       "      <td>...</td>\n",
       "      <td>...</td>\n",
       "      <td>...</td>\n",
       "      <td>...</td>\n",
       "      <td>...</td>\n",
       "      <td>...</td>\n",
       "      <td>...</td>\n",
       "      <td>...</td>\n",
       "      <td>...</td>\n",
       "    </tr>\n",
       "    <tr>\n",
       "      <th>5429</th>\n",
       "      <td>Yes</td>\n",
       "      <td>Yes</td>\n",
       "      <td>No</td>\n",
       "      <td>Yes</td>\n",
       "      <td>Yes</td>\n",
       "      <td>Yes</td>\n",
       "      <td>Yes</td>\n",
       "      <td>No</td>\n",
       "      <td>No</td>\n",
       "      <td>No</td>\n",
       "      <td>No</td>\n",
       "      <td>Yes</td>\n",
       "      <td>Yes</td>\n",
       "      <td>No</td>\n",
       "      <td>No</td>\n",
       "      <td>No</td>\n",
       "      <td>No</td>\n",
       "      <td>No</td>\n",
       "      <td>Yes</td>\n",
       "    </tr>\n",
       "    <tr>\n",
       "      <th>5430</th>\n",
       "      <td>Yes</td>\n",
       "      <td>Yes</td>\n",
       "      <td>Yes</td>\n",
       "      <td>No</td>\n",
       "      <td>Yes</td>\n",
       "      <td>Yes</td>\n",
       "      <td>No</td>\n",
       "      <td>Yes</td>\n",
       "      <td>No</td>\n",
       "      <td>Yes</td>\n",
       "      <td>Yes</td>\n",
       "      <td>Yes</td>\n",
       "      <td>No</td>\n",
       "      <td>No</td>\n",
       "      <td>No</td>\n",
       "      <td>No</td>\n",
       "      <td>No</td>\n",
       "      <td>No</td>\n",
       "      <td>Yes</td>\n",
       "    </tr>\n",
       "    <tr>\n",
       "      <th>5431</th>\n",
       "      <td>Yes</td>\n",
       "      <td>Yes</td>\n",
       "      <td>Yes</td>\n",
       "      <td>No</td>\n",
       "      <td>No</td>\n",
       "      <td>No</td>\n",
       "      <td>No</td>\n",
       "      <td>No</td>\n",
       "      <td>Yes</td>\n",
       "      <td>No</td>\n",
       "      <td>Yes</td>\n",
       "      <td>No</td>\n",
       "      <td>No</td>\n",
       "      <td>No</td>\n",
       "      <td>No</td>\n",
       "      <td>No</td>\n",
       "      <td>No</td>\n",
       "      <td>No</td>\n",
       "      <td>No</td>\n",
       "    </tr>\n",
       "    <tr>\n",
       "      <th>5432</th>\n",
       "      <td>Yes</td>\n",
       "      <td>Yes</td>\n",
       "      <td>Yes</td>\n",
       "      <td>No</td>\n",
       "      <td>Yes</td>\n",
       "      <td>No</td>\n",
       "      <td>No</td>\n",
       "      <td>Yes</td>\n",
       "      <td>Yes</td>\n",
       "      <td>No</td>\n",
       "      <td>No</td>\n",
       "      <td>No</td>\n",
       "      <td>No</td>\n",
       "      <td>No</td>\n",
       "      <td>No</td>\n",
       "      <td>No</td>\n",
       "      <td>No</td>\n",
       "      <td>No</td>\n",
       "      <td>No</td>\n",
       "    </tr>\n",
       "    <tr>\n",
       "      <th>5433</th>\n",
       "      <td>Yes</td>\n",
       "      <td>Yes</td>\n",
       "      <td>Yes</td>\n",
       "      <td>No</td>\n",
       "      <td>Yes</td>\n",
       "      <td>Yes</td>\n",
       "      <td>No</td>\n",
       "      <td>Yes</td>\n",
       "      <td>No</td>\n",
       "      <td>Yes</td>\n",
       "      <td>Yes</td>\n",
       "      <td>Yes</td>\n",
       "      <td>No</td>\n",
       "      <td>No</td>\n",
       "      <td>No</td>\n",
       "      <td>No</td>\n",
       "      <td>No</td>\n",
       "      <td>No</td>\n",
       "      <td>No</td>\n",
       "    </tr>\n",
       "  </tbody>\n",
       "</table>\n",
       "<p>5434 rows × 19 columns</p>\n",
       "</div>"
      ],
      "text/plain": [
       "     Breathing Problem Fever Dry Cough Sore throat Running Nose Asthma  \\\n",
       "0                  Yes   Yes       Yes         Yes          Yes     No   \n",
       "1                  Yes   Yes       Yes         Yes           No    Yes   \n",
       "2                  Yes   Yes       Yes         Yes          Yes    Yes   \n",
       "3                  Yes   Yes       Yes          No           No    Yes   \n",
       "4                  Yes   Yes       Yes         Yes          Yes     No   \n",
       "...                ...   ...       ...         ...          ...    ...   \n",
       "5429               Yes   Yes        No         Yes          Yes    Yes   \n",
       "5430               Yes   Yes       Yes          No          Yes    Yes   \n",
       "5431               Yes   Yes       Yes          No           No     No   \n",
       "5432               Yes   Yes       Yes          No          Yes     No   \n",
       "5433               Yes   Yes       Yes          No          Yes    Yes   \n",
       "\n",
       "     Chronic Lung Disease Headache Heart Disease Diabetes Hyper Tension  \\\n",
       "0                      No       No            No      Yes           Yes   \n",
       "1                     Yes      Yes            No       No            No   \n",
       "2                     Yes      Yes            No      Yes            No   \n",
       "3                      No       No           Yes      Yes            No   \n",
       "4                     Yes      Yes           Yes      Yes           Yes   \n",
       "...                   ...      ...           ...      ...           ...   \n",
       "5429                  Yes       No            No       No            No   \n",
       "5430                   No      Yes            No      Yes           Yes   \n",
       "5431                   No       No           Yes       No           Yes   \n",
       "5432                   No      Yes           Yes       No            No   \n",
       "5433                   No      Yes            No      Yes           Yes   \n",
       "\n",
       "     Fatigue  Gastrointestinal  Abroad travel Contact with COVID Patient  \\\n",
       "0         Yes               Yes            No                        Yes   \n",
       "1         Yes                No            No                         No   \n",
       "2         Yes               Yes           Yes                         No   \n",
       "3          No                No           Yes                         No   \n",
       "4          No               Yes            No                        Yes   \n",
       "...       ...               ...           ...                        ...   \n",
       "5429      Yes               Yes            No                         No   \n",
       "5430      Yes                No            No                         No   \n",
       "5431       No                No            No                         No   \n",
       "5432       No                No            No                         No   \n",
       "5433      Yes                No            No                         No   \n",
       "\n",
       "     Attended Large Gathering Visited Public Exposed Places  \\\n",
       "0                          No                           Yes   \n",
       "1                         Yes                           Yes   \n",
       "2                          No                            No   \n",
       "3                         Yes                           Yes   \n",
       "4                          No                           Yes   \n",
       "...                       ...                           ...   \n",
       "5429                       No                            No   \n",
       "5430                       No                            No   \n",
       "5431                       No                            No   \n",
       "5432                       No                            No   \n",
       "5433                       No                            No   \n",
       "\n",
       "     Family working in Public Exposed Places COVID-19  \n",
       "0                                        Yes      Yes  \n",
       "1                                         No      Yes  \n",
       "2                                         No      Yes  \n",
       "3                                         No      Yes  \n",
       "4                                         No      Yes  \n",
       "...                                      ...      ...  \n",
       "5429                                      No      Yes  \n",
       "5430                                      No      Yes  \n",
       "5431                                      No       No  \n",
       "5432                                      No       No  \n",
       "5433                                      No       No  \n",
       "\n",
       "[5434 rows x 19 columns]"
      ]
     },
     "execution_count": 7,
     "metadata": {},
     "output_type": "execute_result"
    }
   ],
   "source": [
    "dataset = dataset.drop(['Wearing Masks',\"Sanitization from Market\"], axis=1)\n",
    "dataset"
   ]
  },
  {
   "cell_type": "code",
   "execution_count": 8,
   "metadata": {},
   "outputs": [],
   "source": [
    "def with_hue(plot, feature, Number_of_categories, hue_categories):\n",
    "    a = [p.get_height() for p in plot.patches]\n",
    "    patch = [p for p in plot.patches]\n",
    "    for i in range(Number_of_categories):\n",
    "        total = feature.value_counts().values[i]\n",
    "        for j in range(hue_categories):\n",
    "            percentage = '{:.1f}%'.format(100 * a[(j*Number_of_categories + i)]/total)\n",
    "            x = patch[(j*Number_of_categories + i)].get_x() + patch[(j*Number_of_categories + i)].get_width() / 2 - 0.15\n",
    "            y = patch[(j*Number_of_categories + i)].get_y() + patch[(j*Number_of_categories + i)].get_height() \n",
    "            plot.annotate(percentage, (x, y), size = 17, xytext=(0,3),\n",
    "                    textcoords=\"offset pixels\", ha='left', fontweight='bold')\n",
    "\n",
    "def without_hue(plot, feature):\n",
    "    total = len(feature)\n",
    "    for p in plot.patches:\n",
    "        percentage = '{:.1f}%'.format(100 * p.get_height()/total)\n",
    "        x = p.get_x() + p.get_width() / 2 - 0.05\n",
    "        y = p.get_y() + p.get_height()\n",
    "        plot.annotate(percentage, (x, y), size = 17, xytext=(20,10),\n",
    "                    textcoords=\"offset pixels\", ha='center', fontweight='bold')\n"
   ]
  },
  {
   "cell_type": "markdown",
   "metadata": {},
   "source": [
    "Regarding the presence of Covid-19, approximately 81% of the 5 434 surveyed were Covid-19 positive."
   ]
  },
  {
   "cell_type": "code",
   "execution_count": 9,
   "metadata": {
    "scrolled": false
   },
   "outputs": [
    {
     "data": {
      "image/png": "[encoded data removed]",
      "text/plain": [
       "<Figure size 720x720 with 1 Axes>"
      ]
     },
     "metadata": {},
     "output_type": "display_data"
    }
   ],
   "source": [
    "fig, ax = plt.subplots(figsize=(10, 10))\n",
    "\n",
    "covid = dataset[\"COVID-19\"].value_counts()\n",
    "ax.pie(covid, explode=[0.1,0.1],autopct='%1.1f%%',shadow=True, colors=[\"#78909C\", \"#A6A6A6\"],\n",
    "       textprops={'fontsize': 23, 'color':\"white\"})\n",
    "ax.legend(labels=covid.index, frameon=False, title_fontsize=16, fontsize=16)\n",
    "\n",
    "plt.savefig(os.path.join('plots/COVID-19_pie.png'), dpi=300, format='png', bbox_inches='tight')\n",
    "plt.show()"
   ]
  },
  {
   "cell_type": "markdown",
   "metadata": {},
   "source": [
    "#### **Symptoms**"
   ]
  },
  {
   "cell_type": "markdown",
   "metadata": {},
   "source": [
    "We decided to evaluate if the number of positive cases is higher when some symptoms are reported, such as fever, dry cough, fatigue and difficulty breathing which are pointed by WHO (https://www.who.int/health-topics/coronavirus#tab=tab_3v) as related to Covid-19. The resulting plots are shown below.\n",
    "\n",
    "For the samples that reported breathing problems, approximately 93% have tested positive for Covid-19. Nonetheless, almost 56% of those who not report that symptom were also Covid-19 positive.\n",
    "\n",
    "Of all the samples that reported fever, nearly 88% were Covid-19 positive and for those who did not, the number of Covid-19 positive rounded 54%.\n",
    "\n",
    "90% of the individuals that reported Dry Cough were positive for Covid-19 and approximately 45% of those who did not were also Covid-19.\n",
    "\n",
    "For the last symptom, Fatigue, 79% of the samples that have reported it were Covid-19 positive but almost 83% of the ones that do not were also positive for Covid-19."
   ]
  },
  {
   "cell_type": "code",
   "execution_count": 10,
   "metadata": {
    "scrolled": false
   },
   "outputs": [
    {
     "data": {
      "image/png": "[encoded data removed]",
      "text/plain": [
       "<Figure size 2880x1440 with 4 Axes>"
      ]
     },
     "metadata": {},
     "output_type": "display_data"
    }
   ],
   "source": [
    "sns.set_style(\"darkgrid\", {\"axes.facecolor\": \"0.95\"})\n",
    "\n",
    "palette = [\"#4C5E66\", \"#A6A6A6\"]\n",
    "\n",
    "sns.set_palette(palette)\n",
    "\n",
    "fig, ((ax1, ax2), (ax3, ax4)) = plt.subplots(2,2, figsize=(40,20))\n",
    "\n",
    "Dry_Cough_plt = sns.countplot(x='Breathing Problem',hue='COVID-19',data=dataset, ax=ax1)\n",
    "Dry_Cough_plt.set_ylim(0,5000)\n",
    "Dry_Cough_plt.legend(title = \"Covid-19\", frameon=False, title_fontsize=16, fontsize=16)\n",
    "Dry_Cough_plt.set_xticklabels(Dry_Cough_plt.get_xticklabels(), fontsize = 16)\n",
    "Dry_Cough_plt.set_yticklabels(Dry_Cough_plt.get_yticks(), fontsize = 16)\n",
    "Dry_Cough_plt.set_xlabel(Dry_Cough_plt.get_xlabel(), fontsize = 18)\n",
    "Dry_Cough_plt.set_ylabel(Dry_Cough_plt.get_ylabel(), fontsize = 18)\n",
    "with_hue(Dry_Cough_plt,dataset['Breathing Problem'],2,2)\n",
    "\n",
    "Fever_plot = sns.countplot(x='Fever',hue='COVID-19',data=dataset, ax=ax2)\n",
    "Fever_plot.set_ylim(0,5000)\n",
    "Fever_plot.legend(title = \"Covid-19\", frameon=False, title_fontsize=16, fontsize=16)\n",
    "Fever_plot.set_xticklabels(Fever_plot.get_xticklabels(), fontsize = 16)\n",
    "Fever_plot.set_yticklabels(Fever_plot.get_yticks(), fontsize = 16)\n",
    "Fever_plot.set_xlabel(Fever_plot.get_xlabel(), fontsize = 18)\n",
    "Fever_plot.set_ylabel(Fever_plot.get_ylabel(), fontsize = 18)\n",
    "with_hue(Fever_plot,dataset['Fever'],2,2)\n",
    "\n",
    "Dry_Cough_plt = sns.countplot(x='Dry Cough',hue='COVID-19',data=dataset, ax=ax3)\n",
    "Dry_Cough_plt.set_ylim(0,5000)\n",
    "Dry_Cough_plt.legend(title = \"Covid-19\", frameon=False, title_fontsize=16, fontsize=16)\n",
    "Dry_Cough_plt.set_xticklabels(Dry_Cough_plt.get_xticklabels(), fontsize = 16)\n",
    "Dry_Cough_plt.set_yticklabels(Dry_Cough_plt.get_yticks(), fontsize = 16)\n",
    "Dry_Cough_plt.set_xlabel(Dry_Cough_plt.get_xlabel(), fontsize = 18)\n",
    "Dry_Cough_plt.set_ylabel(Dry_Cough_plt.get_ylabel(), fontsize = 18)\n",
    "with_hue(Dry_Cough_plt,dataset['Dry Cough'],2,2)\n",
    "\n",
    "Fever_plot = sns.countplot(x='Fatigue ',hue='COVID-19',data=dataset, ax=ax4)\n",
    "Fever_plot.set_ylim(0,5000)\n",
    "Fever_plot.legend(title = \"Covid-19\", frameon=False, title_fontsize=16, fontsize=16)\n",
    "Fever_plot.set_xticklabels(Fever_plot.get_xticklabels(), fontsize = 16)\n",
    "Fever_plot.set_yticklabels(Fever_plot.get_yticks(), fontsize = 16)\n",
    "Fever_plot.set_xlabel(Fever_plot.get_xlabel(), fontsize = 18)\n",
    "Fever_plot.set_ylabel(Fever_plot.get_ylabel(), fontsize = 18)\n",
    "with_hue(Fever_plot,dataset['Fatigue '],2,2)\n",
    "\n",
    "plt.savefig(os.path.join('plots/sintomas.png'), dpi=300, format='png', bbox_inches='tight')\n",
    "plt.show()\n"
   ]
  },
  {
   "cell_type": "markdown",
   "metadata": {},
   "source": [
    "#### **Routines**"
   ]
  },
  {
   "cell_type": "markdown",
   "metadata": {},
   "source": [
    "Similarly to the symptoms, we perform an exploratory analysis for some of the individuals daily routines, as shown below.\n",
    "\n",
    "Covid-19 is highly contagious, thus, there is a great chance of contracting the virus when contact with confirmed cases of Covid-19. Almost 95% of the samples that have had contact with confirmed cases of Covid-19 were further confirmed as Covid-19 positive. Although, around 67% of the samples that have not contacted with confirmed cases were also positive.\n",
    "\n",
    "Public exposed places can also be highly contagious and for those who have visited such places, approximately 85% were positive for Covid-19. Still, those who did not have frequented public exposed places, around 76% were, also, Covid-19 positive.\n",
    "\n",
    "The number of positive cases was around 97% for those who attended large gatherings and about 66% for those who did not.\n",
    "\n",
    "Lastly, all the samples that reported to have travelled abroad were positive for Covid-19, but almost 65% of the ones who did not were also positive.\n"
   ]
  },
  {
   "cell_type": "code",
   "execution_count": 11,
   "metadata": {},
   "outputs": [
    {
     "data": {
      "image/png": "[encoded data removed]",
      "text/plain": [
       "<Figure size 2880x1440 with 4 Axes>"
      ]
     },
     "metadata": {},
     "output_type": "display_data"
    }
   ],
   "source": [
    "fig, ((ax1, ax2), (ax3, ax4)) = plt.subplots(2, 2, figsize=(40,20))\n",
    "\n",
    "Contact_routine = sns.countplot(x='Contact with COVID Patient',hue='COVID-19',data=dataset, ax=ax1)\n",
    "Contact_routine.set_ylim(0,5000)\n",
    "Contact_routine.legend(title = \"Covid-19\", frameon=False, title_fontsize=16, fontsize=16)\n",
    "Contact_routine.set_xticklabels(Contact_routine.get_xticklabels(), fontsize = 16)\n",
    "Contact_routine.set_yticklabels(Contact_routine.get_yticks(), fontsize = 16)\n",
    "Contact_routine.set_xlabel(Contact_routine.get_xlabel(), fontsize = 18)\n",
    "Contact_routine.set_ylabel(Contact_routine.get_ylabel(), fontsize = 18)\n",
    "with_hue(Contact_routine,dataset['Contact with COVID Patient'],2,2)\n",
    "\n",
    "Family_routine = sns.countplot(x='Visited Public Exposed Places',hue='COVID-19',data=dataset, ax=ax2)\n",
    "Family_routine.set_ylim(0,5000)\n",
    "Family_routine.legend(title = \"Covid-19\", frameon=False, title_fontsize=16, fontsize=16)\n",
    "Family_routine.set_xticklabels(Family_routine.get_xticklabels(), fontsize = 16)\n",
    "Family_routine.set_yticklabels(Family_routine.get_yticks(), fontsize = 16)\n",
    "Family_routine.set_xlabel(Family_routine.get_xlabel(), fontsize = 18)\n",
    "Family_routine.set_ylabel(Family_routine.get_ylabel(), fontsize = 18)\n",
    "with_hue(Family_routine,dataset['Visited Public Exposed Places'],2,2)\n",
    "\n",
    "Gathering_routine = sns.countplot(x='Attended Large Gathering',hue='COVID-19',data=dataset, ax=ax3)\n",
    "Gathering_routine.set_ylim(0,5000)\n",
    "Gathering_routine.legend(title = \"Covid-19\", frameon=False, title_fontsize=16, fontsize=16)\n",
    "Gathering_routine.set_xticklabels(Gathering_routine.get_xticklabels(), fontsize = 16)\n",
    "Gathering_routine.set_yticklabels(Gathering_routine.get_yticks(), fontsize = 16)\n",
    "Gathering_routine.set_xlabel(Gathering_routine.get_xlabel(), fontsize = 18)\n",
    "Gathering_routine.set_ylabel(Gathering_routine.get_ylabel(), fontsize = 18)\n",
    "with_hue(Gathering_routine,dataset['Attended Large Gathering'],2,2)\n",
    "\n",
    "Travel_routine = sns.countplot(x='Abroad travel',hue='COVID-19',data=dataset, ax=ax4)\n",
    "Travel_routine.set_ylim(0,5000)\n",
    "Travel_routine.legend(title = \"Covid-19\", frameon=False, title_fontsize=16, fontsize=16)\n",
    "Travel_routine.set_xticklabels(Travel_routine.get_xticklabels(), fontsize = 16)\n",
    "Travel_routine.set_yticklabels(Travel_routine.get_yticks(), fontsize = 16)\n",
    "Travel_routine.set_xlabel(Travel_routine.get_xlabel(), fontsize = 18)\n",
    "Travel_routine.set_ylabel(Travel_routine.get_ylabel(), fontsize = 18)\n",
    "with_hue(Travel_routine,dataset['Abroad travel'],2,2)\n",
    "\n",
    "plt.savefig(os.path.join('plots/rotinas.png'), dpi=300, format='png', bbox_inches='tight')\n",
    "plt.show()\n"
   ]
  },
  {
   "cell_type": "markdown",
   "metadata": {},
   "source": [
    "Once the variables were all \"Yes\" or \"No\", we transform the variables into binary using LabelEncoder from ScikitLearn."
   ]
  },
  {
   "cell_type": "code",
   "execution_count": 12,
   "metadata": {
    "scrolled": false
   },
   "outputs": [
    {
     "data": {
      "text/html": [
       "<div>\n",
       "<style scoped>\n",
       "    .dataframe tbody tr th:only-of-type {\n",
       "        vertical-align: middle;\n",
       "    }\n",
       "\n",
       "    .dataframe tbody tr th {\n",
       "        vertical-align: top;\n",
       "    }\n",
       "\n",
       "    .dataframe thead th {\n",
       "        text-align: right;\n",
       "    }\n",
       "</style>\n",
       "<table border=\"1\" class=\"dataframe\">\n",
       "  <thead>\n",
       "    <tr style=\"text-align: right;\">\n",
       "      <th></th>\n",
       "      <th>Breathing Problem</th>\n",
       "      <th>Fever</th>\n",
       "      <th>Dry Cough</th>\n",
       "      <th>Sore throat</th>\n",
       "      <th>Running Nose</th>\n",
       "      <th>Asthma</th>\n",
       "      <th>Chronic Lung Disease</th>\n",
       "      <th>Headache</th>\n",
       "      <th>Heart Disease</th>\n",
       "      <th>Diabetes</th>\n",
       "      <th>Hyper Tension</th>\n",
       "      <th>Fatigue</th>\n",
       "      <th>Gastrointestinal</th>\n",
       "      <th>Abroad travel</th>\n",
       "      <th>Contact with COVID Patient</th>\n",
       "      <th>Attended Large Gathering</th>\n",
       "      <th>Visited Public Exposed Places</th>\n",
       "      <th>Family working in Public Exposed Places</th>\n",
       "      <th>COVID-19</th>\n",
       "    </tr>\n",
       "  </thead>\n",
       "  <tbody>\n",
       "    <tr>\n",
       "      <th>0</th>\n",
       "      <td>1</td>\n",
       "      <td>1</td>\n",
       "      <td>1</td>\n",
       "      <td>1</td>\n",
       "      <td>1</td>\n",
       "      <td>0</td>\n",
       "      <td>0</td>\n",
       "      <td>0</td>\n",
       "      <td>0</td>\n",
       "      <td>1</td>\n",
       "      <td>1</td>\n",
       "      <td>1</td>\n",
       "      <td>1</td>\n",
       "      <td>0</td>\n",
       "      <td>1</td>\n",
       "      <td>0</td>\n",
       "      <td>1</td>\n",
       "      <td>1</td>\n",
       "      <td>1</td>\n",
       "    </tr>\n",
       "    <tr>\n",
       "      <th>1</th>\n",
       "      <td>1</td>\n",
       "      <td>1</td>\n",
       "      <td>1</td>\n",
       "      <td>1</td>\n",
       "      <td>0</td>\n",
       "      <td>1</td>\n",
       "      <td>1</td>\n",
       "      <td>1</td>\n",
       "      <td>0</td>\n",
       "      <td>0</td>\n",
       "      <td>0</td>\n",
       "      <td>1</td>\n",
       "      <td>0</td>\n",
       "      <td>0</td>\n",
       "      <td>0</td>\n",
       "      <td>1</td>\n",
       "      <td>1</td>\n",
       "      <td>0</td>\n",
       "      <td>1</td>\n",
       "    </tr>\n",
       "    <tr>\n",
       "      <th>2</th>\n",
       "      <td>1</td>\n",
       "      <td>1</td>\n",
       "      <td>1</td>\n",
       "      <td>1</td>\n",
       "      <td>1</td>\n",
       "      <td>1</td>\n",
       "      <td>1</td>\n",
       "      <td>1</td>\n",
       "      <td>0</td>\n",
       "      <td>1</td>\n",
       "      <td>0</td>\n",
       "      <td>1</td>\n",
       "      <td>1</td>\n",
       "      <td>1</td>\n",
       "      <td>0</td>\n",
       "      <td>0</td>\n",
       "      <td>0</td>\n",
       "      <td>0</td>\n",
       "      <td>1</td>\n",
       "    </tr>\n",
       "    <tr>\n",
       "      <th>3</th>\n",
       "      <td>1</td>\n",
       "      <td>1</td>\n",
       "      <td>1</td>\n",
       "      <td>0</td>\n",
       "      <td>0</td>\n",
       "      <td>1</td>\n",
       "      <td>0</td>\n",
       "      <td>0</td>\n",
       "      <td>1</td>\n",
       "      <td>1</td>\n",
       "      <td>0</td>\n",
       "      <td>0</td>\n",
       "      <td>0</td>\n",
       "      <td>1</td>\n",
       "      <td>0</td>\n",
       "      <td>1</td>\n",
       "      <td>1</td>\n",
       "      <td>0</td>\n",
       "      <td>1</td>\n",
       "    </tr>\n",
       "    <tr>\n",
       "      <th>4</th>\n",
       "      <td>1</td>\n",
       "      <td>1</td>\n",
       "      <td>1</td>\n",
       "      <td>1</td>\n",
       "      <td>1</td>\n",
       "      <td>0</td>\n",
       "      <td>1</td>\n",
       "      <td>1</td>\n",
       "      <td>1</td>\n",
       "      <td>1</td>\n",
       "      <td>1</td>\n",
       "      <td>0</td>\n",
       "      <td>1</td>\n",
       "      <td>0</td>\n",
       "      <td>1</td>\n",
       "      <td>0</td>\n",
       "      <td>1</td>\n",
       "      <td>0</td>\n",
       "      <td>1</td>\n",
       "    </tr>\n",
       "    <tr>\n",
       "      <th>...</th>\n",
       "      <td>...</td>\n",
       "      <td>...</td>\n",
       "      <td>...</td>\n",
       "      <td>...</td>\n",
       "      <td>...</td>\n",
       "      <td>...</td>\n",
       "      <td>...</td>\n",
       "      <td>...</td>\n",
       "      <td>...</td>\n",
       "      <td>...</td>\n",
       "      <td>...</td>\n",
       "      <td>...</td>\n",
       "      <td>...</td>\n",
       "      <td>...</td>\n",
       "      <td>...</td>\n",
       "      <td>...</td>\n",
       "      <td>...</td>\n",
       "      <td>...</td>\n",
       "      <td>...</td>\n",
       "    </tr>\n",
       "    <tr>\n",
       "      <th>5429</th>\n",
       "      <td>1</td>\n",
       "      <td>1</td>\n",
       "      <td>0</td>\n",
       "      <td>1</td>\n",
       "      <td>1</td>\n",
       "      <td>1</td>\n",
       "      <td>1</td>\n",
       "      <td>0</td>\n",
       "      <td>0</td>\n",
       "      <td>0</td>\n",
       "      <td>0</td>\n",
       "      <td>1</td>\n",
       "      <td>1</td>\n",
       "      <td>0</td>\n",
       "      <td>0</td>\n",
       "      <td>0</td>\n",
       "      <td>0</td>\n",
       "      <td>0</td>\n",
       "      <td>1</td>\n",
       "    </tr>\n",
       "    <tr>\n",
       "      <th>5430</th>\n",
       "      <td>1</td>\n",
       "      <td>1</td>\n",
       "      <td>1</td>\n",
       "      <td>0</td>\n",
       "      <td>1</td>\n",
       "      <td>1</td>\n",
       "      <td>0</td>\n",
       "      <td>1</td>\n",
       "      <td>0</td>\n",
       "      <td>1</td>\n",
       "      <td>1</td>\n",
       "      <td>1</td>\n",
       "      <td>0</td>\n",
       "      <td>0</td>\n",
       "      <td>0</td>\n",
       "      <td>0</td>\n",
       "      <td>0</td>\n",
       "      <td>0</td>\n",
       "      <td>1</td>\n",
       "    </tr>\n",
       "    <tr>\n",
       "      <th>5431</th>\n",
       "      <td>1</td>\n",
       "      <td>1</td>\n",
       "      <td>1</td>\n",
       "      <td>0</td>\n",
       "      <td>0</td>\n",
       "      <td>0</td>\n",
       "      <td>0</td>\n",
       "      <td>0</td>\n",
       "      <td>1</td>\n",
       "      <td>0</td>\n",
       "      <td>1</td>\n",
       "      <td>0</td>\n",
       "      <td>0</td>\n",
       "      <td>0</td>\n",
       "      <td>0</td>\n",
       "      <td>0</td>\n",
       "      <td>0</td>\n",
       "      <td>0</td>\n",
       "      <td>0</td>\n",
       "    </tr>\n",
       "    <tr>\n",
       "      <th>5432</th>\n",
       "      <td>1</td>\n",
       "      <td>1</td>\n",
       "      <td>1</td>\n",
       "      <td>0</td>\n",
       "      <td>1</td>\n",
       "      <td>0</td>\n",
       "      <td>0</td>\n",
       "      <td>1</td>\n",
       "      <td>1</td>\n",
       "      <td>0</td>\n",
       "      <td>0</td>\n",
       "      <td>0</td>\n",
       "      <td>0</td>\n",
       "      <td>0</td>\n",
       "      <td>0</td>\n",
       "      <td>0</td>\n",
       "      <td>0</td>\n",
       "      <td>0</td>\n",
       "      <td>0</td>\n",
       "    </tr>\n",
       "    <tr>\n",
       "      <th>5433</th>\n",
       "      <td>1</td>\n",
       "      <td>1</td>\n",
       "      <td>1</td>\n",
       "      <td>0</td>\n",
       "      <td>1</td>\n",
       "      <td>1</td>\n",
       "      <td>0</td>\n",
       "      <td>1</td>\n",
       "      <td>0</td>\n",
       "      <td>1</td>\n",
       "      <td>1</td>\n",
       "      <td>1</td>\n",
       "      <td>0</td>\n",
       "      <td>0</td>\n",
       "      <td>0</td>\n",
       "      <td>0</td>\n",
       "      <td>0</td>\n",
       "      <td>0</td>\n",
       "      <td>0</td>\n",
       "    </tr>\n",
       "  </tbody>\n",
       "</table>\n",
       "<p>5434 rows × 19 columns</p>\n",
       "</div>"
      ],
      "text/plain": [
       "      Breathing Problem  Fever  Dry Cough  Sore throat  Running Nose  Asthma  \\\n",
       "0                     1      1          1            1             1       0   \n",
       "1                     1      1          1            1             0       1   \n",
       "2                     1      1          1            1             1       1   \n",
       "3                     1      1          1            0             0       1   \n",
       "4                     1      1          1            1             1       0   \n",
       "...                 ...    ...        ...          ...           ...     ...   \n",
       "5429                  1      1          0            1             1       1   \n",
       "5430                  1      1          1            0             1       1   \n",
       "5431                  1      1          1            0             0       0   \n",
       "5432                  1      1          1            0             1       0   \n",
       "5433                  1      1          1            0             1       1   \n",
       "\n",
       "      Chronic Lung Disease  Headache  Heart Disease  Diabetes  Hyper Tension  \\\n",
       "0                        0         0              0         1              1   \n",
       "1                        1         1              0         0              0   \n",
       "2                        1         1              0         1              0   \n",
       "3                        0         0              1         1              0   \n",
       "4                        1         1              1         1              1   \n",
       "...                    ...       ...            ...       ...            ...   \n",
       "5429                     1         0              0         0              0   \n",
       "5430                     0         1              0         1              1   \n",
       "5431                     0         0              1         0              1   \n",
       "5432                     0         1              1         0              0   \n",
       "5433                     0         1              0         1              1   \n",
       "\n",
       "      Fatigue   Gastrointestinal   Abroad travel  Contact with COVID Patient  \\\n",
       "0            1                  1              0                           1   \n",
       "1            1                  0              0                           0   \n",
       "2            1                  1              1                           0   \n",
       "3            0                  0              1                           0   \n",
       "4            0                  1              0                           1   \n",
       "...        ...                ...            ...                         ...   \n",
       "5429         1                  1              0                           0   \n",
       "5430         1                  0              0                           0   \n",
       "5431         0                  0              0                           0   \n",
       "5432         0                  0              0                           0   \n",
       "5433         1                  0              0                           0   \n",
       "\n",
       "      Attended Large Gathering  Visited Public Exposed Places  \\\n",
       "0                            0                              1   \n",
       "1                            1                              1   \n",
       "2                            0                              0   \n",
       "3                            1                              1   \n",
       "4                            0                              1   \n",
       "...                        ...                            ...   \n",
       "5429                         0                              0   \n",
       "5430                         0                              0   \n",
       "5431                         0                              0   \n",
       "5432                         0                              0   \n",
       "5433                         0                              0   \n",
       "\n",
       "      Family working in Public Exposed Places  COVID-19  \n",
       "0                                           1         1  \n",
       "1                                           0         1  \n",
       "2                                           0         1  \n",
       "3                                           0         1  \n",
       "4                                           0         1  \n",
       "...                                       ...       ...  \n",
       "5429                                        0         1  \n",
       "5430                                        0         1  \n",
       "5431                                        0         0  \n",
       "5432                                        0         0  \n",
       "5433                                        0         0  \n",
       "\n",
       "[5434 rows x 19 columns]"
      ]
     },
     "execution_count": 12,
     "metadata": {},
     "output_type": "execute_result"
    }
   ],
   "source": [
    "dataset = dataset.apply(preprocessing.LabelEncoder().fit_transform)\n",
    "dataset"
   ]
  },
  {
   "cell_type": "markdown",
   "metadata": {},
   "source": [
    "To complete the exploratory analysis of the dataset, a correlation map revealed that symptoms such breathing problems, sore throat and dry cough and routines such travel abroad, contact with Covid-19 patients and attending large gatherings are highly correlated to the presence of Covid-19, as noted below."
   ]
  },
  {
   "cell_type": "code",
   "execution_count": 13,
   "metadata": {
    "scrolled": false
   },
   "outputs": [
    {
     "data": {
      "image/png": "[encoded data removed]",
      "text/plain": [
       "<Figure size 1008x720 with 2 Axes>"
      ]
     },
     "metadata": {},
     "output_type": "display_data"
    }
   ],
   "source": [
    "fig, ax = plt.subplots(1, 1, figsize=(14,10))\n",
    "\n",
    "cmap = sns.light_palette(\"#4A5A62\", as_cmap=True)\n",
    "heatmap = sns.heatmap(dataset.corr(), cmap=cmap, linewidths=0.01, ax=ax)\n",
    "heatmap.set_xticklabels(\"\", fontsize = 16)\n",
    "heatmap.set_yticklabels(heatmap.get_yticklabels(), fontsize = 16)\n",
    "\n",
    "plt.savefig(os.path.join('plots/heatmap.png'), dpi=300, format='png', bbox_inches='tight')\n",
    "plt.show()"
   ]
  },
  {
   "cell_type": "markdown",
   "metadata": {},
   "source": [
    "For our Machine Learning approach, we begin by separating the input variables (X) from the output variable (y). Furthermore we split the variables into training and test sets, representing, respectively, 80% and 20% of the total dataset samples."
   ]
  },
  {
   "cell_type": "code",
   "execution_count": 14,
   "metadata": {},
   "outputs": [],
   "source": [
    "X = dataset.drop('COVID-19', axis=1)\n",
    "y = dataset['COVID-19'].values"
   ]
  },
  {
   "cell_type": "code",
   "execution_count": 15,
   "metadata": {},
   "outputs": [
    {
     "name": "stdout",
     "output_type": "stream",
     "text": [
      "(4347, 18)\n",
      "(1087, 18)\n",
      "(4347,)\n",
      "(1087,)\n"
     ]
    }
   ],
   "source": [
    "X_train, X_test, y_train, y_test = train_test_split(X, y, test_size=0.20)\n",
    "print(X_train.shape)\n",
    "print(X_test.shape)\n",
    "print(y_train.shape)\n",
    "print(y_test.shape)"
   ]
  },
  {
   "cell_type": "markdown",
   "metadata": {},
   "source": [
    "The complexity of the model increases with the increasing number of features, which can lead to the occurrence of overfitting. This happens when the model fits too well to the training dataset, but then cannot generalize to new examples that the model has never seen during training. In order to avoid this problem we can choose to reduce the number of features, in this case we used the SelectKBest class that selects the k features with best score based on univariate statistical tests."
   ]
  },
  {
   "cell_type": "code",
   "execution_count": 16,
   "metadata": {},
   "outputs": [],
   "source": [
    "KBest_selector = SelectKBest(f_regression)"
   ]
  },
  {
   "cell_type": "markdown",
   "metadata": {},
   "source": [
    "### Random Forest "
   ]
  },
  {
   "cell_type": "markdown",
   "metadata": {},
   "source": [
    "For the first approach, we used the Random Forest (RF) algorithm with the scikit Learn RandomForestClassifier class as estimator."
   ]
  },
  {
   "cell_type": "code",
   "execution_count": 17,
   "metadata": {
    "scrolled": true
   },
   "outputs": [
    {
     "data": {
      "text/plain": [
       "RandomForestClassifier()"
      ]
     },
     "execution_count": 17,
     "metadata": {},
     "output_type": "execute_result"
    }
   ],
   "source": [
    "RF_estimator =  RandomForestClassifier()\n",
    "RF_estimator"
   ]
  },
  {
   "cell_type": "markdown",
   "metadata": {},
   "source": [
    "The Pipeline class is used to chain a series of processing that is done to the data. In this case, the selection of the k best features using the selector estimator defined above and the model estimator itself."
   ]
  },
  {
   "cell_type": "code",
   "execution_count": 18,
   "metadata": {},
   "outputs": [],
   "source": [
    "RF_pipeline = Pipeline([('selector', KBest_selector),('estimator',RF_estimator)])"
   ]
  },
  {
   "cell_type": "markdown",
   "metadata": {},
   "source": [
    "Then several hyperparameters were tested using the RandomizedSearchCV optimization method, which tests some random combinations of the search grid values, evaluating performance through cross-validation (3 folds). After defining the hyperparameter grid and the respective values to be tested, the best ones were chosen for the future construction of the model."
   ]
  },
  {
   "cell_type": "code",
   "execution_count": 19,
   "metadata": {
    "scrolled": false
   },
   "outputs": [
    {
     "data": {
      "text/html": [
       "<div>\n",
       "<style scoped>\n",
       "    .dataframe tbody tr th:only-of-type {\n",
       "        vertical-align: middle;\n",
       "    }\n",
       "\n",
       "    .dataframe tbody tr th {\n",
       "        vertical-align: top;\n",
       "    }\n",
       "\n",
       "    .dataframe thead th {\n",
       "        text-align: right;\n",
       "    }\n",
       "</style>\n",
       "<table border=\"1\" class=\"dataframe\">\n",
       "  <thead>\n",
       "    <tr style=\"text-align: right;\">\n",
       "      <th></th>\n",
       "      <th>mean_fit_time</th>\n",
       "      <th>std_fit_time</th>\n",
       "      <th>mean_score_time</th>\n",
       "      <th>std_score_time</th>\n",
       "      <th>param_selector__k</th>\n",
       "      <th>param_estimator__n_estimators</th>\n",
       "      <th>params</th>\n",
       "      <th>split0_test_score</th>\n",
       "      <th>split1_test_score</th>\n",
       "      <th>split2_test_score</th>\n",
       "      <th>mean_test_score</th>\n",
       "      <th>std_test_score</th>\n",
       "      <th>rank_test_score</th>\n",
       "    </tr>\n",
       "  </thead>\n",
       "  <tbody>\n",
       "    <tr>\n",
       "      <th>0</th>\n",
       "      <td>1.398296</td>\n",
       "      <td>0.068025</td>\n",
       "      <td>0.122634</td>\n",
       "      <td>0.005349</td>\n",
       "      <td>all</td>\n",
       "      <td>700</td>\n",
       "      <td>{'selector__k': 'all', 'estimator__n_estimator...</td>\n",
       "      <td>0.932119</td>\n",
       "      <td>0.908338</td>\n",
       "      <td>0.902816</td>\n",
       "      <td>0.914424</td>\n",
       "      <td>0.012714</td>\n",
       "      <td>9</td>\n",
       "    </tr>\n",
       "    <tr>\n",
       "      <th>1</th>\n",
       "      <td>1.306663</td>\n",
       "      <td>0.039149</td>\n",
       "      <td>0.128346</td>\n",
       "      <td>0.005352</td>\n",
       "      <td>15</td>\n",
       "      <td>700</td>\n",
       "      <td>{'selector__k': 15, 'estimator__n_estimators':...</td>\n",
       "      <td>0.937086</td>\n",
       "      <td>0.920486</td>\n",
       "      <td>0.902816</td>\n",
       "      <td>0.920129</td>\n",
       "      <td>0.013993</td>\n",
       "      <td>2</td>\n",
       "    </tr>\n",
       "    <tr>\n",
       "      <th>2</th>\n",
       "      <td>1.935854</td>\n",
       "      <td>0.089491</td>\n",
       "      <td>0.192733</td>\n",
       "      <td>0.007584</td>\n",
       "      <td>15</td>\n",
       "      <td>1000</td>\n",
       "      <td>{'selector__k': 15, 'estimator__n_estimators':...</td>\n",
       "      <td>0.937086</td>\n",
       "      <td>0.904473</td>\n",
       "      <td>0.902816</td>\n",
       "      <td>0.914792</td>\n",
       "      <td>0.015779</td>\n",
       "      <td>7</td>\n",
       "    </tr>\n",
       "    <tr>\n",
       "      <th>3</th>\n",
       "      <td>2.311592</td>\n",
       "      <td>0.397397</td>\n",
       "      <td>0.221670</td>\n",
       "      <td>0.043686</td>\n",
       "      <td>10</td>\n",
       "      <td>1000</td>\n",
       "      <td>{'selector__k': 10, 'estimator__n_estimators':...</td>\n",
       "      <td>0.955298</td>\n",
       "      <td>0.915516</td>\n",
       "      <td>0.895638</td>\n",
       "      <td>0.922151</td>\n",
       "      <td>0.024804</td>\n",
       "      <td>1</td>\n",
       "    </tr>\n",
       "    <tr>\n",
       "      <th>4</th>\n",
       "      <td>0.839507</td>\n",
       "      <td>0.059460</td>\n",
       "      <td>0.081441</td>\n",
       "      <td>0.003495</td>\n",
       "      <td>5</td>\n",
       "      <td>500</td>\n",
       "      <td>{'selector__k': 5, 'estimator__n_estimators': ...</td>\n",
       "      <td>0.956954</td>\n",
       "      <td>0.887355</td>\n",
       "      <td>0.717283</td>\n",
       "      <td>0.853864</td>\n",
       "      <td>0.100670</td>\n",
       "      <td>10</td>\n",
       "    </tr>\n",
       "    <tr>\n",
       "      <th>5</th>\n",
       "      <td>0.185167</td>\n",
       "      <td>0.001291</td>\n",
       "      <td>0.021093</td>\n",
       "      <td>0.000705</td>\n",
       "      <td>all</td>\n",
       "      <td>100</td>\n",
       "      <td>{'selector__k': 'all', 'estimator__n_estimator...</td>\n",
       "      <td>0.932119</td>\n",
       "      <td>0.911651</td>\n",
       "      <td>0.902816</td>\n",
       "      <td>0.915529</td>\n",
       "      <td>0.012273</td>\n",
       "      <td>6</td>\n",
       "    </tr>\n",
       "    <tr>\n",
       "      <th>6</th>\n",
       "      <td>0.166063</td>\n",
       "      <td>0.002466</td>\n",
       "      <td>0.019496</td>\n",
       "      <td>0.000903</td>\n",
       "      <td>15</td>\n",
       "      <td>100</td>\n",
       "      <td>{'selector__k': 15, 'estimator__n_estimators':...</td>\n",
       "      <td>0.937086</td>\n",
       "      <td>0.908338</td>\n",
       "      <td>0.911651</td>\n",
       "      <td>0.919025</td>\n",
       "      <td>0.012843</td>\n",
       "      <td>3</td>\n",
       "    </tr>\n",
       "    <tr>\n",
       "      <th>7</th>\n",
       "      <td>0.350196</td>\n",
       "      <td>0.006948</td>\n",
       "      <td>0.037574</td>\n",
       "      <td>0.002533</td>\n",
       "      <td>15</td>\n",
       "      <td>200</td>\n",
       "      <td>{'selector__k': 15, 'estimator__n_estimators':...</td>\n",
       "      <td>0.937086</td>\n",
       "      <td>0.904473</td>\n",
       "      <td>0.902816</td>\n",
       "      <td>0.914792</td>\n",
       "      <td>0.015779</td>\n",
       "      <td>7</td>\n",
       "    </tr>\n",
       "    <tr>\n",
       "      <th>8</th>\n",
       "      <td>0.486160</td>\n",
       "      <td>0.038971</td>\n",
       "      <td>0.052613</td>\n",
       "      <td>0.010882</td>\n",
       "      <td>all</td>\n",
       "      <td>200</td>\n",
       "      <td>{'selector__k': 'all', 'estimator__n_estimator...</td>\n",
       "      <td>0.937086</td>\n",
       "      <td>0.914412</td>\n",
       "      <td>0.902816</td>\n",
       "      <td>0.918105</td>\n",
       "      <td>0.014232</td>\n",
       "      <td>4</td>\n",
       "    </tr>\n",
       "    <tr>\n",
       "      <th>9</th>\n",
       "      <td>1.026894</td>\n",
       "      <td>0.094603</td>\n",
       "      <td>0.109677</td>\n",
       "      <td>0.012394</td>\n",
       "      <td>15</td>\n",
       "      <td>500</td>\n",
       "      <td>{'selector__k': 15, 'estimator__n_estimators':...</td>\n",
       "      <td>0.937086</td>\n",
       "      <td>0.908338</td>\n",
       "      <td>0.902816</td>\n",
       "      <td>0.916080</td>\n",
       "      <td>0.015024</td>\n",
       "      <td>5</td>\n",
       "    </tr>\n",
       "  </tbody>\n",
       "</table>\n",
       "</div>"
      ],
      "text/plain": [
       "   mean_fit_time  std_fit_time  mean_score_time  std_score_time  \\\n",
       "0       1.398296      0.068025         0.122634        0.005349   \n",
       "1       1.306663      0.039149         0.128346        0.005352   \n",
       "2       1.935854      0.089491         0.192733        0.007584   \n",
       "3       2.311592      0.397397         0.221670        0.043686   \n",
       "4       0.839507      0.059460         0.081441        0.003495   \n",
       "5       0.185167      0.001291         0.021093        0.000705   \n",
       "6       0.166063      0.002466         0.019496        0.000903   \n",
       "7       0.350196      0.006948         0.037574        0.002533   \n",
       "8       0.486160      0.038971         0.052613        0.010882   \n",
       "9       1.026894      0.094603         0.109677        0.012394   \n",
       "\n",
       "  param_selector__k param_estimator__n_estimators  \\\n",
       "0               all                           700   \n",
       "1                15                           700   \n",
       "2                15                          1000   \n",
       "3                10                          1000   \n",
       "4                 5                           500   \n",
       "5               all                           100   \n",
       "6                15                           100   \n",
       "7                15                           200   \n",
       "8               all                           200   \n",
       "9                15                           500   \n",
       "\n",
       "                                              params  split0_test_score  \\\n",
       "0  {'selector__k': 'all', 'estimator__n_estimator...           0.932119   \n",
       "1  {'selector__k': 15, 'estimator__n_estimators':...           0.937086   \n",
       "2  {'selector__k': 15, 'estimator__n_estimators':...           0.937086   \n",
       "3  {'selector__k': 10, 'estimator__n_estimators':...           0.955298   \n",
       "4  {'selector__k': 5, 'estimator__n_estimators': ...           0.956954   \n",
       "5  {'selector__k': 'all', 'estimator__n_estimator...           0.932119   \n",
       "6  {'selector__k': 15, 'estimator__n_estimators':...           0.937086   \n",
       "7  {'selector__k': 15, 'estimator__n_estimators':...           0.937086   \n",
       "8  {'selector__k': 'all', 'estimator__n_estimator...           0.937086   \n",
       "9  {'selector__k': 15, 'estimator__n_estimators':...           0.937086   \n",
       "\n",
       "   split1_test_score  split2_test_score  mean_test_score  std_test_score  \\\n",
       "0           0.908338           0.902816         0.914424        0.012714   \n",
       "1           0.920486           0.902816         0.920129        0.013993   \n",
       "2           0.904473           0.902816         0.914792        0.015779   \n",
       "3           0.915516           0.895638         0.922151        0.024804   \n",
       "4           0.887355           0.717283         0.853864        0.100670   \n",
       "5           0.911651           0.902816         0.915529        0.012273   \n",
       "6           0.908338           0.911651         0.919025        0.012843   \n",
       "7           0.904473           0.902816         0.914792        0.015779   \n",
       "8           0.914412           0.902816         0.918105        0.014232   \n",
       "9           0.908338           0.902816         0.916080        0.015024   \n",
       "\n",
       "   rank_test_score  \n",
       "0                9  \n",
       "1                2  \n",
       "2                7  \n",
       "3                1  \n",
       "4               10  \n",
       "5                6  \n",
       "6                3  \n",
       "7                7  \n",
       "8                4  \n",
       "9                5  "
      ]
     },
     "execution_count": 19,
     "metadata": {},
     "output_type": "execute_result"
    }
   ],
   "source": [
    "RF_params_to_test = {'estimator__n_estimators':[100, 200, 500, 700, 1000],'selector__k':[5, 10, 15, 'all']}\n",
    "\n",
    "RF_randomized_search = RandomizedSearchCV(RF_pipeline,RF_params_to_test, cv=3)\n",
    "RF_randomized_search.fit(X,y)\n",
    "\n",
    "RF_rs_results = pd.DataFrame.from_dict(data=RF_randomized_search.cv_results_)\n",
    "RF_rs_results.to_csv('data/rs_results(RF).csv',index=False)\n",
    "RF_rs_results"
   ]
  },
  {
   "cell_type": "markdown",
   "metadata": {},
   "source": [
    "Using the best hyperparameters (selector__k = 10 and estimator__n_estimators = 1000) we build the RF model."
   ]
  },
  {
   "cell_type": "code",
   "execution_count": 20,
   "metadata": {},
   "outputs": [
    {
     "data": {
      "text/plain": [
       "{'selector__k': 10, 'estimator__n_estimators': 1000}"
      ]
     },
     "execution_count": 20,
     "metadata": {},
     "output_type": "execute_result"
    }
   ],
   "source": [
    "RF_randomized_search.best_params_"
   ]
  },
  {
   "cell_type": "code",
   "execution_count": 21,
   "metadata": {
    "scrolled": false
   },
   "outputs": [
    {
     "data": {
      "text/plain": [
       "Pipeline(steps=[('selector',\n",
       "                 SelectKBest(score_func=<function f_regression at 0x7fd236acab90>)),\n",
       "                ('estimator', RandomForestClassifier(n_estimators=1000))])"
      ]
     },
     "execution_count": 21,
     "metadata": {},
     "output_type": "execute_result"
    }
   ],
   "source": [
    "RF_best_pipeline = RF_randomized_search.best_estimator_\n",
    "RF_best_pipeline"
   ]
  },
  {
   "cell_type": "markdown",
   "metadata": {},
   "source": [
    "To evaluate the model, we used cross validation with the hyperparameters already optimized. \n",
    "For the evaluation different metrics can be used, such as accuracy, recall, precision and area under the curve (AUC)."
   ]
  },
  {
   "cell_type": "code",
   "execution_count": 22,
   "metadata": {},
   "outputs": [],
   "source": [
    "scoring_metrics = ['accuracy', 'recall', 'precision', 'roc_auc']"
   ]
  },
  {
   "cell_type": "code",
   "execution_count": 23,
   "metadata": {},
   "outputs": [
    {
     "name": "stdout",
     "output_type": "stream",
     "text": [
      "Metrics: test_accuracy\n",
      "Results for each fold: [0.93100276 0.99172033 0.89604416 0.78656854 0.8664825 ]\n",
      "Mean for all folds: 0.8943636582345178\n",
      "Standard deviation: 0.06814795147715773\n",
      "Metrics: test_recall\n",
      "Results for each fold: [0.99201824 1.         0.9281642  0.73744292 0.92694064]\n",
      "Mean for all folds: 0.916913200356133\n",
      "Standard deviation: 0.09484819341832654\n",
      "Metrics: test_precision\n",
      "Results for each fold: [0.92750533 0.98984199 0.94212963 0.99691358 0.90929451]\n",
      "Mean for all folds: 0.953137007940174\n",
      "Standard deviation: 0.034536801734427046\n",
      "Metrics: test_roc_auc\n",
      "Results for each fold: [0.98633871 1.         0.94825433 0.94980956 0.86593281]\n",
      "Mean for all folds: 0.9500670822857644\n",
      "Standard deviation: 0.04667087972751376\n"
     ]
    }
   ],
   "source": [
    "RF_cv_scores = cross_validate(RF_best_pipeline, X, y, scoring=scoring_metrics, cv=5, return_train_score=False)\n",
    "\n",
    "eachfoldRF_accuracy = []\n",
    "eachfoldRF_recall = []\n",
    "eachfoldRF_precision = []\n",
    "eachfoldRF_roc_auc = []\n",
    "\n",
    "for key, value in RF_cv_scores.items():\n",
    "    if key != \"fit_time\" and key != \"score_time\":\n",
    "        print(\"Metrics: %s\" % key)\n",
    "        print(\"Results for each fold: %s\" % value) \n",
    "        print(\"Mean for all folds: %s\" % np.mean(value))\n",
    "        print(\"Standard deviation: %s\" % np.std(value))\n",
    "        \n",
    "        if (\"eachfoldRF_\" + key[5:]==\"eachfoldRF_accuracy\"):\n",
    "            eachfoldRF_accuracy = value\n",
    "        elif (\"eachfoldRF_\" + key[5:]==\"eachfoldRF_recall\"):\n",
    "            eachfoldRF_recall = value\n",
    "        elif (\"eachfoldRF_\" + key[5:]==\"eachfoldRF_precision\"):\n",
    "            eachfoldRF_precision = value\n",
    "        elif (\"eachfoldRF_\" + key[5:]==\"eachfoldRF_roc_auc\"):\n",
    "            eachfoldRF_roc_auc = value"
   ]
  },
  {
   "cell_type": "markdown",
   "metadata": {},
   "source": [
    "We trained the model with the complete dataset before using it to make predictions for the test dataset."
   ]
  },
  {
   "cell_type": "code",
   "execution_count": 24,
   "metadata": {},
   "outputs": [],
   "source": [
    "modelRF = RF_best_pipeline.fit(X_train,y_train)"
   ]
  },
  {
   "cell_type": "markdown",
   "metadata": {},
   "source": [
    "The Random Forest algorithm allows us to get information about the importance of each feature, and therefore, gives us the most important features."
   ]
  },
  {
   "cell_type": "code",
   "execution_count": 25,
   "metadata": {
    "scrolled": true
   },
   "outputs": [
    {
     "data": {
      "text/html": [
       "<div>\n",
       "<style scoped>\n",
       "    .dataframe tbody tr th:only-of-type {\n",
       "        vertical-align: middle;\n",
       "    }\n",
       "\n",
       "    .dataframe tbody tr th {\n",
       "        vertical-align: top;\n",
       "    }\n",
       "\n",
       "    .dataframe thead th {\n",
       "        text-align: right;\n",
       "    }\n",
       "</style>\n",
       "<table border=\"1\" class=\"dataframe\">\n",
       "  <thead>\n",
       "    <tr style=\"text-align: right;\">\n",
       "      <th></th>\n",
       "      <th>0</th>\n",
       "      <th>1</th>\n",
       "    </tr>\n",
       "  </thead>\n",
       "  <tbody>\n",
       "    <tr>\n",
       "      <th>0</th>\n",
       "      <td>0.1799</td>\n",
       "      <td>Sore throat</td>\n",
       "    </tr>\n",
       "    <tr>\n",
       "      <th>1</th>\n",
       "      <td>0.1693</td>\n",
       "      <td>Breathing Problem</td>\n",
       "    </tr>\n",
       "    <tr>\n",
       "      <th>2</th>\n",
       "      <td>0.1683</td>\n",
       "      <td>Asthma</td>\n",
       "    </tr>\n",
       "    <tr>\n",
       "      <th>3</th>\n",
       "      <td>0.1526</td>\n",
       "      <td>Dry Cough</td>\n",
       "    </tr>\n",
       "    <tr>\n",
       "      <th>4</th>\n",
       "      <td>0.1115</td>\n",
       "      <td>Headache</td>\n",
       "    </tr>\n",
       "  </tbody>\n",
       "</table>\n",
       "</div>"
      ],
      "text/plain": [
       "        0                  1\n",
       "0  0.1799        Sore throat\n",
       "1  0.1693  Breathing Problem\n",
       "2  0.1683             Asthma\n",
       "3  0.1526          Dry Cough\n",
       "4  0.1115           Headache"
      ]
     },
     "execution_count": 25,
     "metadata": {},
     "output_type": "execute_result"
    }
   ],
   "source": [
    "ln = X.shape\n",
    "names = X.columns.tolist()\n",
    "feature_importances = sorted(zip(map(lambda x: round(x, 4), modelRF.named_steps['estimator'].feature_importances_),names), reverse=True)\n",
    "\n",
    "feature_importances = pd.DataFrame.from_dict(data=feature_importances)\n",
    "feature_importances.to_csv('data/feature_importances(RF).csv',index=False)\n",
    "\n",
    "feature_importances.head()"
   ]
  },
  {
   "cell_type": "markdown",
   "metadata": {},
   "source": [
    "Lastly, we predicted the results for the COVID-19 variable using the test dataset and evaluated the performance of those results."
   ]
  },
  {
   "cell_type": "code",
   "execution_count": 26,
   "metadata": {},
   "outputs": [
    {
     "data": {
      "text/plain": [
       "array([1, 1, 1, ..., 1, 1, 1])"
      ]
     },
     "execution_count": 26,
     "metadata": {},
     "output_type": "execute_result"
    }
   ],
   "source": [
    "y_test_pred_rf = modelRF.predict(X_test)\n",
    "y_test_pred_rf"
   ]
  },
  {
   "cell_type": "code",
   "execution_count": 27,
   "metadata": {},
   "outputs": [
    {
     "data": {
      "text/plain": [
       "(0.9668813247470102,\n",
       " 0.9852941176470589,\n",
       " 0.9742729306487695,\n",
       " 0.9359968125181107)"
      ]
     },
     "execution_count": 27,
     "metadata": {},
     "output_type": "execute_result"
    }
   ],
   "source": [
    "acc_rf = accuracy_score(y_test, y_test_pred_rf)\n",
    "recall_rf = recall_score(y_test, y_test_pred_rf)\n",
    "prec_rf = precision_score(y_test, y_test_pred_rf)\n",
    "auc_rf = roc_auc_score(y_test, y_test_pred_rf)\n",
    "acc_rf, recall_rf, prec_rf, auc_rf"
   ]
  },
  {
   "cell_type": "code",
   "execution_count": 28,
   "metadata": {},
   "outputs": [
    {
     "data": {
      "image/png": "[encoded data removed]",
      "text/plain": [
       "<Figure size 432x432 with 2 Axes>"
      ]
     },
     "metadata": {},
     "output_type": "display_data"
    }
   ],
   "source": [
    "sns.set_style(\"white\")\n",
    "fig, ax = plt.subplots(1, 1, figsize=(6,6))\n",
    "plt.rcParams.update({'font.size': 14})\n",
    "disp = plot_confusion_matrix(modelRF, X_test, y_test, cmap = cmap, display_labels = [\"No\",\"Yes\"], ax=ax)\n",
    "plt.show()\n",
    "\n",
    "fig.savefig('plots/RF_confusion_matrix.png', bbox_inches='tight')"
   ]
  },
  {
   "cell_type": "markdown",
   "metadata": {},
   "source": [
    "For future use, the RF model can be saved as:"
   ]
  },
  {
   "cell_type": "code",
   "execution_count": 29,
   "metadata": {},
   "outputs": [],
   "source": [
    "pickle.dump(modelRF, open('models/modelRF.pkl', 'wb'))"
   ]
  },
  {
   "cell_type": "markdown",
   "metadata": {},
   "source": [
    "### Support Vector Machine"
   ]
  },
  {
   "cell_type": "markdown",
   "metadata": {},
   "source": [
    "For a second approach we used the Support Vector Machine (SVM) algorithm with the scikit Learn SVR class as estimator."
   ]
  },
  {
   "cell_type": "code",
   "execution_count": 30,
   "metadata": {},
   "outputs": [
    {
     "data": {
      "text/plain": [
       "SVC(kernel='linear')"
      ]
     },
     "execution_count": 30,
     "metadata": {},
     "output_type": "execute_result"
    }
   ],
   "source": [
    "SVM_estimator =  SVC(kernel = 'linear')\n",
    "SVM_estimator"
   ]
  },
  {
   "cell_type": "markdown",
   "metadata": {},
   "source": [
    "The Pipeline class is used to chain a series of processing that is done to the data, in this case, the selection of the best k features using the selector estimator defined above and the model estimator itself."
   ]
  },
  {
   "cell_type": "code",
   "execution_count": 31,
   "metadata": {},
   "outputs": [],
   "source": [
    "SVM_pipeline = Pipeline([('selector', KBest_selector),('estimator', SVM_estimator)])"
   ]
  },
  {
   "cell_type": "markdown",
   "metadata": {},
   "source": [
    "Then several hyperparameters were tested using the RandomizedSearchCV optimization method, which tests some random combinations of the search grid values, evaluating performance through cross-validation (3 folds). After defining the hyperparameter grid and the respective values to be tested, the best ones were chosen for the future construction of the model."
   ]
  },
  {
   "cell_type": "code",
   "execution_count": 32,
   "metadata": {},
   "outputs": [
    {
     "data": {
      "text/html": [
       "<div>\n",
       "<style scoped>\n",
       "    .dataframe tbody tr th:only-of-type {\n",
       "        vertical-align: middle;\n",
       "    }\n",
       "\n",
       "    .dataframe tbody tr th {\n",
       "        vertical-align: top;\n",
       "    }\n",
       "\n",
       "    .dataframe thead th {\n",
       "        text-align: right;\n",
       "    }\n",
       "</style>\n",
       "<table border=\"1\" class=\"dataframe\">\n",
       "  <thead>\n",
       "    <tr style=\"text-align: right;\">\n",
       "      <th></th>\n",
       "      <th>mean_fit_time</th>\n",
       "      <th>std_fit_time</th>\n",
       "      <th>mean_score_time</th>\n",
       "      <th>std_score_time</th>\n",
       "      <th>param_selector__k</th>\n",
       "      <th>param_estimator__C</th>\n",
       "      <th>params</th>\n",
       "      <th>split0_test_score</th>\n",
       "      <th>split1_test_score</th>\n",
       "      <th>split2_test_score</th>\n",
       "      <th>mean_test_score</th>\n",
       "      <th>std_test_score</th>\n",
       "      <th>rank_test_score</th>\n",
       "    </tr>\n",
       "  </thead>\n",
       "  <tbody>\n",
       "    <tr>\n",
       "      <th>0</th>\n",
       "      <td>0.057495</td>\n",
       "      <td>0.016615</td>\n",
       "      <td>0.013473</td>\n",
       "      <td>0.003045</td>\n",
       "      <td>all</td>\n",
       "      <td>0.1</td>\n",
       "      <td>{'selector__k': 'all', 'estimator__C': 0.1}</td>\n",
       "      <td>0.974062</td>\n",
       "      <td>0.923247</td>\n",
       "      <td>0.874103</td>\n",
       "      <td>0.923804</td>\n",
       "      <td>0.040810</td>\n",
       "      <td>3</td>\n",
       "    </tr>\n",
       "    <tr>\n",
       "      <th>1</th>\n",
       "      <td>0.029476</td>\n",
       "      <td>0.011498</td>\n",
       "      <td>0.008991</td>\n",
       "      <td>0.002385</td>\n",
       "      <td>5</td>\n",
       "      <td>0.1</td>\n",
       "      <td>{'selector__k': 5, 'estimator__C': 0.1}</td>\n",
       "      <td>0.918874</td>\n",
       "      <td>0.924351</td>\n",
       "      <td>0.698509</td>\n",
       "      <td>0.847245</td>\n",
       "      <td>0.105196</td>\n",
       "      <td>10</td>\n",
       "    </tr>\n",
       "    <tr>\n",
       "      <th>2</th>\n",
       "      <td>0.040366</td>\n",
       "      <td>0.008518</td>\n",
       "      <td>0.009024</td>\n",
       "      <td>0.002849</td>\n",
       "      <td>all</td>\n",
       "      <td>1</td>\n",
       "      <td>{'selector__k': 'all', 'estimator__C': 1}</td>\n",
       "      <td>0.966887</td>\n",
       "      <td>0.897846</td>\n",
       "      <td>0.874655</td>\n",
       "      <td>0.913130</td>\n",
       "      <td>0.039174</td>\n",
       "      <td>5</td>\n",
       "    </tr>\n",
       "    <tr>\n",
       "      <th>3</th>\n",
       "      <td>0.025946</td>\n",
       "      <td>0.006848</td>\n",
       "      <td>0.008876</td>\n",
       "      <td>0.002205</td>\n",
       "      <td>10</td>\n",
       "      <td>0.1</td>\n",
       "      <td>{'selector__k': 10, 'estimator__C': 0.1}</td>\n",
       "      <td>0.987307</td>\n",
       "      <td>0.876311</td>\n",
       "      <td>0.871894</td>\n",
       "      <td>0.911837</td>\n",
       "      <td>0.053395</td>\n",
       "      <td>6</td>\n",
       "    </tr>\n",
       "    <tr>\n",
       "      <th>4</th>\n",
       "      <td>0.044112</td>\n",
       "      <td>0.017990</td>\n",
       "      <td>0.007468</td>\n",
       "      <td>0.002496</td>\n",
       "      <td>15</td>\n",
       "      <td>10</td>\n",
       "      <td>{'selector__k': 15, 'estimator__C': 10}</td>\n",
       "      <td>0.970199</td>\n",
       "      <td>0.913860</td>\n",
       "      <td>0.894533</td>\n",
       "      <td>0.926197</td>\n",
       "      <td>0.032098</td>\n",
       "      <td>2</td>\n",
       "    </tr>\n",
       "    <tr>\n",
       "      <th>5</th>\n",
       "      <td>0.033437</td>\n",
       "      <td>0.007816</td>\n",
       "      <td>0.007935</td>\n",
       "      <td>0.002162</td>\n",
       "      <td>15</td>\n",
       "      <td>1</td>\n",
       "      <td>{'selector__k': 15, 'estimator__C': 1}</td>\n",
       "      <td>0.959161</td>\n",
       "      <td>0.895086</td>\n",
       "      <td>0.876311</td>\n",
       "      <td>0.910186</td>\n",
       "      <td>0.035469</td>\n",
       "      <td>7</td>\n",
       "    </tr>\n",
       "    <tr>\n",
       "      <th>6</th>\n",
       "      <td>0.026327</td>\n",
       "      <td>0.007784</td>\n",
       "      <td>0.007059</td>\n",
       "      <td>0.002107</td>\n",
       "      <td>5</td>\n",
       "      <td>10</td>\n",
       "      <td>{'selector__k': 5, 'estimator__C': 10}</td>\n",
       "      <td>0.980132</td>\n",
       "      <td>0.887355</td>\n",
       "      <td>0.698509</td>\n",
       "      <td>0.855332</td>\n",
       "      <td>0.117181</td>\n",
       "      <td>9</td>\n",
       "    </tr>\n",
       "    <tr>\n",
       "      <th>7</th>\n",
       "      <td>0.056501</td>\n",
       "      <td>0.022800</td>\n",
       "      <td>0.008628</td>\n",
       "      <td>0.003086</td>\n",
       "      <td>all</td>\n",
       "      <td>10</td>\n",
       "      <td>{'selector__k': 'all', 'estimator__C': 10}</td>\n",
       "      <td>0.958609</td>\n",
       "      <td>0.870237</td>\n",
       "      <td>0.880177</td>\n",
       "      <td>0.903008</td>\n",
       "      <td>0.039525</td>\n",
       "      <td>8</td>\n",
       "    </tr>\n",
       "    <tr>\n",
       "      <th>8</th>\n",
       "      <td>0.023009</td>\n",
       "      <td>0.007762</td>\n",
       "      <td>0.006653</td>\n",
       "      <td>0.001611</td>\n",
       "      <td>10</td>\n",
       "      <td>1</td>\n",
       "      <td>{'selector__k': 10, 'estimator__C': 1}</td>\n",
       "      <td>0.988411</td>\n",
       "      <td>0.920486</td>\n",
       "      <td>0.871894</td>\n",
       "      <td>0.926930</td>\n",
       "      <td>0.047785</td>\n",
       "      <td>1</td>\n",
       "    </tr>\n",
       "    <tr>\n",
       "      <th>9</th>\n",
       "      <td>0.035638</td>\n",
       "      <td>0.007734</td>\n",
       "      <td>0.010080</td>\n",
       "      <td>0.002594</td>\n",
       "      <td>15</td>\n",
       "      <td>0.1</td>\n",
       "      <td>{'selector__k': 15, 'estimator__C': 0.1}</td>\n",
       "      <td>0.979029</td>\n",
       "      <td>0.911651</td>\n",
       "      <td>0.874103</td>\n",
       "      <td>0.921594</td>\n",
       "      <td>0.043409</td>\n",
       "      <td>4</td>\n",
       "    </tr>\n",
       "  </tbody>\n",
       "</table>\n",
       "</div>"
      ],
      "text/plain": [
       "   mean_fit_time  std_fit_time  mean_score_time  std_score_time  \\\n",
       "0       0.057495      0.016615         0.013473        0.003045   \n",
       "1       0.029476      0.011498         0.008991        0.002385   \n",
       "2       0.040366      0.008518         0.009024        0.002849   \n",
       "3       0.025946      0.006848         0.008876        0.002205   \n",
       "4       0.044112      0.017990         0.007468        0.002496   \n",
       "5       0.033437      0.007816         0.007935        0.002162   \n",
       "6       0.026327      0.007784         0.007059        0.002107   \n",
       "7       0.056501      0.022800         0.008628        0.003086   \n",
       "8       0.023009      0.007762         0.006653        0.001611   \n",
       "9       0.035638      0.007734         0.010080        0.002594   \n",
       "\n",
       "  param_selector__k param_estimator__C  \\\n",
       "0               all                0.1   \n",
       "1                 5                0.1   \n",
       "2               all                  1   \n",
       "3                10                0.1   \n",
       "4                15                 10   \n",
       "5                15                  1   \n",
       "6                 5                 10   \n",
       "7               all                 10   \n",
       "8                10                  1   \n",
       "9                15                0.1   \n",
       "\n",
       "                                        params  split0_test_score  \\\n",
       "0  {'selector__k': 'all', 'estimator__C': 0.1}           0.974062   \n",
       "1      {'selector__k': 5, 'estimator__C': 0.1}           0.918874   \n",
       "2    {'selector__k': 'all', 'estimator__C': 1}           0.966887   \n",
       "3     {'selector__k': 10, 'estimator__C': 0.1}           0.987307   \n",
       "4      {'selector__k': 15, 'estimator__C': 10}           0.970199   \n",
       "5       {'selector__k': 15, 'estimator__C': 1}           0.959161   \n",
       "6       {'selector__k': 5, 'estimator__C': 10}           0.980132   \n",
       "7   {'selector__k': 'all', 'estimator__C': 10}           0.958609   \n",
       "8       {'selector__k': 10, 'estimator__C': 1}           0.988411   \n",
       "9     {'selector__k': 15, 'estimator__C': 0.1}           0.979029   \n",
       "\n",
       "   split1_test_score  split2_test_score  mean_test_score  std_test_score  \\\n",
       "0           0.923247           0.874103         0.923804        0.040810   \n",
       "1           0.924351           0.698509         0.847245        0.105196   \n",
       "2           0.897846           0.874655         0.913130        0.039174   \n",
       "3           0.876311           0.871894         0.911837        0.053395   \n",
       "4           0.913860           0.894533         0.926197        0.032098   \n",
       "5           0.895086           0.876311         0.910186        0.035469   \n",
       "6           0.887355           0.698509         0.855332        0.117181   \n",
       "7           0.870237           0.880177         0.903008        0.039525   \n",
       "8           0.920486           0.871894         0.926930        0.047785   \n",
       "9           0.911651           0.874103         0.921594        0.043409   \n",
       "\n",
       "   rank_test_score  \n",
       "0                3  \n",
       "1               10  \n",
       "2                5  \n",
       "3                6  \n",
       "4                2  \n",
       "5                7  \n",
       "6                9  \n",
       "7                8  \n",
       "8                1  \n",
       "9                4  "
      ]
     },
     "execution_count": 32,
     "metadata": {},
     "output_type": "execute_result"
    }
   ],
   "source": [
    "SVM_params_to_test = {'estimator__C':[0.1, 1, 10],'selector__k':[5, 10, 15, 'all']}\n",
    "        \n",
    "SVM_randomized_search = RandomizedSearchCV(SVM_pipeline,SVM_params_to_test, cv=3)\n",
    "SVM_randomized_search.fit(X,y)\n",
    "\n",
    "SVM_rs_results = pd.DataFrame.from_dict(data=SVM_randomized_search.cv_results_)\n",
    "SVM_rs_results.to_csv('data/rs_results(SVM).csv',index=False)\n",
    "SVM_rs_results"
   ]
  },
  {
   "cell_type": "markdown",
   "metadata": {},
   "source": [
    "Using the best hyperparameters (selector__k = 10 and estimator__C = 1) we build the SVM model."
   ]
  },
  {
   "cell_type": "code",
   "execution_count": 33,
   "metadata": {},
   "outputs": [
    {
     "data": {
      "text/plain": [
       "{'selector__k': 10, 'estimator__C': 1}"
      ]
     },
     "execution_count": 33,
     "metadata": {},
     "output_type": "execute_result"
    }
   ],
   "source": [
    "SVM_randomized_search.best_params_"
   ]
  },
  {
   "cell_type": "code",
   "execution_count": 34,
   "metadata": {},
   "outputs": [
    {
     "data": {
      "text/plain": [
       "Pipeline(steps=[('selector',\n",
       "                 SelectKBest(score_func=<function f_regression at 0x7fd236acab90>)),\n",
       "                ('estimator', SVC(C=1, kernel='linear'))])"
      ]
     },
     "execution_count": 34,
     "metadata": {},
     "output_type": "execute_result"
    }
   ],
   "source": [
    "SVM_best_pipeline = SVM_randomized_search.best_estimator_\n",
    "SVM_best_pipeline"
   ]
  },
  {
   "cell_type": "markdown",
   "metadata": {},
   "source": [
    "To evaluate the model, we used cross validation with the hyperparameters already optimized. \n",
    "For the evaluation different metrics can be used, such as accuracy, recall, precision and area under the curve (AUC)."
   ]
  },
  {
   "cell_type": "code",
   "execution_count": 35,
   "metadata": {},
   "outputs": [
    {
     "name": "stdout",
     "output_type": "stream",
     "text": [
      "Metrics: test_accuracy\n",
      "Results for each fold: [0.98344066 1.         0.9374425  0.7700092  0.78268877]\n",
      "Mean for all folds: 0.8947162260839218\n",
      "Standard deviation: 0.09887793237922157\n",
      "Metrics: test_recall\n",
      "Results for each fold: [0.99201824 1.         0.97947548 0.71689498 0.79908676]\n",
      "Mean for all folds: 0.8974950927560228\n",
      "Standard deviation: 0.11701561338733071\n",
      "Metrics: test_precision\n",
      "Results for each fold: [0.98751419 1.         0.9449945  0.9968254  0.92105263]\n",
      "Mean for all folds: 0.9700773432553074\n",
      "Standard deviation: 0.03145612415457237\n",
      "Metrics: test_roc_auc\n",
      "Results for each fold: [0.99787153 1.         0.96134007 0.95956686 0.84865188]\n",
      "Mean for all folds: 0.9534860676187253\n",
      "Standard deviation: 0.05517695781546575\n"
     ]
    }
   ],
   "source": [
    "\n",
    "SVM_cv_scores = cross_validate(SVM_best_pipeline, X, y, scoring=scoring_metrics, cv=5, return_train_score=False)\n",
    "\n",
    "eachfoldSVM_accuracy = []\n",
    "eachfoldSVM_recall = []\n",
    "eachfoldSVM_precision = []\n",
    "eachfoldSVM_roc_auc = []\n",
    "\n",
    "for key, value in SVM_cv_scores.items():\n",
    "    if key != \"fit_time\" and key != \"score_time\":\n",
    "        print(\"Metrics: %s\" % key)\n",
    "        print(\"Results for each fold: %s\" % value)\n",
    "        print(\"Mean for all folds: %s\" % np.mean(value))\n",
    "        print(\"Standard deviation: %s\" % np.std(value))\n",
    "        \n",
    "        if (\"eachfoldSVM_\" + key[5:]==\"eachfoldSVM_accuracy\"):\n",
    "            eachfoldSVM_accuracy = value\n",
    "        elif (\"eachfoldSVM_\" + key[5:]==\"eachfoldSVM_recall\"):\n",
    "            eachfoldSVM_recall = value\n",
    "        elif (\"eachfoldSVM_\" + key[5:]==\"eachfoldSVM_precision\"):\n",
    "            eachfoldSVM_precision = value\n",
    "        elif (\"eachfoldSVM_\" + key[5:]==\"eachfoldSVM_roc_auc\"):\n",
    "            eachfoldSVM_roc_auc = value\n"
   ]
  },
  {
   "cell_type": "markdown",
   "metadata": {},
   "source": [
    "We trained the model with the complete dataset before using it to make predictions for the test dataset."
   ]
  },
  {
   "cell_type": "code",
   "execution_count": 36,
   "metadata": {},
   "outputs": [],
   "source": [
    "modelSVM = SVM_best_pipeline.fit(X_train,y_train)"
   ]
  },
  {
   "cell_type": "markdown",
   "metadata": {},
   "source": [
    "Lastly, we predicted the results for the COVID-19 variable using the test dataset and evaluated the performance of those results."
   ]
  },
  {
   "cell_type": "code",
   "execution_count": 37,
   "metadata": {},
   "outputs": [
    {
     "data": {
      "text/plain": [
       "array([1, 1, 1, ..., 1, 1, 1])"
      ]
     },
     "execution_count": 37,
     "metadata": {},
     "output_type": "execute_result"
    }
   ],
   "source": [
    "y_test_pred_svm = modelSVM.predict(X_test)\n",
    "y_test_pred_svm"
   ]
  },
  {
   "cell_type": "code",
   "execution_count": 38,
   "metadata": {},
   "outputs": [
    {
     "data": {
      "text/plain": [
       "(0.968721251149954, 1.0, 0.9629629629629629, 0.916256157635468)"
      ]
     },
     "execution_count": 38,
     "metadata": {},
     "output_type": "execute_result"
    }
   ],
   "source": [
    "acc_svm = accuracy_score(y_test, y_test_pred_svm)\n",
    "recall_svm = recall_score(y_test, y_test_pred_svm)\n",
    "prec_svm = precision_score(y_test, y_test_pred_svm)\n",
    "auc_svm = roc_auc_score(y_test, y_test_pred_svm)\n",
    "acc_svm, recall_svm, prec_svm, auc_svm"
   ]
  },
  {
   "cell_type": "code",
   "execution_count": 39,
   "metadata": {},
   "outputs": [
    {
     "data": {
      "image/png": "[encoded data removed]",
      "text/plain": [
       "<Figure size 432x432 with 2 Axes>"
      ]
     },
     "metadata": {},
     "output_type": "display_data"
    }
   ],
   "source": [
    "fig, ax = plt.subplots(1, 1, figsize=(6,6))\n",
    "plt.rcParams.update({'font.size': 14})\n",
    "disp = plot_confusion_matrix(modelSVM, X_test, y_test, cmap = cmap, display_labels = [\"No\",\"Yes\"], ax=ax)\n",
    "plt.show()\n",
    "\n",
    "fig.savefig('plots/SMV_confusion_matrix.png', bbox_inches='tight')"
   ]
  },
  {
   "cell_type": "markdown",
   "metadata": {},
   "source": [
    "The For future use, the SVM model can be saved as:"
   ]
  },
  {
   "cell_type": "code",
   "execution_count": 40,
   "metadata": {},
   "outputs": [],
   "source": [
    "pickle.dump(modelSVM, open('models/modelSVM.pkl', 'wb'))"
   ]
  },
  {
   "cell_type": "markdown",
   "metadata": {},
   "source": [
    "### Gradient Boosting"
   ]
  },
  {
   "cell_type": "markdown",
   "metadata": {},
   "source": [
    "For the last approach we used the Gradient Boosting (GB) algorithm where the scikit Learn GradientBoostingRegressor class was used as estimator."
   ]
  },
  {
   "cell_type": "code",
   "execution_count": 41,
   "metadata": {},
   "outputs": [
    {
     "data": {
      "text/plain": [
       "GradientBoostingClassifier()"
      ]
     },
     "execution_count": 41,
     "metadata": {},
     "output_type": "execute_result"
    }
   ],
   "source": [
    "GB_estimator =  GradientBoostingClassifier()\n",
    "GB_estimator"
   ]
  },
  {
   "cell_type": "markdown",
   "metadata": {},
   "source": [
    "The Pipeline class is used to chain a series of processing that is done to the data, in this case, the selection of the best k features using the selector estimator defined above and the model estimator itself."
   ]
  },
  {
   "cell_type": "code",
   "execution_count": 42,
   "metadata": {},
   "outputs": [],
   "source": [
    "GB_pipeline = Pipeline([('selector', KBest_selector),('estimator', GB_estimator)])"
   ]
  },
  {
   "cell_type": "markdown",
   "metadata": {},
   "source": [
    "Then several hyperparameters were tested using the RandomizedSearchCV optimization method, which tests some random combinations of the search grid values, evaluating performance through cross-validation (3 folds). After defining the hyperparameter grid and the respective values to be tested, the best ones were chosen for the future construction of the model."
   ]
  },
  {
   "cell_type": "code",
   "execution_count": 43,
   "metadata": {},
   "outputs": [
    {
     "data": {
      "text/html": [
       "<div>\n",
       "<style scoped>\n",
       "    .dataframe tbody tr th:only-of-type {\n",
       "        vertical-align: middle;\n",
       "    }\n",
       "\n",
       "    .dataframe tbody tr th {\n",
       "        vertical-align: top;\n",
       "    }\n",
       "\n",
       "    .dataframe thead th {\n",
       "        text-align: right;\n",
       "    }\n",
       "</style>\n",
       "<table border=\"1\" class=\"dataframe\">\n",
       "  <thead>\n",
       "    <tr style=\"text-align: right;\">\n",
       "      <th></th>\n",
       "      <th>mean_fit_time</th>\n",
       "      <th>std_fit_time</th>\n",
       "      <th>mean_score_time</th>\n",
       "      <th>std_score_time</th>\n",
       "      <th>param_selector__k</th>\n",
       "      <th>param_estimator__n_estimators</th>\n",
       "      <th>params</th>\n",
       "      <th>split0_test_score</th>\n",
       "      <th>split1_test_score</th>\n",
       "      <th>split2_test_score</th>\n",
       "      <th>mean_test_score</th>\n",
       "      <th>std_test_score</th>\n",
       "      <th>rank_test_score</th>\n",
       "    </tr>\n",
       "  </thead>\n",
       "  <tbody>\n",
       "    <tr>\n",
       "      <th>0</th>\n",
       "      <td>0.601186</td>\n",
       "      <td>0.061907</td>\n",
       "      <td>0.010941</td>\n",
       "      <td>0.000536</td>\n",
       "      <td>5</td>\n",
       "      <td>500</td>\n",
       "      <td>{'selector__k': 5, 'estimator__n_estimators': ...</td>\n",
       "      <td>0.956954</td>\n",
       "      <td>0.887355</td>\n",
       "      <td>0.754279</td>\n",
       "      <td>0.866196</td>\n",
       "      <td>0.084083</td>\n",
       "      <td>9</td>\n",
       "    </tr>\n",
       "    <tr>\n",
       "      <th>1</th>\n",
       "      <td>0.314690</td>\n",
       "      <td>0.008837</td>\n",
       "      <td>0.006359</td>\n",
       "      <td>0.000271</td>\n",
       "      <td>10</td>\n",
       "      <td>200</td>\n",
       "      <td>{'selector__k': 10, 'estimator__n_estimators':...</td>\n",
       "      <td>0.958609</td>\n",
       "      <td>0.889012</td>\n",
       "      <td>0.864163</td>\n",
       "      <td>0.903928</td>\n",
       "      <td>0.039974</td>\n",
       "      <td>4</td>\n",
       "    </tr>\n",
       "    <tr>\n",
       "      <th>2</th>\n",
       "      <td>1.518372</td>\n",
       "      <td>0.038512</td>\n",
       "      <td>0.016692</td>\n",
       "      <td>0.001869</td>\n",
       "      <td>15</td>\n",
       "      <td>700</td>\n",
       "      <td>{'selector__k': 15, 'estimator__n_estimators':...</td>\n",
       "      <td>0.947020</td>\n",
       "      <td>0.878520</td>\n",
       "      <td>0.906129</td>\n",
       "      <td>0.910556</td>\n",
       "      <td>0.028140</td>\n",
       "      <td>2</td>\n",
       "    </tr>\n",
       "    <tr>\n",
       "      <th>3</th>\n",
       "      <td>1.184032</td>\n",
       "      <td>0.016278</td>\n",
       "      <td>0.016380</td>\n",
       "      <td>0.001747</td>\n",
       "      <td>10</td>\n",
       "      <td>700</td>\n",
       "      <td>{'selector__k': 10, 'estimator__n_estimators':...</td>\n",
       "      <td>0.955298</td>\n",
       "      <td>0.917173</td>\n",
       "      <td>0.821645</td>\n",
       "      <td>0.898039</td>\n",
       "      <td>0.056216</td>\n",
       "      <td>5</td>\n",
       "    </tr>\n",
       "    <tr>\n",
       "      <th>4</th>\n",
       "      <td>0.841990</td>\n",
       "      <td>0.020868</td>\n",
       "      <td>0.012095</td>\n",
       "      <td>0.001248</td>\n",
       "      <td>10</td>\n",
       "      <td>500</td>\n",
       "      <td>{'selector__k': 10, 'estimator__n_estimators':...</td>\n",
       "      <td>0.963576</td>\n",
       "      <td>0.914964</td>\n",
       "      <td>0.811706</td>\n",
       "      <td>0.896749</td>\n",
       "      <td>0.063324</td>\n",
       "      <td>6</td>\n",
       "    </tr>\n",
       "    <tr>\n",
       "      <th>5</th>\n",
       "      <td>0.472343</td>\n",
       "      <td>0.012607</td>\n",
       "      <td>0.006789</td>\n",
       "      <td>0.000333</td>\n",
       "      <td>all</td>\n",
       "      <td>200</td>\n",
       "      <td>{'selector__k': 'all', 'estimator__n_estimator...</td>\n",
       "      <td>0.947020</td>\n",
       "      <td>0.883490</td>\n",
       "      <td>0.893981</td>\n",
       "      <td>0.908164</td>\n",
       "      <td>0.027807</td>\n",
       "      <td>3</td>\n",
       "    </tr>\n",
       "    <tr>\n",
       "      <th>6</th>\n",
       "      <td>0.108124</td>\n",
       "      <td>0.007549</td>\n",
       "      <td>0.003447</td>\n",
       "      <td>0.000069</td>\n",
       "      <td>5</td>\n",
       "      <td>100</td>\n",
       "      <td>{'selector__k': 5, 'estimator__n_estimators': ...</td>\n",
       "      <td>0.956954</td>\n",
       "      <td>0.887355</td>\n",
       "      <td>0.768084</td>\n",
       "      <td>0.870798</td>\n",
       "      <td>0.077990</td>\n",
       "      <td>8</td>\n",
       "    </tr>\n",
       "    <tr>\n",
       "      <th>7</th>\n",
       "      <td>2.193855</td>\n",
       "      <td>0.037423</td>\n",
       "      <td>0.022772</td>\n",
       "      <td>0.001461</td>\n",
       "      <td>15</td>\n",
       "      <td>1000</td>\n",
       "      <td>{'selector__k': 15, 'estimator__n_estimators':...</td>\n",
       "      <td>0.947020</td>\n",
       "      <td>0.882385</td>\n",
       "      <td>0.859746</td>\n",
       "      <td>0.896384</td>\n",
       "      <td>0.036979</td>\n",
       "      <td>7</td>\n",
       "    </tr>\n",
       "    <tr>\n",
       "      <th>8</th>\n",
       "      <td>1.129276</td>\n",
       "      <td>0.051200</td>\n",
       "      <td>0.017896</td>\n",
       "      <td>0.000935</td>\n",
       "      <td>5</td>\n",
       "      <td>1000</td>\n",
       "      <td>{'selector__k': 5, 'estimator__n_estimators': ...</td>\n",
       "      <td>0.956954</td>\n",
       "      <td>0.887355</td>\n",
       "      <td>0.712314</td>\n",
       "      <td>0.852207</td>\n",
       "      <td>0.102920</td>\n",
       "      <td>10</td>\n",
       "    </tr>\n",
       "    <tr>\n",
       "      <th>9</th>\n",
       "      <td>0.408907</td>\n",
       "      <td>0.006560</td>\n",
       "      <td>0.006499</td>\n",
       "      <td>0.000245</td>\n",
       "      <td>15</td>\n",
       "      <td>200</td>\n",
       "      <td>{'selector__k': 15, 'estimator__n_estimators':...</td>\n",
       "      <td>0.953091</td>\n",
       "      <td>0.887355</td>\n",
       "      <td>0.900055</td>\n",
       "      <td>0.913500</td>\n",
       "      <td>0.028471</td>\n",
       "      <td>1</td>\n",
       "    </tr>\n",
       "  </tbody>\n",
       "</table>\n",
       "</div>"
      ],
      "text/plain": [
       "   mean_fit_time  std_fit_time  mean_score_time  std_score_time  \\\n",
       "0       0.601186      0.061907         0.010941        0.000536   \n",
       "1       0.314690      0.008837         0.006359        0.000271   \n",
       "2       1.518372      0.038512         0.016692        0.001869   \n",
       "3       1.184032      0.016278         0.016380        0.001747   \n",
       "4       0.841990      0.020868         0.012095        0.001248   \n",
       "5       0.472343      0.012607         0.006789        0.000333   \n",
       "6       0.108124      0.007549         0.003447        0.000069   \n",
       "7       2.193855      0.037423         0.022772        0.001461   \n",
       "8       1.129276      0.051200         0.017896        0.000935   \n",
       "9       0.408907      0.006560         0.006499        0.000245   \n",
       "\n",
       "  param_selector__k param_estimator__n_estimators  \\\n",
       "0                 5                           500   \n",
       "1                10                           200   \n",
       "2                15                           700   \n",
       "3                10                           700   \n",
       "4                10                           500   \n",
       "5               all                           200   \n",
       "6                 5                           100   \n",
       "7                15                          1000   \n",
       "8                 5                          1000   \n",
       "9                15                           200   \n",
       "\n",
       "                                              params  split0_test_score  \\\n",
       "0  {'selector__k': 5, 'estimator__n_estimators': ...           0.956954   \n",
       "1  {'selector__k': 10, 'estimator__n_estimators':...           0.958609   \n",
       "2  {'selector__k': 15, 'estimator__n_estimators':...           0.947020   \n",
       "3  {'selector__k': 10, 'estimator__n_estimators':...           0.955298   \n",
       "4  {'selector__k': 10, 'estimator__n_estimators':...           0.963576   \n",
       "5  {'selector__k': 'all', 'estimator__n_estimator...           0.947020   \n",
       "6  {'selector__k': 5, 'estimator__n_estimators': ...           0.956954   \n",
       "7  {'selector__k': 15, 'estimator__n_estimators':...           0.947020   \n",
       "8  {'selector__k': 5, 'estimator__n_estimators': ...           0.956954   \n",
       "9  {'selector__k': 15, 'estimator__n_estimators':...           0.953091   \n",
       "\n",
       "   split1_test_score  split2_test_score  mean_test_score  std_test_score  \\\n",
       "0           0.887355           0.754279         0.866196        0.084083   \n",
       "1           0.889012           0.864163         0.903928        0.039974   \n",
       "2           0.878520           0.906129         0.910556        0.028140   \n",
       "3           0.917173           0.821645         0.898039        0.056216   \n",
       "4           0.914964           0.811706         0.896749        0.063324   \n",
       "5           0.883490           0.893981         0.908164        0.027807   \n",
       "6           0.887355           0.768084         0.870798        0.077990   \n",
       "7           0.882385           0.859746         0.896384        0.036979   \n",
       "8           0.887355           0.712314         0.852207        0.102920   \n",
       "9           0.887355           0.900055         0.913500        0.028471   \n",
       "\n",
       "   rank_test_score  \n",
       "0                9  \n",
       "1                4  \n",
       "2                2  \n",
       "3                5  \n",
       "4                6  \n",
       "5                3  \n",
       "6                8  \n",
       "7                7  \n",
       "8               10  \n",
       "9                1  "
      ]
     },
     "execution_count": 43,
     "metadata": {},
     "output_type": "execute_result"
    }
   ],
   "source": [
    "GB_params_to_test = {'estimator__n_estimators':[100, 200, 500, 700, 1000],'selector__k':[5, 10, 15, 'all']}\n",
    "        \n",
    "GB_randomized_search = RandomizedSearchCV(GB_pipeline,GB_params_to_test, cv=3)\n",
    "GB_randomized_search.fit(X,y)\n",
    "\n",
    "GB_rs_results = pd.DataFrame.from_dict(data=GB_randomized_search.cv_results_)\n",
    "GB_rs_results.to_csv('data/rs_results(GB).csv',index=False)\n",
    "GB_rs_results"
   ]
  },
  {
   "cell_type": "markdown",
   "metadata": {},
   "source": [
    "Using the best hyperparameters (selector__k = 15 and estimator__n_estimators = 200) we build the GB model."
   ]
  },
  {
   "cell_type": "code",
   "execution_count": 44,
   "metadata": {},
   "outputs": [
    {
     "data": {
      "text/plain": [
       "{'selector__k': 15, 'estimator__n_estimators': 200}"
      ]
     },
     "execution_count": 44,
     "metadata": {},
     "output_type": "execute_result"
    }
   ],
   "source": [
    "GB_randomized_search.best_params_"
   ]
  },
  {
   "cell_type": "code",
   "execution_count": 45,
   "metadata": {},
   "outputs": [
    {
     "data": {
      "text/plain": [
       "Pipeline(steps=[('selector',\n",
       "                 SelectKBest(k=15,\n",
       "                             score_func=<function f_regression at 0x7fd236acab90>)),\n",
       "                ('estimator', GradientBoostingClassifier(n_estimators=200))])"
      ]
     },
     "execution_count": 45,
     "metadata": {},
     "output_type": "execute_result"
    }
   ],
   "source": [
    "GB_best_pipeline = GB_randomized_search.best_estimator_\n",
    "GB_best_pipeline"
   ]
  },
  {
   "cell_type": "markdown",
   "metadata": {},
   "source": [
    "To evaluate the model, we used cross validation with the hyperparameters already optimized. \n",
    "For the evaluation different metrics can be used, such as accuracy, recall, precision and area under the curve (AUC)."
   ]
  },
  {
   "cell_type": "code",
   "execution_count": 46,
   "metadata": {},
   "outputs": [
    {
     "name": "stdout",
     "output_type": "stream",
     "text": [
      "Metrics: test_accuracy\n",
      "Results for each fold: [0.92916283 0.97516099 0.84268629 0.84544618 0.87661142]\n",
      "Mean for all folds: 0.8938135439591625\n",
      "Standard deviation: 0.05121775178102756\n",
      "Metrics: test_recall\n",
      "Results for each fold: [0.98973774 1.         0.86202965 0.81050228 0.90182648]\n",
      "Mean for all folds: 0.912819231189766\n",
      "Standard deviation: 0.07305631262077253\n",
      "Metrics: test_precision\n",
      "Results for each fold: [0.92735043 0.97013274 0.93796526 0.99719101 0.94272076]\n",
      "Mean for all folds: 0.955072041243654\n",
      "Standard deviation: 0.025355536912514617\n",
      "Metrics: test_roc_auc\n",
      "Results for each fold: [0.97856871 0.99692132 0.93816583 0.95887165 0.90322896]\n",
      "Mean for all folds: 0.9551512945261124\n",
      "Standard deviation: 0.03253117430757584\n"
     ]
    }
   ],
   "source": [
    "\n",
    "GB_cv_scores = cross_validate(GB_best_pipeline, X, y, scoring=scoring_metrics, cv=5, return_train_score=False)\n",
    "\n",
    "eachfoldGB_accuracy = []\n",
    "eachfoldGB_recall = []\n",
    "eachfoldGB_precision = []\n",
    "eachfoldGB_roc_auc = []\n",
    "\n",
    "for key, value in GB_cv_scores.items():\n",
    "    if key != \"fit_time\" and key != \"score_time\":\n",
    "        print(\"Metrics: %s\" % key)\n",
    "        print(\"Results for each fold: %s\" % value) \n",
    "        print(\"Mean for all folds: %s\" % np.mean(value))\n",
    "        print(\"Standard deviation: %s\" % np.std(value))\n",
    "        \n",
    "        if (\"eachfoldGB_\" + key[5:]==\"eachfoldGB_accuracy\"):\n",
    "            eachfoldGB_accuracy = value\n",
    "        elif (\"eachfoldGB_\" + key[5:]==\"eachfoldGB_recall\"):\n",
    "            eachfoldGB_recall = value\n",
    "        elif (\"eachfoldGB_\" + key[5:]==\"eachfoldGB_precision\"):\n",
    "            eachfoldGB_precision = value\n",
    "        elif (\"eachfoldGB_\" + key[5:]==\"eachfoldGB_roc_auc\"):\n",
    "            eachfoldGB_roc_auc = value"
   ]
  },
  {
   "cell_type": "markdown",
   "metadata": {},
   "source": [
    "We trained the model with the complete dataset before using it to make predictions for the test dataset."
   ]
  },
  {
   "cell_type": "code",
   "execution_count": 47,
   "metadata": {},
   "outputs": [],
   "source": [
    "modelGB = GB_best_pipeline.fit(X, y)"
   ]
  },
  {
   "cell_type": "markdown",
   "metadata": {},
   "source": [
    "Similarly to the Random Forest algorithm, the Gradient Boosting algorithm also allows to get information about the importance of each feature, and therefore, gives us the most important features."
   ]
  },
  {
   "cell_type": "code",
   "execution_count": 48,
   "metadata": {},
   "outputs": [
    {
     "data": {
      "text/html": [
       "<div>\n",
       "<style scoped>\n",
       "    .dataframe tbody tr th:only-of-type {\n",
       "        vertical-align: middle;\n",
       "    }\n",
       "\n",
       "    .dataframe tbody tr th {\n",
       "        vertical-align: top;\n",
       "    }\n",
       "\n",
       "    .dataframe thead th {\n",
       "        text-align: right;\n",
       "    }\n",
       "</style>\n",
       "<table border=\"1\" class=\"dataframe\">\n",
       "  <thead>\n",
       "    <tr style=\"text-align: right;\">\n",
       "      <th></th>\n",
       "      <th>0</th>\n",
       "      <th>1</th>\n",
       "    </tr>\n",
       "  </thead>\n",
       "  <tbody>\n",
       "    <tr>\n",
       "      <th>0</th>\n",
       "      <td>0.2367</td>\n",
       "      <td>Hyper Tension</td>\n",
       "    </tr>\n",
       "    <tr>\n",
       "      <th>1</th>\n",
       "      <td>0.2366</td>\n",
       "      <td>Sore throat</td>\n",
       "    </tr>\n",
       "    <tr>\n",
       "      <th>2</th>\n",
       "      <td>0.2136</td>\n",
       "      <td>Breathing Problem</td>\n",
       "    </tr>\n",
       "    <tr>\n",
       "      <th>3</th>\n",
       "      <td>0.1229</td>\n",
       "      <td>Dry Cough</td>\n",
       "    </tr>\n",
       "    <tr>\n",
       "      <th>4</th>\n",
       "      <td>0.0993</td>\n",
       "      <td>Gastrointestinal</td>\n",
       "    </tr>\n",
       "  </tbody>\n",
       "</table>\n",
       "</div>"
      ],
      "text/plain": [
       "        0                  1\n",
       "0  0.2367      Hyper Tension\n",
       "1  0.2366        Sore throat\n",
       "2  0.2136  Breathing Problem\n",
       "3  0.1229          Dry Cough\n",
       "4  0.0993  Gastrointestinal "
      ]
     },
     "execution_count": 48,
     "metadata": {},
     "output_type": "execute_result"
    }
   ],
   "source": [
    "ln = X.shape\n",
    "names = X.columns.tolist()\n",
    "feature_importances = sorted(zip(map(lambda x: round(x, 4), modelGB.named_steps['estimator'].feature_importances_),names), reverse=True)\n",
    "\n",
    "feature_importances = pd.DataFrame.from_dict(data=feature_importances)\n",
    "feature_importances.to_csv('data/feature_importances(GB).csv',index=False)\n",
    "\n",
    "feature_importances.head()"
   ]
  },
  {
   "cell_type": "markdown",
   "metadata": {},
   "source": [
    "Lastly, we predicted the results for the COVID-19 variable using the test dataset and evaluated the performance of those results."
   ]
  },
  {
   "cell_type": "code",
   "execution_count": 49,
   "metadata": {},
   "outputs": [
    {
     "data": {
      "text/plain": [
       "array([1, 1, 1, ..., 1, 1, 1])"
      ]
     },
     "execution_count": 49,
     "metadata": {},
     "output_type": "execute_result"
    }
   ],
   "source": [
    "y_test_pred_gb = modelGB.predict(X_test)\n",
    "y_test_pred_gb"
   ]
  },
  {
   "cell_type": "code",
   "execution_count": 50,
   "metadata": {},
   "outputs": [
    {
     "data": {
      "text/plain": [
       "(0.9806807727690893,\n",
       " 0.9875565610859729,\n",
       " 0.9886749716874292,\n",
       " 0.9691477386710652)"
      ]
     },
     "execution_count": 50,
     "metadata": {},
     "output_type": "execute_result"
    }
   ],
   "source": [
    "acc_gb = accuracy_score(y_test, y_test_pred_gb)\n",
    "recall_gb = recall_score(y_test, y_test_pred_gb)\n",
    "prec_gb = precision_score(y_test, y_test_pred_gb)\n",
    "auc_gb = roc_auc_score(y_test, y_test_pred_gb)\n",
    "acc_gb, recall_gb, prec_gb, auc_gb"
   ]
  },
  {
   "cell_type": "code",
   "execution_count": 51,
   "metadata": {},
   "outputs": [
    {
     "data": {
      "image/png": "[encoded data removed]",
      "text/plain": [
       "<Figure size 432x432 with 2 Axes>"
      ]
     },
     "metadata": {},
     "output_type": "display_data"
    }
   ],
   "source": [
    "fig, ax = plt.subplots(1, 1, figsize=(6,6))\n",
    "plt.rcParams.update({'font.size': 14})\n",
    "disp = plot_confusion_matrix(modelGB, X_test, y_test, cmap = cmap, display_labels = [\"No\",\"Yes\"], ax=ax)\n",
    "plt.show()\n",
    "\n",
    "fig.savefig('plots/GB_confusion_matrix.png', bbox_inches='tight')"
   ]
  },
  {
   "cell_type": "markdown",
   "metadata": {},
   "source": [
    "For future use, the GB model can be saved as:"
   ]
  },
  {
   "cell_type": "code",
   "execution_count": 52,
   "metadata": {},
   "outputs": [],
   "source": [
    "pickle.dump(modelGB, open('models/modelGB.pkl', 'wb'))"
   ]
  },
  {
   "cell_type": "markdown",
   "metadata": {},
   "source": [
    "### Error Estimation Boxplot"
   ]
  },
  {
   "cell_type": "markdown",
   "metadata": {},
   "source": [
    "To better understand what happened when the model was built, the cross validation results were evaluated and plotted."
   ]
  },
  {
   "cell_type": "markdown",
   "metadata": {},
   "source": [
    "#### **Accuracy**"
   ]
  },
  {
   "cell_type": "code",
   "execution_count": 53,
   "metadata": {},
   "outputs": [
    {
     "data": {
      "image/png": "[encoded data removed]",
      "text/plain": [
       "<Figure size 720x720 with 1 Axes>"
      ]
     },
     "metadata": {},
     "output_type": "display_data"
    }
   ],
   "source": [
    "sns.set_style(\"darkgrid\", {\"axes.facecolor\": \"0.95\"})\n",
    "\n",
    "data_to_plot = [eachfoldRF_accuracy, eachfoldSVM_accuracy, eachfoldGB_accuracy]\n",
    "fig, ax = plt.subplots(1, 1, figsize=(10, 10))\n",
    "bplot = ax.boxplot(data_to_plot, patch_artist=True)\n",
    "\n",
    "colors=[\"#4C5E66\", \"#A6A6A6\", \"#78909C\"]\n",
    "for patch, color in zip(bplot['boxes'], colors):\n",
    "    patch.set_facecolor(color)\n",
    "\n",
    "ax.set_ylabel('Mean for each fold', fontsize=16)\n",
    "plt.xticks([1, 2, 3], ['RF', 'SVM', 'GB'], fontsize=16, fontweight='bold')\n",
    "plt.ylim(0.70, 1.05)\n",
    "fig.savefig('plots/acc_metrics.png', bbox_inches='tight')"
   ]
  },
  {
   "cell_type": "markdown",
   "metadata": {},
   "source": [
    "#### **Recall**"
   ]
  },
  {
   "cell_type": "code",
   "execution_count": 54,
   "metadata": {},
   "outputs": [
    {
     "data": {
      "image/png": "[encoded data removed]",
      "text/plain": [
       "<Figure size 720x720 with 1 Axes>"
      ]
     },
     "metadata": {},
     "output_type": "display_data"
    }
   ],
   "source": [
    "data_to_plot = [eachfoldRF_recall, eachfoldSVM_recall, eachfoldGB_recall]\n",
    "fig, ax = plt.subplots(1, 1, figsize=(10, 10))\n",
    "bplot = ax.boxplot(data_to_plot, patch_artist=True)\n",
    "\n",
    "colors=[\"#4C5E66\", \"#A6A6A6\", \"#78909C\"]\n",
    "for patch, color in zip(bplot['boxes'], colors):\n",
    "    patch.set_facecolor(color)\n",
    "    \n",
    "ax.set_ylabel('Mean for each fold', fontsize=16)\n",
    "plt.xticks([1, 2, 3], ['RF', 'SVM', 'GB'], fontsize=16, fontweight='bold')\n",
    "plt.ylim(0.70, 1.05)\n",
    "fig.savefig('plots/recall_metrics.png', bbox_inches='tight')"
   ]
  },
  {
   "cell_type": "markdown",
   "metadata": {},
   "source": [
    "#### **Precision**"
   ]
  },
  {
   "cell_type": "code",
   "execution_count": 55,
   "metadata": {},
   "outputs": [
    {
     "data": {
      "image/png": "[encoded data removed]",
      "text/plain": [
       "<Figure size 720x720 with 1 Axes>"
      ]
     },
     "metadata": {},
     "output_type": "display_data"
    }
   ],
   "source": [
    "data_to_plot = [eachfoldRF_precision, eachfoldSVM_precision, eachfoldGB_precision]\n",
    "fig, ax = plt.subplots(1, 1, figsize=(10, 10))\n",
    "bplot = ax.boxplot(data_to_plot, patch_artist=True)\n",
    "\n",
    "colors=[\"#4C5E66\", \"#A6A6A6\", \"#78909C\"]\n",
    "for patch, color in zip(bplot['boxes'], colors):\n",
    "    patch.set_facecolor(color)\n",
    "\n",
    "ax.set_ylabel('Mean for each fold', fontsize=16)\n",
    "plt.xticks([1, 2, 3], ['RF', 'SVM', 'GB'], fontsize=16, fontweight='bold')\n",
    "plt.ylim(0.70, 1.05)\n",
    "fig.savefig('plots/precision_metrics.png', bbox_inches='tight')"
   ]
  },
  {
   "cell_type": "markdown",
   "metadata": {},
   "source": [
    "#### **Area Under the Curve (AUC)**"
   ]
  },
  {
   "cell_type": "code",
   "execution_count": 56,
   "metadata": {},
   "outputs": [
    {
     "data": {
      "image/png": "[encoded data removed]",
      "text/plain": [
       "<Figure size 720x720 with 1 Axes>"
      ]
     },
     "metadata": {},
     "output_type": "display_data"
    }
   ],
   "source": [
    "data_to_plot = [eachfoldRF_roc_auc, eachfoldSVM_roc_auc, eachfoldGB_roc_auc]\n",
    "fig, ax = plt.subplots(1, 1, figsize=(10, 10))\n",
    "bplot = ax.boxplot(data_to_plot, patch_artist=True)\n",
    "\n",
    "colors=[\"#4C5E66\", \"#A6A6A6\", \"#78909C\"]\n",
    "for patch, color in zip(bplot['boxes'], colors):\n",
    "    patch.set_facecolor(color)\n",
    "\n",
    "ax.set_ylabel('Mean for each fold', fontsize=16)\n",
    "plt.xticks([1, 2, 3], ['RF', 'SVM', 'GB'], fontsize=16, fontweight='bold')\n",
    "plt.ylim(0.70, 1.05)\n",
    "fig.savefig('plots/AUC_metrics.png', bbox_inches='tight')"
   ]
  },
  {
   "cell_type": "code",
   "execution_count": 57,
   "metadata": {},
   "outputs": [
    {
     "data": {
      "text/html": [
       "<div>\n",
       "<style scoped>\n",
       "    .dataframe tbody tr th:only-of-type {\n",
       "        vertical-align: middle;\n",
       "    }\n",
       "\n",
       "    .dataframe tbody tr th {\n",
       "        vertical-align: top;\n",
       "    }\n",
       "\n",
       "    .dataframe thead th {\n",
       "        text-align: right;\n",
       "    }\n",
       "</style>\n",
       "<table border=\"1\" class=\"dataframe\">\n",
       "  <thead>\n",
       "    <tr style=\"text-align: right;\">\n",
       "      <th></th>\n",
       "      <th>Accuracy</th>\n",
       "      <th>Recall</th>\n",
       "      <th>Precision</th>\n",
       "      <th>AUC</th>\n",
       "    </tr>\n",
       "    <tr>\n",
       "      <th>Model</th>\n",
       "      <th></th>\n",
       "      <th></th>\n",
       "      <th></th>\n",
       "      <th></th>\n",
       "    </tr>\n",
       "  </thead>\n",
       "  <tbody>\n",
       "    <tr>\n",
       "      <th>Random Forest</th>\n",
       "      <td>0.966881</td>\n",
       "      <td>0.985294</td>\n",
       "      <td>0.974273</td>\n",
       "      <td>0.935997</td>\n",
       "    </tr>\n",
       "    <tr>\n",
       "      <th>Support Vector Machine</th>\n",
       "      <td>0.968721</td>\n",
       "      <td>1.000000</td>\n",
       "      <td>0.962963</td>\n",
       "      <td>0.916256</td>\n",
       "    </tr>\n",
       "    <tr>\n",
       "      <th>Gradient Boosting</th>\n",
       "      <td>0.980681</td>\n",
       "      <td>0.987557</td>\n",
       "      <td>0.988675</td>\n",
       "      <td>0.969148</td>\n",
       "    </tr>\n",
       "  </tbody>\n",
       "</table>\n",
       "</div>"
      ],
      "text/plain": [
       "                        Accuracy    Recall  Precision       AUC\n",
       "Model                                                          \n",
       "Random Forest           0.966881  0.985294   0.974273  0.935997\n",
       "Support Vector Machine  0.968721  1.000000   0.962963  0.916256\n",
       "Gradient Boosting       0.980681  0.987557   0.988675  0.969148"
      ]
     },
     "execution_count": 57,
     "metadata": {},
     "output_type": "execute_result"
    }
   ],
   "source": [
    "models = pd.DataFrame({\n",
    "    'Model': ['Random Forest', 'Support Vector Machine', 'Gradient Boosting'],\n",
    "    'Accuracy': [acc_rf, acc_svm, acc_gb],\n",
    "    'Recall': [recall_rf, recall_svm, recall_gb],\n",
    "    'Precision': [prec_rf, prec_svm, prec_gb],\n",
    "    'AUC':[auc_rf, auc_svm, auc_gb]})\n",
    "models.set_index('Model')"
   ]
  }
 ],
 "metadata": {
  "kernelspec": {
   "display_name": "Python 3",
   "language": "python",
   "name": "python3"
  },
  "language_info": {
   "codemirror_mode": {
    "name": "ipython",
    "version": 3
   },
   "file_extension": ".py",
   "mimetype": "text/x-python",
   "name": "python",
   "nbconvert_exporter": "python",
   "pygments_lexer": "ipython3",
   "version": "3.7.6"
  }
 },
 "nbformat": 4,
 "nbformat_minor": 4
}
